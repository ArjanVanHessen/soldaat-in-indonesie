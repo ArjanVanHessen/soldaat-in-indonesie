{
 "cells": [
  {
   "cell_type": "markdown",
   "metadata": {},
   "source": [
    "# Zoeken op basis van Text & Data Mining\n",
    "\n",
    "\n",
    "## installeren en importeren van modules\n",
    "\n",
    "In dit tutorial vind je uitleg over hoe je het corpus van \"Soldaat in Indonesie\" kunt doorzoeken op basis van Text & Data Mining. Er wordt hierbij gebruik gemaakt van de programmeertaal Python. Dit tutorial is echter geen basisintroductie tot programmeren in Python. De voorbeelden hieronder laten alleen zien hoe je het corpus kunt doorzoeken met behulp van bestaande modules en bibliotheken. Modules zijn kant en klare en herbruikbare ‘pakketjes’ code waarin specifieke functionaliteiten worden aangeboden. De meeste modules zijn generiek, en kunnen dus op verschillende datasets worden toegepast.\n",
    "\n",
    "Voordat je van deze modules gebruik kunt maken moet je ze eerst installeren. Je kunt dit vergelijken met het installeren van een nieuw programma op je computer. Na de installatie van deze modules worden alle functionaliteiten die hierin worden geboden beschikbaar binnen de nieuwe code die je wilt gaan schijven. Modules en bibliotheken kunnen via de onderstaande commando's worden geinstalleerd. Plaats de cursor in de onderstaande cel staan, en klik daarna op [shift] + [Enter]. Hierna verschijnen er, als het goed is, een aantal meldingen over het installatieproces."
   ]
  },
  {
   "cell_type": "code",
   "execution_count": null,
   "metadata": {},
   "outputs": [],
   "source": [
    "import sys\n",
    "!conda install --yes --prefix {sys.prefix} os\n",
    "!conda install --yes --prefix {sys.prefix} nltk\n",
    "!conda install --yes --prefix {sys.prefix} wordcloud\n",
    "!conda install --yes --prefix {sys.prefix} matplotlib"
   ]
  },
  {
   "cell_type": "markdown",
   "metadata": {},
   "source": [
    "In dit tutorial wordt onder meer gebruik gemaakt van de module ‘os’. Deze module biedt een aantal functies waarmee je contact kunt maken met het besturingssysteem van je computer (de letters in 'os' staan voor 'operating system'). Met de functies in deze module kun je onder meer de inhoud van een map op je computer lezen. \n",
    "\n",
    "'nltk' is een verzameling modules die je kunt gebruiken bij analyses op het gebied van Natural Language Processing. Zo kun je paragrafen op laten splitsen in afzonderlijke zinnen, je kunt de stam van een woord of een werkwoord vinden, en je kunt de computer vragen om grammaticale categorieën toe te voegen aan woorden.\n",
    "\n",
    "Als alle modules correct zijn geinstalleerd kunnen deze worden geimporteerd. Zo'n import zorgt er vervolgens voor dat alle functies van deze modules ook in de nieuwe te schrijven code gebruikt kunnen worden. De import zelf geeft, als alle modules goed zijn geinstalleerd, geen meldingen. Je kunt dit vergelijken met het openen van een programma of een app. Als de installatie goed gelukt is, kun je het programma zonder problemen of zonder foutmeldingen openen. \n",
    "\n",
    "Plaats de cursor in de onderstaande cel staan, en klik daarna op [shift] + [Enter]. Als alle modules goed zijn geinstalleerd verschijnen er hierna geen meldingen. "
   ]
  },
  {
   "cell_type": "code",
   "execution_count": 23,
   "metadata": {},
   "outputs": [],
   "source": [
    "import os\n",
    "from os.path import isfile, join , isdir\n",
    "import string\n",
    "import nltk\n",
    "from nltk.tokenize import sent_tokenize, word_tokenize\n",
    "import xml.etree.ElementTree as ET\n",
    "import matplotlib.pyplot as plt\n",
    "from kitlvTdm import *\n",
    "\n",
    "from IPython.display import Markdown, display\n",
    "def printmd(string):\n",
    "    display(Markdown(string))"
   ]
  },
  {
   "cell_type": "markdown",
   "metadata": {},
   "source": [
    "De module ‘kitlvTdm’ is specifiek ontwikkeld voor dit KITLV corpus van memoires en bevat een aantal basisoperaties op het gebied van Text & Data Mining.\n"
   ]
  },
  {
   "cell_type": "markdown",
   "metadata": {},
   "source": [
    "## Zoeken naar een specifieke term\n",
    "\n",
    "De onderstaande code laat zien hoe je op zoek kunt gaan naar egodocumenten die een bepaald trefwoord bevatten. Het woord dat gezocht moet worden moet worden opgegeven als waarde van de variable '*searchTerm*'. De waarde van de variabele '*searchTerm*', tussen de twee aanhalingstekens, kan worden aangepast. \n",
    "\n",
    "Er wordt in de onderstaande code gebruik gemaakt van de module 're', waarmee je kunt zoeken naar zogenaamde reguliere expressies of woordpatronen. Wanneer de code wordt uitgevoerd toont het programma een lijst van alle documenten waar de opgegeven term die in voorkomt, samen met alle gevonden passages. De grootte van deze passages kan worden bepaald met de variabele 'window'. Het getal dat wordt opgegeven bepaalt het aantal woorden voorafgaand aan en volgend op de gebruikte term.\n",
    "\n",
    "Tijdens het digitaliseren van de egocumenten in het corpus van 'Soldaat in Indonesië' hebben alle documenten een eigen numerieke code gekregen. Deze codes zijn ook gebruikt in de bestandsnamen. De functie '*showTitle()*', in de module kitlvTdm, zoekt de volledige titles bij deze documentcodes. Er wordt hierbij gebruik gemaakt van een bestand met de naam '*metadata.csv*'.\n",
    "\n",
    "Deze specifieke vorm van tekstanalyse wordt ook wel 'concordantie' genoemd. Een andere veelgebruikte term is 'keywords in context' (KWIC). "
   ]
  },
  {
   "cell_type": "code",
   "execution_count": 25,
   "metadata": {},
   "outputs": [
    {
     "data": {
      "text/markdown": [
       "<span style='font-weight: bold; color:#6b0617; '>Occurrences in De vergeten dagboeken (03392.txt)</span>"
      ],
      "text/plain": [
       "<IPython.core.display.Markdown object>"
      ]
     },
     "metadata": {},
     "output_type": "display_data"
    },
    {
     "name": "stdout",
     "output_type": "stream",
     "text": [
      " ... preek mee isan onze baboe staat ons na te  ... \n",
      "\n",
      " ... en lachen naar de baboes die ons lekkere dingen  ... \n",
      "\n",
      " ... zo ook mina de baboe 21e lacht verleidelijk tegen  ... \n",
      "\n",
      " ... de mogelijkheden om een baboe te krijgen dick heeft  ... \n",
      "\n",
      " ... binnen het uur een baboe komt ik sta er  ... \n",
      "\n",
      " ... één woord een model baboe donderdag 6 februari 1947  ... \n",
      "\n",
      " ... het stoeien met de baboe van hier naast eerst  ... \n",
      "\n",
      " ... protest stuur ik de baboe naar haar eigen huis  ... \n",
      "\n",
      " ... hoe al die andere baboe s nog mogen heten  ... \n",
      "\n",
      " ... ik had aan die baboe nog wel gevraagd waar  ... \n",
      "\n",
      " ... zijn met itje de baboe van de verbindingspost een  ... \n",
      "\n",
      " ... ze teruggegaan zijn de baboe lacht hun uit   ... \n",
      "\n",
      " ... ik dat kees onze baboe onna mee neemt onder  ... \n",
      "\n",
      " ... heel gedonder over de baboes eerst willen ze alle  ... \n",
      "\n",
      " ... van rundberg met de baboe van de v.p die  ... \n",
      "\n",
      " ... telefoonsectie vragen of hun baboe ook in de weap  ... \n",
      "\n",
      " ... het eind moeten alle baboes in een drietonner maar  ... \n",
      "\n",
      " ... een beetje overspannen en baboe is er vandaag niet  ... \n",
      "\n",
      " ... met een heel stel baboes een leuk ritje naar  ... \n",
      "\n",
      " ... en vraag naar een baboe die voor ons wil  ... \n",
      "\n",
      " ... het grietje dat de baboe om twee uur bij  ... \n",
      "\n",
      " ... deur ze hebben een baboe ik loop mee drie  ... \n",
      "\n",
      " ... maar we hebben een baboe vrijdag 27 februari 1948  ... \n",
      "\n",
      " ... geen man en geen baboe te zien woensdag 3  ... \n",
      "\n",
      " ... reusachtig op met deze baboe zal het wel gaan  ... \n",
      "\n",
      " ... ze blijkt vroeger als baboe in bandoeng gewerkt te  ... \n",
      "\n",
      " ... genie koos en de baboes onna en roekia die  ... \n",
      "\n",
      " ... het hok achter de baboes gegooid heeft omdat hij  ... \n",
      "\n",
      " ... thee en koek de baboes van de verbinding hebben  ... \n",
      "\n"
     ]
    },
    {
     "data": {
      "text/markdown": [
       "<span style='font-weight: bold; color:#6b0617; '>Occurrences in Herinneringen van een Roodborstje : verhalen uit de periode 1947-1950 doorgebracht bij het 4e bataljon 5e Regiment Infanterie op Oost-Java in het voormalige Nederlands Oost-Indie? (03394.txt)</span>"
      ],
      "text/plain": [
       "<IPython.core.display.Markdown object>"
      ]
     },
     "metadata": {},
     "output_type": "display_data"
    },
    {
     "name": "stdout",
     "output_type": "stream",
     "text": [
      " ... 11 buitenstaander 25 12 baboe 27 12 aapje 30  ... \n",
      "\n",
      " ... besefte ik dat mijn baboe mij voor een soort  ... \n",
      "\n",
      " ... mij dat dit de baboes waren die waren de  ... \n",
      "\n",
      " ... soldaten was organiek één baboe beschikbaar zon n p  ... \n",
      "\n",
      " ... beschikbaar zon n p baboe was in de voeding  ... \n",
      "\n",
      " ... zegt dat ze graag baboe bij de soldaten wil  ... \n",
      "\n",
      " ... alle zaken regelde betreffende baboes en djongossen nam hij  ... \n",
      "\n",
      " ... kabaja terwijl al onze baboes op len blote voeten  ... \n",
      "\n",
      " ... van het organieke aantal baboes en dat hij haar  ... \n",
      "\n",
      " ... deze panden vonden de baboes onderdak eén en ander  ... \n",
      "\n"
     ]
    },
    {
     "data": {
      "text/markdown": [
       "<span style='font-weight: bold; color:#6b0617; '>Occurrences in Het reizende bataljon : herdenkingsboek 8 RS (03395.txt)</span>"
      ],
      "text/plain": [
       "<IPython.core.display.Markdown object>"
      ]
     },
     "metadata": {},
     "output_type": "display_data"
    },
    {
     "name": "stdout",
     "output_type": "stream",
     "text": [
      " ... een van hun vele baboes aan te smeren die  ... \n",
      "\n"
     ]
    },
    {
     "data": {
      "text/markdown": [
       "<span style='font-weight: bold; color:#6b0617; '>Occurrences in Als de natuur zwijgt (1945) (03396.txt)</span>"
      ],
      "text/plain": [
       "<IPython.core.display.Markdown object>"
      ]
     },
     "metadata": {},
     "output_type": "display_data"
    },
    {
     "name": "stdout",
     "output_type": "stream",
     "text": [
      " ... meeste secties hebben een baboe die voor hen dagelijks  ... \n",
      "\n",
      " ... meeste secties hebben een baboe die voor hen dagelijks  ... \n",
      "\n",
      " ... me daar warempel onze sectiebaboe op het balkon dagelijks  ... \n",
      "\n",
      " ... vinden we hier een baboe voor onze was ondanks  ... \n",
      "\n"
     ]
    },
    {
     "data": {
      "text/markdown": [
       "<span style='font-weight: bold; color:#6b0617; '>Occurrences in Op de plaats rust (03398.txt)</span>"
      ],
      "text/plain": [
       "<IPython.core.display.Markdown object>"
      ]
     },
     "metadata": {},
     "output_type": "display_data"
    },
    {
     "name": "stdout",
     "output_type": "stream",
     "text": [
      " ... goed vinden met onze baboes voor een geliefd decor  ... \n",
      "\n",
      " ... nu kijkt zelfs de baboe niet stel je voor  ... \n",
      "\n"
     ]
    },
    {
     "data": {
      "text/markdown": [
       "<span style='font-weight: bold; color:#6b0617; '>Occurrences in Herinneringen : memoires van een christen, militair en politicus (03399.txt)</span>"
      ],
      "text/plain": [
       "<IPython.core.display.Markdown object>"
      ]
     },
     "metadata": {},
     "output_type": "display_data"
    },
    {
     "data": {
      "text/markdown": [
       "<span style='font-weight: bold; color:#6b0617; '>Occurrences in Voor ik het nooit vergeet : herinneringen van een 4-2 R.I'er op Noord-Sumatra : gebaseerd op dagboekaantekeningen over de periode van 7 november 1946 tot en met 24 februari 1950 (03400.txt)</span>"
      ],
      "text/plain": [
       "<IPython.core.display.Markdown object>"
      ]
     },
     "metadata": {},
     "output_type": "display_data"
    },
    {
     "name": "stdout",
     "output_type": "stream",
     "text": [
      " ... het jeukt ontzettend de baboe is net op bezoek  ... \n",
      "\n",
      " ... katoen aan de honderdvijftig baboes en koelies van ons  ... \n",
      "\n",
      " ... 77 talen aan de baboes en koelies druk dus  ... \n",
      "\n",
      " ... hebben recht op één baboe voor de een complete  ... \n",
      "\n",
      " ... ik hoor buiten de baboe schuifelen over de pendopo  ... \n",
      "\n",
      " ... te delen aan de baboes stukje voor de gong  ... \n",
      "\n",
      " ... opgediend door onze onvolprezen baboe marianne omdat de schaal  ... \n",
      "\n",
      " ... de baboe en de djongos waren  ... \n",
      "\n"
     ]
    },
    {
     "data": {
      "text/markdown": [
       "<span style='font-weight: bold; color:#6b0617; '>Occurrences in Orde en vrede' : de humanitaire/militaire missie in Nederlands Oost-Indië 1945-1950 (1997) (03402.txt)</span>"
      ],
      "text/plain": [
       "<IPython.core.display.Markdown object>"
      ]
     },
     "metadata": {},
     "output_type": "display_data"
    },
    {
     "name": "stdout",
     "output_type": "stream",
     "text": [
      " ... was geweest om een baboe te organiseren de onderkomens  ... \n",
      "\n"
     ]
    },
    {
     "data": {
      "text/markdown": [
       "<span style='font-weight: bold; color:#6b0617; '>Occurrences in Indonesië op het tweede gezicht : een laat weerzien met terugblikken naar toen (03404.txt)</span>"
      ],
      "text/plain": [
       "<IPython.core.display.Markdown object>"
      ]
     },
     "metadata": {},
     "output_type": "display_data"
    },
    {
     "name": "stdout",
     "output_type": "stream",
     "text": [
      " ... gebeurt er met de baboe en de djongos ais  ... \n",
      "\n",
      " ... voor alles babi varken baboe babu hulp in de  ... \n",
      "\n"
     ]
    },
    {
     "data": {
      "text/markdown": [
       "<span style='font-weight: bold; color:#6b0617; '>Occurrences in 50 jaar na dato,' 1946-1996 (03405.txt)</span>"
      ],
      "text/plain": [
       "<IPython.core.display.Markdown object>"
      ]
     },
     "metadata": {},
     "output_type": "display_data"
    },
    {
     "name": "stdout",
     "output_type": "stream",
     "text": [
      " ... 7 page 10 baboe en de djongos wie  ... \n",
      "\n",
      " ... ze niet gekend jje baboe en de djongos die  ... \n",
      "\n",
      " ... krent wat had zon baboe het moeilijk en zwaar  ... \n",
      "\n",
      " ... 3apoen dat moest de baboe hebben voor het wassen  ... \n",
      "\n"
     ]
    },
    {
     "data": {
      "text/markdown": [
       "<span style='font-weight: bold; color:#6b0617; '>Occurrences in Officieren onder de Indie?-veteranen zijn geneigd de wandaden van toen op de KNIL-soldaten af te wenden (03406.txt)</span>"
      ],
      "text/plain": [
       "<IPython.core.display.Markdown object>"
      ]
     },
     "metadata": {},
     "output_type": "display_data"
    },
    {
     "data": {
      "text/markdown": [
       "<span style='font-weight: bold; color:#6b0617; '>Occurrences in Thuisreis van het 3e bataljon Stoottroepen met het M.S. Kota-Inten, Tandjong-Priok/Rotterdam (03409.txt)</span>"
      ],
      "text/plain": [
       "<IPython.core.display.Markdown object>"
      ]
     },
     "metadata": {},
     "output_type": "display_data"
    },
    {
     "name": "stdout",
     "output_type": "stream",
     "text": [
      " ... groet aan de vertrouwde baboes en djonggossen en aan  ... \n",
      "\n",
      " ... woordvertalina patria kampong toekankajoe baboe djongos havengoedang koelie mandoer  ... \n",
      "\n"
     ]
    },
    {
     "data": {
      "text/markdown": [
       "<span style='font-weight: bold; color:#6b0617; '>Occurrences in Militaire politie in Nederlands-Indië 1945-1951 (03410.txt)</span>"
      ],
      "text/plain": [
       "<IPython.core.display.Markdown object>"
      ]
     },
     "metadata": {},
     "output_type": "display_data"
    },
    {
     "name": "stdout",
     "output_type": "stream",
     "text": [
      " ... detachement diensten verrichtte als baboe-tjoetji wasvrouw en koki kokki  ... \n",
      "\n",
      " ... werd dagelijks door de wasbaboes één baboe verzorgde zes  ... \n",
      "\n",
      " ... door de wasbaboes één baboe verzorgde zes man gereinigd  ... \n",
      "\n",
      " ... dit leverde voor de baboes veelal analfabeet geen problemen  ... \n",
      "\n",
      " ... het burgerpersoneel zoals de baboes djongossen koks technischen administratief  ... \n",
      "\n"
     ]
    },
    {
     "data": {
      "text/markdown": [
       "<span style='font-weight: bold; color:#6b0617; '>Occurrences in De Indie?gangers : over de in de jaren 1945-1950 uit Hardinxveld en Giessendam uitgezonden militairen in de oorlog met de Republiek Indonesie? (03411.txt)</span>"
      ],
      "text/plain": [
       "<IPython.core.display.Markdown object>"
      ]
     },
     "metadata": {},
     "output_type": "display_data"
    },
    {
     "name": "stdout",
     "output_type": "stream",
     "text": [
      " ... inlandse vrouwen vooral de wasbaboes in de kazernes zijn  ... \n",
      "\n",
      " ... en losten en de baboes met zes man hadden  ... \n",
      "\n",
      " ... man hadden we een baboe voor het opruimen van  ... \n",
      "\n",
      " ... het eigen personeel zoals baboes en djongossen weinig contact  ... \n",
      "\n",
      " ... bahasa indonesia indonesische taal baboe vrouwelijke indonesische huisbediende of  ... \n",
      "\n"
     ]
    },
    {
     "data": {
      "text/markdown": [
       "<span style='font-weight: bold; color:#6b0617; '>Occurrences in Vertel het je kinderen, veteraan! (03412.txt)</span>"
      ],
      "text/plain": [
       "<IPython.core.display.Markdown object>"
      ]
     },
     "metadata": {},
     "output_type": "display_data"
    },
    {
     "data": {
      "text/markdown": [
       "<span style='font-weight: bold; color:#6b0617; '>Occurrences in Herinneringen = Memoirs (03414.txt)</span>"
      ],
      "text/plain": [
       "<IPython.core.display.Markdown object>"
      ]
     },
     "metadata": {},
     "output_type": "display_data"
    },
    {
     "name": "stdout",
     "output_type": "stream",
     "text": [
      " ... al vlug een geschikte baboe die ons trouw gediend  ... \n",
      "\n",
      " ... he had brought a baboe with him from java  ... \n",
      "\n"
     ]
    },
    {
     "data": {
      "text/markdown": [
       "<span style='font-weight: bold; color:#6b0617; '>Occurrences in De wedergeboorte van het Vliegveld Pakan Baroe tijdens en na de tweede politionele actie (03415.txt)</span>"
      ],
      "text/plain": [
       "<IPython.core.display.Markdown object>"
      ]
     },
     "metadata": {},
     "output_type": "display_data"
    },
    {
     "name": "stdout",
     "output_type": "stream",
     "text": [
      " ... nu recht op een baboe   ... \n",
      "\n",
      " ... burgers en zelfs de baboe hielp mee het halen  ... \n",
      "\n",
      " ... namen van hun roema baboe waarop voor eenmaal de  ... \n",
      "\n",
      " ... hadden het met onze baboe goed getroffen ze was  ... \n",
      "\n",
      " ... jggst fa voor onze baboe kwam nog een verrassing  ... \n",
      "\n",
      " ... van ah min onze baboe boeng de trouwe djongos  ... \n",
      "\n"
     ]
    },
    {
     "data": {
      "text/markdown": [
       "<span style='font-weight: bold; color:#6b0617; '>Occurrences in De grote patrouille : belevenissen van het bataljon 5-4 R.I. in Zuid- en Oost-Borneo, Zuid-Sumatra en Oost-Java in de jaren 1947, 1948, 1949, 1950 (03416.txt)</span>"
      ],
      "text/plain": [
       "<IPython.core.display.Markdown object>"
      ]
     },
     "metadata": {},
     "output_type": "display_data"
    },
    {
     "name": "stdout",
     "output_type": "stream",
     "text": [
      " ... veel te doen de baboe zorgt voor de was  ... \n",
      "\n",
      " ... binnenlands bestuur bat bataljon baboe dienstmeid of wasvrouw beland  ... \n",
      "\n"
     ]
    },
    {
     "data": {
      "text/markdown": [
       "<span style='font-weight: bold; color:#6b0617; '>Occurrences in En weer werd de vijand verslagen' : dagboek Hein Peeters, Tjipanas 21 juli 1947 : de Baarlose jongens in Indie? 1945-1950 (03417.txt)</span>"
      ],
      "text/plain": [
       "<IPython.core.display.Markdown object>"
      ]
     },
     "metadata": {},
     "output_type": "display_data"
    },
    {
     "name": "stdout",
     "output_type": "stream",
     "text": [
      " ... maanden honger geleden de baboes hebben gestaakt omdat ze  ... \n",
      "\n",
      " ... page 174 verklarende woordenlijst baboe belanda demarcatielijn dessa extremist  ... \n",
      "\n"
     ]
    },
    {
     "data": {
      "text/markdown": [
       "<span style='font-weight: bold; color:#6b0617; '>Occurrences in Levenslang op patrouille (1946) (03418.txt)</span>"
      ],
      "text/plain": [
       "<IPython.core.display.Markdown object>"
      ]
     },
     "metadata": {},
     "output_type": "display_data"
    },
    {
     "name": "stdout",
     "output_type": "stream",
     "text": [
      " ... bestond nog niet de baboes deden de was de  ... \n",
      "\n",
      " ... op zijn qui-vive de baboes en djongossen hadden we  ... \n",
      "\n",
      " ... wat anders dan de baboes van sapuran   ... \n",
      "\n",
      " ... ik als tolk mijn was-baboe asmina mee na afloop  ... \n",
      "\n",
      " ... voor niets vroeg de baboe verbijsterd   ... \n",
      "\n",
      " ... bevestigend nu wist de baboe genoeg in het bijzijn  ... \n",
      "\n",
      " ... ik pas dat mijn baboe mij voor een soort  ... \n",
      "\n"
     ]
    },
    {
     "data": {
      "text/markdown": [
       "<span style='font-weight: bold; color:#6b0617; '>Occurrences in Hallo, hallo, hier zijn we weer ... : Henk Wieringa in Nederlands-Indie? (1946-1949) (03419.txt)</span>"
      ],
      "text/plain": [
       "<IPython.core.display.Markdown object>"
      ]
     },
     "metadata": {},
     "output_type": "display_data"
    },
    {
     "name": "stdout",
     "output_type": "stream",
     "text": [
      " ... met 5 man een baboe s morgens om half  ... \n",
      "\n",
      " ... heb je dan de baboe is eventjes water halen  ... \n",
      "\n",
      " ... bed toen had de baboe minie heet ze al  ... \n",
      "\n",
      " ... inspectie houden onder de baboes want ze hebben de  ... \n",
      "\n",
      " ... om tegen minie mn baboe een vloek te uiten  ... \n",
      "\n",
      " ... hebben ook een nieuwe baboe want de oude beviel  ... \n",
      "\n",
      " ... me buiten zijn de baboes aan het zingen of  ... \n",
      "\n",
      " ... al weer huriy-up de baboes staan al weer op  ... \n",
      "\n"
     ]
    },
    {
     "data": {
      "text/markdown": [
       "<span style='font-weight: bold; color:#6b0617; '>Occurrences in Zeemilicien bij de Mariniersbrigade (03420.txt)</span>"
      ],
      "text/plain": [
       "<IPython.core.display.Markdown object>"
      ]
     },
     "metadata": {},
     "output_type": "display_data"
    },
    {
     "name": "stdout",
     "output_type": "stream",
     "text": [
      " ... hij een opmerking richting baboe of andere vrouw maakte  ... \n",
      "\n",
      " ... heilige slapen met de baboe het heeft geen zin  ... \n",
      "\n",
      " ... dan ook met de baboes werd geslapen teneinde de  ... \n",
      "\n",
      " ... of de ziekenverpleger de baboes eerst keurden   ... \n",
      "\n",
      " ... is getrouwd met zijn baboe dat was wel niet  ... \n",
      "\n"
     ]
    },
    {
     "data": {
      "text/markdown": [
       "<span style='font-weight: bold; color:#6b0617; '>Occurrences in Naar de Oost : oorlogsvrijwilligers naar Nederlands Indie? 1945-1948 (03421.txt)</span>"
      ],
      "text/plain": [
       "<IPython.core.display.Markdown object>"
      ]
     },
     "metadata": {},
     "output_type": "display_data"
    },
    {
     "name": "stdout",
     "output_type": "stream",
     "text": [
      " ... 2e baboee diepen in een gebouwtje  ... \n",
      "\n",
      " ... met tuiten en de baboes keken weemoedig daar gingen  ... \n",
      "\n"
     ]
    },
    {
     "data": {
      "text/markdown": [
       "<span style='font-weight: bold; color:#6b0617; '>Occurrences in Gedenkboek oud-Indie?gangers gemeente Dalfsen 1945-1950 (03422.txt)</span>"
      ],
      "text/plain": [
       "<IPython.core.display.Markdown object>"
      ]
     },
     "metadata": {},
     "output_type": "display_data"
    },
    {
     "name": "stdout",
     "output_type": "stream",
     "text": [
      " ... 28 enige baboes werden bedreigd door peloppers  ... \n",
      "\n",
      " ... en tussen dat alles baboes en djongossen die graag  ... \n",
      "\n",
      " ... omgekeerd en kwamen de baboes binnen om de rommel  ... \n",
      "\n"
     ]
    },
    {
     "data": {
      "text/markdown": [
       "<span style='font-weight: bold; color:#6b0617; '>Occurrences in De hemelse kwartiermaker : brieven van een jonge Maastrichtse oorlogsvrijwilliger aan zijn thuisfront, 1945-1947 (03423.txt)</span>"
      ],
      "text/plain": [
       "<IPython.core.display.Markdown object>"
      ]
     },
     "metadata": {},
     "output_type": "display_data"
    },
    {
     "name": "stdout",
     "output_type": "stream",
     "text": [
      " ... gratis wm liffiéö pr baboes aan de was juli  ... \n",
      "\n",
      " ... in n hut de baboe haalt iedere morgen de  ... \n",
      "\n"
     ]
    },
    {
     "data": {
      "text/markdown": [
       "<span style='font-weight: bold; color:#6b0617; '>Occurrences in Soldaat in Indie?, 1948-1950, 5-8-RI (03426.txt)</span>"
      ],
      "text/plain": [
       "<IPython.core.display.Markdown object>"
      ]
     },
     "metadata": {},
     "output_type": "display_data"
    },
    {
     "name": "stdout",
     "output_type": "stream",
     "text": [
      " ... ssüü toean besar dankzij baboe p h page 17  ... \n",
      "\n"
     ]
    },
    {
     "data": {
      "text/markdown": [
       "<span style='font-weight: bold; color:#6b0617; '>Occurrences in Na vijftig jaar : dagboekherinneringen van een soldaat in Indie?, 1949-1950 (03427.txt)</span>"
      ],
      "text/plain": [
       "<IPython.core.display.Markdown object>"
      ]
     },
     "metadata": {},
     "output_type": "display_data"
    },
    {
     "name": "stdout",
     "output_type": "stream",
     "text": [
      " ... gauw mandiën en de baboes maakten de geweren schoon  ... \n",
      "\n",
      " ... vrijgezel hij heeft een baboe voor zich alleen wij  ... \n",
      "\n",
      " ... hebben we organiek een baboe per 8 of 10  ... \n",
      "\n",
      " ... iffl wnh hl onze baboe van het peloton siti  ... \n",
      "\n",
      " ... peloton siti was onze baboe in probolinggo was ze  ... \n",
      "\n",
      " ... hadden we nog meer baboes maar de namen zijn  ... \n",
      "\n",
      " ... ontschoten siti was de hoofdbaboe we hadden per 8  ... \n",
      "\n",
      " ... per 8 man een baboe ze hielpen ook de  ... \n",
      "\n",
      " ... burgermaatschappij als theeplukster of baboe bij een planter   ... \n",
      "\n",
      " ... verliefd werd op een baboe zorgde siti dat er  ... \n",
      "\n",
      " ... ergste geval werd de baboe weggestuurd siti bleef tot  ... \n",
      "\n"
     ]
    },
    {
     "data": {
      "text/markdown": [
       "<span style='font-weight: bold; color:#6b0617; '>Occurrences in 2046 : 7de A.A.T. Compagnie O.V.W.-ers (03428.txt)</span>"
      ],
      "text/plain": [
       "<IPython.core.display.Markdown object>"
      ]
     },
     "metadata": {},
     "output_type": "display_data"
    },
    {
     "name": "stdout",
     "output_type": "stream",
     "text": [
      " ... ging open en vier baboes kwamen sloffend naar binnen  ... \n",
      "\n",
      " ... voor hun nokken de baboes af voor de de  ... \n",
      "\n",
      " ... het lag halverwege de merbaboe een 3142 meter hoge  ... \n",
      "\n",
      " ... indië gearriveerd waren met baboes die zich in de  ... \n",
      "\n"
     ]
    },
    {
     "data": {
      "text/markdown": [
       "<span style='font-weight: bold; color:#6b0617; '>Occurrences in \"Soldaat E. Kerkdijk : registratienummer 25.12.12.159 (03429.txt)</span>"
      ],
      "text/plain": [
       "<IPython.core.display.Markdown object>"
      ]
     },
     "metadata": {},
     "output_type": "display_data"
    },
    {
     "name": "stdout",
     "output_type": "stream",
     "text": [
      " ... meeste koelies djongossen en baboes niet werkten en tevens  ... \n",
      "\n",
      " ... hangt hebben zelfs de baboes en de djongossen in  ... \n",
      "\n",
      " ... 5 wagens met meubilair baboes djongossen enz enz en  ... \n",
      "\n",
      " ... van post tjibaroesa staan baboes djongossen te gillen te  ... \n",
      "\n"
     ]
    },
    {
     "data": {
      "text/markdown": [
       "<span style='font-weight: bold; color:#6b0617; '>Occurrences in Portret mozaik spandrich Bonnet : Belanda - Indonesia - Belanda = Portret in mozaiek van soldaat 1e klas Kees Bonnet : Nederland - Indonesie - Nederland. (03430.txt)</span>"
      ],
      "text/plain": [
       "<IPython.core.display.Markdown object>"
      ]
     },
     "metadata": {},
     "output_type": "display_data"
    },
    {
     "name": "stdout",
     "output_type": "stream",
     "text": [
      " ... rond de waterput de baboes doende met de was  ... \n",
      "\n",
      " ... ook wacht gehad de baboe was nog op de  ... \n",
      "\n",
      " ... een grap met de baboe hij sprak immers zo  ... \n",
      "\n",
      " ... zo goed maleisnam de baboe in zijn armen en  ... \n",
      "\n",
      " ... bomen jmm êëm de baboes twee worden omarmd door  ... \n",
      "\n",
      " ... een badhokje toegewezen de baboe kwam naar mij toe  ... \n",
      "\n",
      " ... mijn privékamer een andere baboe kwam ook aan mij  ... \n",
      "\n",
      " ... dat ik al een baboe had de twee baboes  ... \n",
      "\n",
      " ... baboe had de twee baboes kregen ruzie om mij  ... \n",
      "\n",
      " ... de baboe helpen op een morgen  ... \n",
      "\n",
      " ... kamer eén van de baboeszij was nog niet zo  ... \n",
      "\n",
      " ... inroepen van de andere baboes wanneer wij haar wat  ... \n",
      "\n",
      " ... kamer te vegen de baboe keek even op zij  ... \n",
      "\n",
      " ... weg met een andere baboe kwam zij terug waarom  ... \n",
      "\n",
      " ... de apen 21 de baboe helpen 24 de bedden  ... \n",
      "\n"
     ]
    },
    {
     "data": {
      "text/markdown": [
       "<span style='font-weight: bold; color:#6b0617; '>Occurrences in Een stilte die spreekt : herdenken in diversiteit (03431.txt)</span>"
      ],
      "text/plain": [
       "<IPython.core.display.Markdown object>"
      ]
     },
     "metadata": {},
     "output_type": "display_data"
    },
    {
     "name": "stdout",
     "output_type": "stream",
     "text": [
      " ... gegaan naar mijn oude kinderbaboe ik vond haar niet  ... \n",
      "\n"
     ]
    },
    {
     "data": {
      "text/markdown": [
       "<span style='font-weight: bold; color:#6b0617; '>Occurrences in De laatste patrouille (1949) (03432.txt)</span>"
      ],
      "text/plain": [
       "<IPython.core.display.Markdown object>"
      ]
     },
     "metadata": {},
     "output_type": "display_data"
    },
    {
     "data": {
      "text/markdown": [
       "<span style='font-weight: bold; color:#6b0617; '>Occurrences in De rijst is al pap geworden : Indie?-veteranen vertellen hun verhaal (03433.txt)</span>"
      ],
      "text/plain": [
       "<IPython.core.display.Markdown object>"
      ]
     },
     "metadata": {},
     "output_type": "display_data"
    },
    {
     "name": "stdout",
     "output_type": "stream",
     "text": [
      " ... page 21 m*r 13 baboes doen de was 14  ... \n",
      "\n",
      " ... beschikking meest jonge vrouwen baboes en jonge mannen djongossen  ... \n",
      "\n",
      " ... met mijn baboe santani ging het niet  ... \n",
      "\n",
      " ... jongens leefden met hun baboe als getrouwde stellen page  ... \n",
      "\n",
      " ... ging een van de baboes naar tjermee ik vroeg  ... \n",
      "\n",
      " ... moeilijk leven gehad als baboe voor de hollanders werken  ... \n",
      "\n"
     ]
    },
    {
     "data": {
      "text/markdown": [
       "<span style='font-weight: bold; color:#6b0617; '>Occurrences in Gezagsgetrouw : van buitenpost naar... buitenpost (03434.txt)</span>"
      ],
      "text/plain": [
       "<IPython.core.display.Markdown object>"
      ]
     },
     "metadata": {},
     "output_type": "display_data"
    },
    {
     "data": {
      "text/markdown": [
       "<span style='font-weight: bold; color:#6b0617; '>Occurrences in Mijn leven : autobiografie (03435.txt)</span>"
      ],
      "text/plain": [
       "<IPython.core.display.Markdown object>"
      ]
     },
     "metadata": {},
     "output_type": "display_data"
    },
    {
     "name": "stdout",
     "output_type": "stream",
     "text": [
      " ... doen daar hadden ze baboes voor javaanse meisjes die  ... \n",
      "\n",
      " ... een brieije schreef onze baboes werkten goe je had  ... \n",
      "\n",
      " ... gewoon zijn gang onze baboes vonden er ook niets  ... \n",
      "\n",
      " ... een stuk of tien baboes rond daarna was er  ... \n",
      "\n"
     ]
    },
    {
     "data": {
      "text/markdown": [
       "<span style='font-weight: bold; color:#6b0617; '>Occurrences in De laatste patrouille' : episode 1946-1950, Midden-Java (03437.txt)</span>"
      ],
      "text/plain": [
       "<IPython.core.display.Markdown object>"
      ]
     },
     "metadata": {},
     "output_type": "display_data"
    },
    {
     "name": "stdout",
     "output_type": "stream",
     "text": [
      " ... er maar zijn kon.(alle baboe gezichten verbleekten hierbij verdomme  ... \n",
      "\n",
      " ... naar de mooie slanke baboes en nam me voor  ... \n",
      "\n",
      " ... omhoog zullen we onze baboe vragen of ze zich  ... \n",
      "\n",
      " ... heen.\"we vragen of onze baboe hem niet een paar  ... \n",
      "\n",
      " ... beetje met een mooie baboe en genoten zelfs van  ... \n",
      "\n"
     ]
    },
    {
     "data": {
      "text/markdown": [
       "<span style='font-weight: bold; color:#6b0617; '>Occurrences in Dikke zoen voor Moeke : brieven van een soldaat in Indië 1949-1950 (03438.txt)</span>"
      ],
      "text/plain": [
       "<IPython.core.display.Markdown object>"
      ]
     },
     "metadata": {},
     "output_type": "display_data"
    },
    {
     "name": "stdout",
     "output_type": "stream",
     "text": [
      " ... met banjak platen twee baboes doen de was en  ... \n",
      "\n",
      " ... we hebben een stel baboes die zijn allemaal stapelgek  ... \n",
      "\n",
      " ... hoor nu durven de baboes niet meer van de  ... \n",
      "\n",
      " ... als trommels gebruikt de baboe zegt tegen me banjak  ... \n",
      "\n",
      " ... met een bel de baboes hebben zich een stuip  ... \n",
      "\n",
      " ... moet ik al die baboes laten doen wmm i  ... \n",
      "\n",
      " ... ik lachen om de baboe die we mee hadden  ... \n",
      "\n",
      " ... ben wasbaas van de baboes maar ik geloof het  ... \n",
      "\n",
      " ... inleveren voor nieuw de baboe denkt dat we steeds  ... \n",
      "\n",
      " ... zijn twee van onze baboes er vandoor gegaan met  ... \n",
      "\n",
      " ... geen puistje heeft die baboes rinum en astana die  ... \n",
      "\n",
      " ... aloon2 stadsplein anak2 kinderen baboeshuisof kindermeid banjak veel barang  ... \n",
      "\n"
     ]
    },
    {
     "data": {
      "text/markdown": [
       "<span style='font-weight: bold; color:#6b0617; '>Occurrences in 432 - B.I. opdat wij niet vergeten 7 - 1 R.I. (03439.txt)</span>"
      ],
      "text/plain": [
       "<IPython.core.display.Markdown object>"
      ]
     },
     "metadata": {},
     "output_type": "display_data"
    },
    {
     "name": "stdout",
     "output_type": "stream",
     "text": [
      " ... de kampong van onze baboe ook daar blijft het  ... \n",
      "\n",
      " ... goede zorgen van een baboe kan ik iedere dag  ... \n",
      "\n",
      " ... wassende baboes zo nu nog mijn  ... \n",
      "\n",
      " ... op of wij de baboe van het volk zijn  ... \n",
      "\n",
      " ... strijken als de beste baboe die we ooit in  ... \n",
      "\n"
     ]
    },
    {
     "data": {
      "text/markdown": [
       "<span style='font-weight: bold; color:#6b0617; '>Occurrences in Spinninghe : Sevenumse Indie?gangers, de vleegende Piee?lhaas (03440.txt)</span>"
      ],
      "text/plain": [
       "<IPython.core.display.Markdown object>"
      ]
     },
     "metadata": {},
     "output_type": "display_data"
    },
    {
     "name": "stdout",
     "output_type": "stream",
     "text": [
      " ... b.v links oude benaming baboe bandjir vrouwelijke bediende overstroming  ... \n",
      "\n",
      " ... bespraken alles met de baboes der compie een der  ... \n",
      "\n",
      " ... der compie een der baboes gaf het door aan  ... \n",
      "\n",
      " ... hij zin in heeft baboes maken de bedden op  ... \n",
      "\n",
      " ... omgezet de arme tani baboe en djongos is weer  ... \n",
      "\n",
      " ... bus zalf als de baboe zich in de vingers  ... \n",
      "\n",
      " ... en dan de baboes nu jongens op dat  ... \n",
      "\n",
      " ... moet ik jullie teleurstellen baboes zijn er hier niet  ... \n",
      "\n"
     ]
    },
    {
     "data": {
      "text/markdown": [
       "<span style='font-weight: bold; color:#6b0617; '>Occurrences in Logboek 1-41 RVA : verhalen en wetenswaardigheden (03441.txt)</span>"
      ],
      "text/plain": [
       "<IPython.core.display.Markdown object>"
      ]
     },
     "metadata": {},
     "output_type": "display_data"
    },
    {
     "name": "stdout",
     "output_type": "stream",
     "text": [
      " ... c1 bericht als de baboe in de kampong iets  ... \n",
      "\n",
      " ... wasgoed wordt verzorgd door baboes die wassen en verstellen  ... \n",
      "\n"
     ]
    },
    {
     "data": {
      "text/markdown": [
       "<span style='font-weight: bold; color:#6b0617; '>Occurrences in Voor orde en vrede (03444.txt)</span>"
      ],
      "text/plain": [
       "<IPython.core.display.Markdown object>"
      ]
     },
     "metadata": {},
     "output_type": "display_data"
    },
    {
     "name": "stdout",
     "output_type": "stream",
     "text": [
      " ... er is daar zon baboetje dat één en al  ... \n",
      "\n",
      " ... bediend door de onvolprezen baboe vogelaar haalde een blik  ... \n",
      "\n",
      " ... westen waren de vulkanen merbaboe en merapi te zien  ... \n",
      "\n",
      " ... djongos huisjongen kardja en baboe sitie dit waren onze  ... \n",
      "\n",
      " ... ook aan de trouwe baboes koelies en djongos vaak  ... \n",
      "\n",
      " ... wel nodig is de baboes wassen en strijken voor  ... \n",
      "\n"
     ]
    },
    {
     "data": {
      "text/markdown": [
       "<span style='font-weight: bold; color:#6b0617; '>Occurrences in De prijs van de macht (1945) (03445.txt)</span>"
      ],
      "text/plain": [
       "<IPython.core.display.Markdown object>"
      ]
     },
     "metadata": {},
     "output_type": "display_data"
    },
    {
     "name": "stdout",
     "output_type": "stream",
     "text": [
      " ... dag heb ik een baboe gevraagd een broek en  ... \n",
      "\n"
     ]
    },
    {
     "data": {
      "text/markdown": [
       "<span style='font-weight: bold; color:#6b0617; '>Occurrences in Twee maal oorlog : ervaringen van de Indie?-veteranen uit de gemeente Bemmel die na de Tweede Wereldoorlog werden uitgezonden naar het toenmalige Nederlands Oost Indie? (03446.txt)</span>"
      ],
      "text/plain": [
       "<IPython.core.display.Markdown object>"
      ]
     },
     "metadata": {},
     "output_type": "display_data"
    },
    {
     "name": "stdout",
     "output_type": "stream",
     "text": [
      " ... inlands personeel koelies en baboes aangetrokken de bewaking vindt  ... \n",
      "\n",
      " ... een bevoorrechte positie een baboe voor de was en  ... \n",
      "\n",
      " ... inmiddels hebben wij enkele baboes ingehuurd om het huishoudelijke  ... \n",
      "\n",
      " ... afscheid van de javaanse baboes en djongos pietje en  ... \n",
      "\n",
      " ... wordt medegedeeld dat vrouwen wasbaboes zijn aangesteld om de  ... \n",
      "\n",
      " ... kennissen de djongos de baboes met vrachtwagens rijden we  ... \n",
      "\n",
      " ... per zes man een baboe toegewezen hun taak is  ... \n",
      "\n",
      " ... eigen rekening het aantal baboes zodanig uit te breiden  ... \n",
      "\n",
      " ... ons peleton een eigen baboe heeft we bieden kost  ... \n",
      "\n",
      " ... regiment naar madioen de baboes hebben het bij ons  ... \n",
      "\n",
      " ... afwas geselecteerd voor de baboes   ... \n",
      "\n",
      " ... een grote loods waar baboes de gelegenheid krijgen de  ... \n",
      "\n"
     ]
    },
    {
     "data": {
      "text/markdown": [
       "<span style='font-weight: bold; color:#6b0617; '>Occurrences in Uust me? (03447.txt)</span>"
      ],
      "text/plain": [
       "<IPython.core.display.Markdown object>"
      ]
     },
     "metadata": {},
     "output_type": "display_data"
    },
    {
     "name": "stdout",
     "output_type": "stream",
     "text": [
      " ... beschutte plek voor de baboes met een kist patronen  ... \n",
      "\n",
      " ... handelend beveel ik de baboe deze mensen te verzorgen  ... \n",
      "\n",
      " ... je maar bij de baboe zeg ik zij zal  ... \n",
      "\n",
      " ... volgens opdracht verwent de baboe het moedertje uit de  ... \n",
      "\n",
      " ... een morgen komt de baboe mijn verzorgster naar mij  ... \n",
      "\n"
     ]
    },
    {
     "data": {
      "text/markdown": [
       "<span style='font-weight: bold; color:#6b0617; '>Occurrences in Kempische militairen in de Oost : herinneringen aan Nederlands-Indie? en Nieuw-Guinea (03448.txt)</span>"
      ],
      "text/plain": [
       "<IPython.core.display.Markdown object>"
      ]
     },
     "metadata": {},
     "output_type": "display_data"
    },
    {
     "name": "stdout",
     "output_type": "stream",
     "text": [
      " ... die direct naar de baboe gingen ondertussen konden we  ... \n",
      "\n",
      " ... doorgegeven en ook de baboe gevraagd te willen zorgen  ... \n",
      "\n",
      " ... kasi aan onze trouwe baboe   ... \n",
      "\n",
      " ... dit zijn nu de baboes é*r mi isi a  ... \n",
      "\n",
      " ... babi panggang geroosterd varkensvlees baboe meid kindermeisje bagoes mooi  ... \n",
      "\n"
     ]
    },
    {
     "data": {
      "text/markdown": [
       "<span style='font-weight: bold; color:#6b0617; '>Occurrences in Op patrouille in blessuretijd (1946) (03449.txt)</span>"
      ],
      "text/plain": [
       "<IPython.core.display.Markdown object>"
      ]
     },
     "metadata": {},
     "output_type": "display_data"
    },
    {
     "name": "stdout",
     "output_type": "stream",
     "text": [
      " ... al gauw belachelijk de baboe zou zeggen la maarr  ... \n",
      "\n"
     ]
    },
    {
     "data": {
      "text/markdown": [
       "<span style='font-weight: bold; color:#6b0617; '>Occurrences in De Haantjes in vogelvlucht : het Veluwebataljon I-8 R.I. in Indië, 1945-1948 (03450.txt)</span>"
      ],
      "text/plain": [
       "<IPython.core.display.Markdown object>"
      ]
     },
     "metadata": {},
     "output_type": "display_data"
    },
    {
     "name": "stdout",
     "output_type": "stream",
     "text": [
      " ... ons eigen personeel met baboes en djongossen genieten met  ... \n",
      "\n",
      " ... van tanige tanis boenende baboes hete sawas en koele  ... \n",
      "\n"
     ]
    },
    {
     "data": {
      "text/markdown": [
       "<span style='font-weight: bold; color:#6b0617; '>Occurrences in Het dagboek van een gesneuvelde soldaat (1948) (03451.txt)</span>"
      ],
      "text/plain": [
       "<IPython.core.display.Markdown object>"
      ]
     },
     "metadata": {},
     "output_type": "display_data"
    },
    {
     "name": "stdout",
     "output_type": "stream",
     "text": [
      " ... ook wel nodig de baboes wassen en strijken voor  ... \n",
      "\n"
     ]
    },
    {
     "data": {
      "text/markdown": [
       "<span style='font-weight: bold; color:#6b0617; '>Occurrences in 1-15 R.I. De Blijvertjes : onbewust voorloper van de Luchtmobiele Brigade (03454.txt)</span>"
      ],
      "text/plain": [
       "<IPython.core.display.Markdown object>"
      ]
     },
     "metadata": {},
     "output_type": "display_data"
    },
    {
     "name": "stdout",
     "output_type": "stream",
     "text": [
      " ... post bodja werden de baboes en koelies van 3-1-15  ... \n",
      "\n",
      " ... te oengaran werden de baboes en koelies van de  ... \n",
      "\n",
      " ... van de bevolking 2 baboes en 7 koelies gescreend  ... \n",
      "\n",
      " ... screende tevens weer 3 baboes en 3 koelies allen  ... \n",
      "\n"
     ]
    },
    {
     "data": {
      "text/markdown": [
       "<span style='font-weight: bold; color:#6b0617; '>Occurrences in Het 6 ARVA Squadron in Nederlands-Indie? 1946-1950 : persoonlijke herinneringen en indrukken van hen die er bij waren (03455.txt)</span>"
      ],
      "text/plain": [
       "<IPython.core.display.Markdown object>"
      ]
     },
     "metadata": {},
     "output_type": "display_data"
    },
    {
     "name": "stdout",
     "output_type": "stream",
     "text": [
      " ... ook nog ongeveer zes baboes voor de huishoudelijke dienst  ... \n",
      "\n"
     ]
    },
    {
     "data": {
      "text/markdown": [
       "<span style='font-weight: bold; color:#6b0617; '>Occurrences in Indië blijft ons bezighouden (03456.txt)</span>"
      ],
      "text/plain": [
       "<IPython.core.display.Markdown object>"
      ]
     },
     "metadata": {},
     "output_type": "display_data"
    },
    {
     "name": "stdout",
     "output_type": "stream",
     "text": [
      " ... veld 57 hoe een baboe een peloton soldaten redde  ... \n",
      "\n",
      " ... hoofdstuk 7 hoe een baboe een peloton soldaten redde  ... \n",
      "\n",
      " ... er s middags een baboe naar hem toe hij  ... \n",
      "\n",
      " ... hij wacht had de baboe die al jaren voor  ... \n",
      "\n",
      " ... de baboe bezwoer dat ze er  ... \n",
      "\n",
      " ... dankbaar ze eigenlijk die baboe moesten zijn als die  ... \n",
      "\n"
     ]
    },
    {
     "data": {
      "text/markdown": [
       "<span style='font-weight: bold; color:#6b0617; '>Occurrences in Camouflagepak, politiepet en narrenkap (03457.txt)</span>"
      ],
      "text/plain": [
       "<IPython.core.display.Markdown object>"
      ]
     },
     "metadata": {},
     "output_type": "display_data"
    },
    {
     "name": "stdout",
     "output_type": "stream",
     "text": [
      " ... kokkie en een aantal baboes die de was en  ... \n",
      "\n"
     ]
    },
    {
     "data": {
      "text/markdown": [
       "<span style='font-weight: bold; color:#6b0617; '>Occurrences in Het 425e Bataljon Infanterie [I - VI] : [herinneringen aan de tropen ...] (03458.txt)</span>"
      ],
      "text/plain": [
       "<IPython.core.display.Markdown object>"
      ]
     },
     "metadata": {},
     "output_type": "display_data"
    },
    {
     "name": "stdout",
     "output_type": "stream",
     "text": [
      " ... zelfs de baboes begrijpen dat dergelijke orders  ... \n",
      "\n",
      " ... zelfs de baboes begrijpen dat dergelijke orders  ... \n",
      "\n"
     ]
    },
    {
     "data": {
      "text/markdown": [
       "<span style='font-weight: bold; color:#6b0617; '>Occurrences in Een bevlogen avontuur (1923) (03459.txt)</span>"
      ],
      "text/plain": [
       "<IPython.core.display.Markdown object>"
      ]
     },
     "metadata": {},
     "output_type": "display_data"
    },
    {
     "data": {
      "text/markdown": [
       "<span style='font-weight: bold; color:#6b0617; '>Occurrences in Geliefde ouders en verdere familie! : brieven van Indiëganger Maarten Schaafsma (03460.txt)</span>"
      ],
      "text/plain": [
       "<IPython.core.display.Markdown object>"
      ]
     },
     "metadata": {},
     "output_type": "display_data"
    },
    {
     "name": "stdout",
     "output_type": "stream",
     "text": [
      " ... ohms v.l.n.r zittend kronenberg baboe voskuyl baboe zittend vooraan  ... \n",
      "\n",
      " ... zittend kronenberg baboe voskuyl baboe zittend vooraan baboe im\"1  ... \n",
      "\n",
      " ... voskuyl baboe zittend vooraan baboe im\"1 s ï 9  ... \n",
      "\n",
      " ... ik was op mijn baboe santani maar er bleef  ... \n",
      "\n",
      " ... tot weerziens uw maarten baboe santani en haar neefje  ... \n",
      "\n",
      " ... wereld daar was de baboe een onontbeerlijke hulp   ... \n",
      "\n",
      " ... de baas over alle baboes en ze leerde ook  ... \n",
      "\n",
      " ... groep vaten deden de baboes de was en daar  ... \n",
      "\n",
      " ... scheen zag ik vier baboes die zich aan het  ... \n",
      "\n",
      " ... al wel van je baboe vernomen hebben dat wij  ... \n",
      "\n",
      " ... waarin wij met de baboes gelegerd waren rond de  ... \n",
      "\n",
      " ... te maken ook de baboes waren doodsbang en zochten  ... \n",
      "\n",
      " ... paar kilo oebie de baboes bereidden dit en het  ... \n",
      "\n"
     ]
    },
    {
     "data": {
      "text/markdown": [
       "<span style='font-weight: bold; color:#6b0617; '>Occurrences in He-j doar nog vocht'n? : herinneringen aan zijn tijd in Nederlands-Indie? (03462.txt)</span>"
      ],
      "text/plain": [
       "<IPython.core.display.Markdown object>"
      ]
     },
     "metadata": {},
     "output_type": "display_data"
    },
    {
     "name": "stdout",
     "output_type": "stream",
     "text": [
      " ... te zien op de baboes iets verderop die belast  ... \n",
      "\n",
      " ... de kleding aan de baboe mee kunnen geven en  ... \n",
      "\n",
      " ... was er een setenga baboe in goed nederlands gezegd  ... \n",
      "\n",
      " ... naast heeft gezeten de baboes zullen het de volgende  ... \n",
      "\n",
      " ... vergeet nooit hoe onze baboe daarop reageerde la ilah  ... \n",
      "\n",
      " ... route bekendgemaakt wanneer de baboes en djongos al lang  ... \n",
      "\n",
      " ... personeel controleren djongossen en baboes dus uit pure pesterij  ... \n",
      "\n",
      " ... als de koelies en baboes daarentegen hun pas wilden  ... \n",
      "\n",
      " ... sepulu orang mati setenga baboe sirihpruim soesoe manis t  ... \n",
      "\n"
     ]
    },
    {
     "data": {
      "text/markdown": [
       "<span style='font-weight: bold; color:#6b0617; '>Occurrences in Uit het marineleven gegrepen (1945) (03465.txt)</span>"
      ],
      "text/plain": [
       "<IPython.core.display.Markdown object>"
      ]
     },
     "metadata": {},
     "output_type": "display_data"
    },
    {
     "name": "stdout",
     "output_type": "stream",
     "text": [
      " ... de bottelier tussen de wasbaboes in de marinekazerne twee  ... \n",
      "\n",
      " ... men de beschikking over wasbaboes voor een redelijke vergoeding  ... \n",
      "\n",
      " ... altijd een wat oudere baboe aanwezig zij had toestemming  ... \n",
      "\n"
     ]
    },
    {
     "data": {
      "text/markdown": [
       "<span style='font-weight: bold; color:#6b0617; '>Occurrences in Respect en erkenning : veteranen Schaijk-Reek in Nederlands-Indie? 1945-1950 (03467.txt)</span>"
      ],
      "text/plain": [
       "<IPython.core.display.Markdown object>"
      ]
     },
     "metadata": {},
     "output_type": "display_data"
    },
    {
     "name": "stdout",
     "output_type": "stream",
     "text": [
      " ... grote verrassing vroegen de baboes of zij naar djogjakarta  ... \n",
      "\n",
      " ... theo samen met de baboe op de pasar inkopen  ... \n",
      "\n",
      " ... de top van de merbaboe jan schouten eerste van  ... \n",
      "\n",
      " ... gewapend patrouille de berg merbaboe op   ... \n",
      "\n",
      " ... door een van de baboes die bij mij werkte  ... \n",
      "\n",
      " ... morgen inlandse vrouwen de baboes haalden de messtins op  ... \n",
      "\n",
      " ... van de soldaten de baboes brachten het eten de  ... \n",
      "\n",
      " ... djongos knechtje of n baboe wasvrouwtje we hoorden doffe  ... \n",
      "\n",
      " ... rivier wacht bij vuur baboe bale bale baroe bawan  ... \n",
      "\n"
     ]
    },
    {
     "data": {
      "text/markdown": [
       "<span style='font-weight: bold; color:#6b0617; '>Occurrences in Indië vergeet je nooit! (1945) (03468.txt)</span>"
      ],
      "text/plain": [
       "<IPython.core.display.Markdown object>"
      ]
     },
     "metadata": {},
     "output_type": "display_data"
    },
    {
     "name": "stdout",
     "output_type": "stream",
     "text": [
      " ... is dat van de baboe die een peloton soldaten  ... \n",
      "\n",
      " ... het verraad van de baboe alleen al vanwege dit  ... \n",
      "\n"
     ]
    },
    {
     "data": {
      "text/markdown": [
       "<span style='font-weight: bold; color:#6b0617; '>Occurrences in Wij van de 4e Hulpverbandplaats Afdeling : herdenkingsboek van de 4e Hp.V.A. (03471.txt)</span>"
      ],
      "text/plain": [
       "<IPython.core.display.Markdown object>"
      ]
     },
     "metadata": {},
     "output_type": "display_data"
    },
    {
     "name": "stdout",
     "output_type": "stream",
     "text": [
      " ... de galerij waar de baboes staan ter strijking noch  ... \n",
      "\n",
      " ... die wagen moet fourageren baboes halen en zo meer  ... \n",
      "\n",
      " ... al maanden oud refrein baboe awas pigimana tida boleh  ... \n",
      "\n"
     ]
    },
    {
     "data": {
      "text/markdown": [
       "<span style='font-weight: bold; color:#6b0617; '>Occurrences in Op vleugels in hoger sferen : een vliegers-odyssee (03476.txt)</span>"
      ],
      "text/plain": [
       "<IPython.core.display.Markdown object>"
      ]
     },
     "metadata": {},
     "output_type": "display_data"
    },
    {
     "name": "stdout",
     "output_type": "stream",
     "text": [
      " ... vroegste herinneringen gaan naar baboe toe-eh zij was klein  ... \n",
      "\n",
      " ... kolenschoppen die desgevraagd zei baboe toe-eh kan vijftig zijn  ... \n",
      "\n",
      " ... hoe dan ook baboe toe-eh zorgde voor me  ... \n",
      "\n",
      " ... tjatjing was verbijsterd keek baboe toe-eh me aan en  ... \n",
      "\n",
      " ... vleugel was verbonden van baboe toe-eh leerde ik dat  ... \n",
      "\n",
      " ... een roemah sakit was baboe toe-eh probeerde me uit  ... \n",
      "\n",
      " ... deed horen dan trok baboe toe-eh me aan mijn  ... \n",
      "\n",
      " ... te blijven soms bracht baboe toe-eh me naar de  ... \n",
      "\n",
      " ... het toeziend oog van baboe toe-eh en haar evenknie  ... \n",
      "\n",
      " ... en haar evenknie de baboe van het jongetje   ... \n",
      "\n",
      " ... baboe toe-eh zorgde ook voor  ... \n",
      "\n",
      " ... reddende engel die riep baboe toe-eh en die suste  ... \n",
      "\n",
      " ... waarschuwing gegeven dat de baboe ketips dubbeltjesdames die bij  ... \n",
      "\n"
     ]
    },
    {
     "data": {
      "text/markdown": [
       "<span style='font-weight: bold; color:#6b0617; '>Occurrences in Onhoorbaar groeit de padi : front-soldaten in een verloren oorlog : Indonesie 1948-1950 (03478.txt)</span>"
      ],
      "text/plain": [
       "<IPython.core.display.Markdown object>"
      ]
     },
     "metadata": {},
     "output_type": "display_data"
    },
    {
     "name": "stdout",
     "output_type": "stream",
     "text": [
      " ... buitenwijk van de stad baboe en djongos ze gedroegen  ... \n",
      "\n",
      " ... sumira en tina onze baboes die voor het eten  ... \n",
      "\n",
      " ... 403e bataljon infanterie het baboeprobleem elke morgen om een  ... \n",
      "\n",
      " ... of zeven staat de baboe onze wandelende wasserij geduldig  ... \n",
      "\n",
      " ... weten nu dat de baboe strijken moet al stribbelt  ... \n",
      "\n",
      " ... ten opzichte van de baboe hebben te gedragen wanneer  ... \n",
      "\n",
      " ... intimiteiten dan zullen de baboes zich ook behoorlijk gedragen  ... \n",
      "\n"
     ]
    },
    {
     "data": {
      "text/markdown": [
       "<span style='font-weight: bold; color:#6b0617; '>Occurrences in Indonesie? als eindstation : met het vergeten leger in Indie? (03479.txt)</span>"
      ],
      "text/plain": [
       "<IPython.core.display.Markdown object>"
      ]
     },
     "metadata": {},
     "output_type": "display_data"
    },
    {
     "name": "stdout",
     "output_type": "stream",
     "text": [
      " ... een koelie en een baboe om de was te  ... \n",
      "\n",
      " ... de koelies djongossen en baboes aangaat en als ik  ... \n",
      "\n"
     ]
    },
    {
     "data": {
      "text/markdown": [
       "<span style='font-weight: bold; color:#6b0617; '>Occurrences in Eens marinier altijd marinier : een leven vol afwisseling en avontuur : Qua Patet Orbis 1940-1972 (03480.txt)</span>"
      ],
      "text/plain": [
       "<IPython.core.display.Markdown object>"
      ]
     },
     "metadata": {},
     "output_type": "display_data"
    },
    {
     "name": "stdout",
     "output_type": "stream",
     "text": [
      " ... taaie wacht alleen de baboes die over ons heen  ... \n",
      "\n"
     ]
    },
    {
     "data": {
      "text/markdown": [
       "<span style='font-weight: bold; color:#6b0617; '>Occurrences in Bij de inlichtingendienst op Midden-Java (03482.txt)</span>"
      ],
      "text/plain": [
       "<IPython.core.display.Markdown object>"
      ]
     },
     "metadata": {},
     "output_type": "display_data"
    },
    {
     "name": "stdout",
     "output_type": "stream",
     "text": [
      " ... en enige nederlandse opium-roman baboe delima de oudofficier van  ... \n",
      "\n",
      " ... had johan diender onze baboe naoemi meegenomen naar kaliwadas9307  ... \n",
      "\n",
      " ... vind je een goede baboe wel op proempang-0801 de  ... \n",
      "\n",
      " ... genoeg om ook de baboe s en de djongossen  ... \n",
      "\n",
      " ... te nemen van hun baboes en djongossen die op  ... \n",
      "\n",
      " ... nica arak assistent-wedana babah baboe badjoe bagian baleh-baleh bamboe  ... \n",
      "\n"
     ]
    },
    {
     "data": {
      "text/markdown": [
       "<span style='font-weight: bold; color:#6b0617; '>Occurrences in Op weg naar de ondergang (1918) (03483.txt)</span>"
      ],
      "text/plain": [
       "<IPython.core.display.Markdown object>"
      ]
     },
     "metadata": {},
     "output_type": "display_data"
    },
    {
     "data": {
      "text/markdown": [
       "<span style='font-weight: bold; color:#6b0617; '>Occurrences in Nou, tabee dan, ik groet je... : wetenswaardigheden van een vijfjarig verblijf in Indië 1945-1949 (03486.txt)</span>"
      ],
      "text/plain": [
       "<IPython.core.display.Markdown object>"
      ]
     },
     "metadata": {},
     "output_type": "display_data"
    },
    {
     "name": "stdout",
     "output_type": "stream",
     "text": [
      " ... piket op sokken de baboe bij de kok afijn  ... \n",
      "\n",
      " ... toestand van razernij autonomie baboe baroe bbataljon batikdoek zelfbestuur  ... \n",
      "\n"
     ]
    },
    {
     "data": {
      "text/markdown": [
       "<span style='font-weight: bold; color:#6b0617; '>Occurrences in De geschiedenis van de 5e Genie Veldcompagnie, 1946-1949 : Nederland - Engeland - Java (03487.txt)</span>"
      ],
      "text/plain": [
       "<IPython.core.display.Markdown object>"
      ]
     },
     "metadata": {},
     "output_type": "display_data"
    },
    {
     "name": "stdout",
     "output_type": "stream",
     "text": [
      " ... de voet van de merbaboe 96 bersiap merdeka 115  ... \n",
      "\n",
      " ... door de alom geprezen baboes liepen ze dan rond  ... \n",
      "\n",
      " ... de voet van de merbaboe vanaf 31 juli 1947  ... \n",
      "\n",
      " ... kampong bij die lieve baboe of djongos waarvan de  ... \n",
      "\n",
      " ... te gaan werken als baboe djongos of anderszins   ... \n",
      "\n",
      " ... merapi en vroeger de merbaboe die nu gezien moet  ... \n",
      "\n",
      " ... in buitenzorg van je baboe of djongos of van  ... \n",
      "\n"
     ]
    },
    {
     "data": {
      "text/markdown": [
       "<span style='font-weight: bold; color:#6b0617; '>Occurrences in Den Dungen in Nederlandsch Oost-Indie?, 1946-1951 (03489.txt)</span>"
      ],
      "text/plain": [
       "<IPython.core.display.Markdown object>"
      ]
     },
     "metadata": {},
     "output_type": "display_data"
    },
    {
     "name": "stdout",
     "output_type": "stream",
     "text": [
      " ... zal de soldaat tegenover baboes tegenover landbouwers tegenover de  ... \n",
      "\n",
      " ... hinderlaag.uat bleek namelijk onze baboes en koelies die ons  ... \n",
      "\n",
      " ... in indië heten allemaal baboe.zij wassen voor je en  ... \n",
      "\n",
      " ... er zijn trouwens ook baboes die christelijk zijn.die stelen  ... \n",
      "\n",
      " ... noodzakelijk is de betreffende baboe mode te brengen 12  ... \n",
      "\n"
     ]
    },
    {
     "data": {
      "text/markdown": [
       "<span style='font-weight: bold; color:#6b0617; '>Occurrences in 15e Genie Veld Compagnie : 30 juni 1947-29 juni 1950, geschiedenis van een dienstplichtig soldaat (03490.txt)</span>"
      ],
      "text/plain": [
       "<IPython.core.display.Markdown object>"
      ]
     },
     "metadata": {},
     "output_type": "display_data"
    },
    {
     "name": "stdout",
     "output_type": "stream",
     "text": [
      " ... djongossen zijn hier niet baboes wel maar die mogen  ... \n",
      "\n",
      " ... deze keer hebben we baboes toegewezen gekregen om voor  ... \n",
      "\n"
     ]
    },
    {
     "data": {
      "text/markdown": [
       "<span style='font-weight: bold; color:#6b0617; '>Occurrences in Duizend dagen Indië : het dagboek van Jan van Trigt 1945-1948 (03491.txt)</span>"
      ],
      "text/plain": [
       "<IPython.core.display.Markdown object>"
      ]
     },
     "metadata": {},
     "output_type": "display_data"
    },
    {
     "name": "stdout",
     "output_type": "stream",
     "text": [
      " ... dat is wat waard baboes zijn al gauw op  ... \n",
      "\n",
      " ... ik aantref bij een baboe in bed ik schrik  ... \n",
      "\n",
      " ... hij geeft aan de baboe een sjaaltje dat voor  ... \n",
      "\n",
      " ... nemen afscheid van de baboes en djongossen die we  ... \n",
      "\n",
      " ... vertellen dat er 22 baboes meegekomen zijn i.p.v post  ... \n",
      "\n",
      " ... we kunnen be de baboes niet vertrouwen broer gaat  ... \n",
      "\n",
      " ... en t uit een baboe door haar kin bij  ... \n",
      "\n",
      " ... de verplegingsofficier de ge baboes zien lijdelijk toe je  ... \n",
      "\n",
      " ... niets te verliezen de baboe is opgepikt door n  ... \n",
      "\n",
      " ... mijn stukje b ovet baboes in de wapenbroeders komt  ... \n",
      "\n",
      " ... we zonder djongos of baboe maar kleren toch gewassen  ... \n",
      "\n",
      " ... van de jongens naar baboes de bezoeken aan de  ... \n",
      "\n",
      " ... de kampong achter de baboes aan velen hebben thuis  ... \n",
      "\n",
      " ... wat nu pasen de baboe geroepen en gevraagd eieren  ... \n",
      "\n",
      " ... rap uit naar de baboe of naar de vuilniston  ... \n",
      "\n",
      " ... toen tidoeren vanmorgen was baboe vroeg present heb haar  ... \n",
      "\n",
      " ... de laatste spullen de baboe nog blij gemaakt met  ... \n",
      "\n",
      " ... niet teveel naar de baboes kijken toen ik voorbij  ... \n",
      "\n",
      " ... hemdje benter babi varken baboe hulp in de huishouding  ... \n",
      "\n",
      " ... automotor boe kort voor baboe boeka open boe kit  ... \n",
      "\n"
     ]
    },
    {
     "data": {
      "text/markdown": [
       "<span style='font-weight: bold; color:#6b0617; '>Occurrences in Van infanterist tot radiomonteur : herinneringen van een Friese dorpsjongen aan zijn diensttijd als dienstplichtig militair in het voormalig Nederlands-Indie? 1947-1950 (03493.txt)</span>"
      ],
      "text/plain": [
       "<IPython.core.display.Markdown object>"
      ]
     },
     "metadata": {},
     "output_type": "display_data"
    },
    {
     "name": "stdout",
     "output_type": "stream",
     "text": [
      " ... djongossen hebben we hier baboes die alleen voor de  ... \n",
      "\n",
      " ... hele huishouding inclusief de baboes verhuisd naar djatiroto en  ... \n",
      "\n",
      " ... we gisteren meegemaakt onze baboe moest opeens bevallen de  ... \n",
      "\n"
     ]
    },
    {
     "data": {
      "text/markdown": [
       "<span style='font-weight: bold; color:#6b0617; '>Occurrences in 3-41 R.V.A. in de tropen (1948) (03494.txt)</span>"
      ],
      "text/plain": [
       "<IPython.core.display.Markdown object>"
      ]
     },
     "metadata": {},
     "output_type": "display_data"
    },
    {
     "name": "stdout",
     "output_type": "stream",
     "text": [
      " ... te bewaren tot de baboes die inmiddels ook een  ... \n",
      "\n",
      " ... onmogelijke wijzen werden onze baboes en djongossen bedreigd en  ... \n",
      "\n",
      " ... had gedeeld met een baboe ten aanschouwen van een  ... \n",
      "\n"
     ]
    },
    {
     "data": {
      "text/markdown": [
       "<span style='font-weight: bold; color:#6b0617; '>Occurrences in De stilte voorbij : het verhaal van Albert Scheer (03495.txt)</span>"
      ],
      "text/plain": [
       "<IPython.core.display.Markdown object>"
      ]
     },
     "metadata": {},
     "output_type": "display_data"
    },
    {
     "name": "stdout",
     "output_type": "stream",
     "text": [
      " ... een beroep op de reisbaboes die op de grote  ... \n",
      "\n",
      " ... die momenten krijgt de baboe vrijaf in semarang hebben  ... \n",
      "\n",
      " ... hebben ze nog een baboe voor de was en  ... \n",
      "\n",
      " ... hebben sommige vrouwen hun baboe en kokki weer in  ... \n",
      "\n",
      " ... marchien hebben alleen een baboe voor het doen van  ... \n",
      "\n"
     ]
    },
    {
     "data": {
      "text/markdown": [
       "<span style='font-weight: bold; color:#6b0617; '>Occurrences in Indië blijft onze denkwereld : met het vergeten leger in Indië (03496.txt)</span>"
      ],
      "text/plain": [
       "<IPython.core.display.Markdown object>"
      ]
     },
     "metadata": {},
     "output_type": "display_data"
    },
    {
     "name": "stdout",
     "output_type": "stream",
     "text": [
      " ... hij probeerde steeds de baboes in hun benen te  ... \n",
      "\n"
     ]
    },
    {
     "data": {
      "text/markdown": [
       "<span style='font-weight: bold; color:#6b0617; '>Occurrences in Aan de wieg van de marva en de beginperiode van haar bestaan : schetsen uit de geschiedenis van de Marine Vrouwen Afdeling van 1944-1950 (03497.txt)</span>"
      ],
      "text/plain": [
       "<IPython.core.display.Markdown object>"
      ]
     },
     "metadata": {},
     "output_type": "display_data"
    },
    {
     "name": "stdout",
     "output_type": "stream",
     "text": [
      " ... gewoon toen we drie baboes kregen om ons te  ... \n",
      "\n"
     ]
    },
    {
     "data": {
      "text/markdown": [
       "<span style='font-weight: bold; color:#6b0617; '>Occurrences in Opdracht uitgevoerd : een verhaal over de Tweede Wereldoorlog die voor de Nederlandse jongens 10 jaar duurde (03498.txt)</span>"
      ],
      "text/plain": [
       "<IPython.core.display.Markdown object>"
      ]
     },
     "metadata": {},
     "output_type": "display_data"
    },
    {
     "name": "stdout",
     "output_type": "stream",
     "text": [
      " ... was een uitgebreid legertje baboes djongos en katjongs aanwezig  ... \n",
      "\n",
      " ... pkn!pten zo waste een baboe wasvrouw oor 8 militairen  ... \n",
      "\n",
      " ... te horen dat de baboe de kamer waar hij  ... \n",
      "\n",
      " ... de verontwaardiging van de baboe in besloten lag aan  ... \n",
      "\n",
      " ... belde welgemoed aan de baboe deed open en ik  ... \n",
      "\n",
      " ... gastheer had namelijk de baboe 20 gulden meegegeven om  ... \n",
      "\n",
      " ... enige malen werd de baboe voor stom dom en  ... \n",
      "\n",
      " ... in nederland bedienen door baboes djongos en katjongs   ... \n",
      "\n",
      " ... grondig schoongehouden door de baboe die tevens dagelijks onze  ... \n",
      "\n",
      " ... a.p a.r.p atap awas baboe bahasa indonesia aanen afvoer  ... \n",
      "\n"
     ]
    },
    {
     "data": {
      "text/markdown": [
       "<span style='font-weight: bold; color:#6b0617; '>Occurrences in Agent in Indië : dagboekbrieven van een MP'er (1949-1950) (03499.txt)</span>"
      ],
      "text/plain": [
       "<IPython.core.display.Markdown object>"
      ]
     },
     "metadata": {},
     "output_type": "display_data"
    },
    {
     "name": "stdout",
     "output_type": "stream",
     "text": [
      " ... heerlijk laten eten de baboes begonnen de tafel van  ... \n",
      "\n",
      " ... en zijn uitzonderlijk mooie baboe op wie hij heel  ... \n",
      "\n",
      " ... higp ts m$fê de baboes en kat jongs van  ... \n",
      "\n",
      " ... heerlijk hebben gegeten de baboes en de katjongs hadden  ... \n",
      "\n",
      " ... ginder holt een baboe met een grote stapel  ... \n",
      "\n",
      " ... te binnen over mijn baboe soeti en dat ga  ... \n",
      "\n",
      " ... militaire missie soeti mijn baboe kwam even na zessen  ... \n",
      "\n",
      " ... voor dat een andere baboe present is om mijn  ... \n",
      "\n",
      " ... hebben de jongens de baboes met een wagen teruggebracht  ... \n",
      "\n",
      " ... de kamers van de baboes in ons kamp totaal  ... \n",
      "\n",
      " ... de verpleegsters op de merbaboeweg die me een hele  ... \n",
      "\n",
      " ... niet met een leger baboes en djongossen zoals de  ... \n",
      "\n",
      " ... aloon-aloon ani-ani api atap baboe baik bandjir batik besar  ... \n",
      "\n"
     ]
    },
    {
     "data": {
      "text/markdown": [
       "<span style='font-weight: bold; color:#6b0617; '>Occurrences in Van de polder naar de sawa (1940) (03500.txt)</span>"
      ],
      "text/plain": [
       "<IPython.core.display.Markdown object>"
      ]
     },
     "metadata": {},
     "output_type": "display_data"
    },
    {
     "name": "stdout",
     "output_type": "stream",
     "text": [
      " ... het indonesisch personeel de baboes en djongossen die zo  ... \n",
      "\n"
     ]
    },
    {
     "data": {
      "text/markdown": [
       "<span style='font-weight: bold; color:#6b0617; '>Occurrences in Urker volksleven (03501.txt)</span>"
      ],
      "text/plain": [
       "<IPython.core.display.Markdown object>"
      ]
     },
     "metadata": {},
     "output_type": "display_data"
    },
    {
     "name": "stdout",
     "output_type": "stream",
     "text": [
      " ... vanmorgen gingen onze baboes naar de kali om  ... \n",
      "\n"
     ]
    },
    {
     "data": {
      "text/markdown": [
       "<span style='font-weight: bold; color:#6b0617; '>Occurrences in Brandlucht en bloedspoor : dagboek van een Indiëganger (03503.txt)</span>"
      ],
      "text/plain": [
       "<IPython.core.display.Markdown object>"
      ]
     },
     "metadata": {},
     "output_type": "display_data"
    },
    {
     "name": "stdout",
     "output_type": "stream",
     "text": [
      " ... een hospitaalsoldaat haalde een baboe die me moest masseren  ... \n",
      "\n",
      " ... door het bezoek van baboe issam duurde het echter  ... \n",
      "\n",
      " ... er0p 9.elegen cantine gingde baboes gingen in de vijfhonderd  ... \n",
      "\n",
      " ... het andere was voor baboes en djongossen gedurende de  ... \n",
      "\n",
      " ... wacht in de brenpunt baboe en djongos kobus handelslieden  ... \n",
      "\n",
      " ... en herrie appèl a.p.r.a baboe babu bali desa banyak  ... \n",
      "\n"
     ]
    },
    {
     "data": {
      "text/markdown": [
       "<span style='font-weight: bold; color:#6b0617; '>Occurrences in Eindelijk erkenning : met het vergeten leger in Indië (03505.txt)</span>"
      ],
      "text/plain": [
       "<IPython.core.display.Markdown object>"
      ]
     },
     "metadata": {},
     "output_type": "display_data"
    },
    {
     "data": {
      "text/markdown": [
       "<span style='font-weight: bold; color:#6b0617; '>Occurrences in Soldaat zonder franje (1928) (03507.txt)</span>"
      ],
      "text/plain": [
       "<IPython.core.display.Markdown object>"
      ]
     },
     "metadata": {},
     "output_type": "display_data"
    },
    {
     "name": "stdout",
     "output_type": "stream",
     "text": [
      " ... voet van de vulkanen merbaboe en de rokende merapi  ... \n",
      "\n",
      " ... kampong waar we de baboe hadden afgezet de volgende  ... \n",
      "\n",
      " ... hij had zijn persoonlijke baboe meegenomen maar dat mocht  ... \n",
      "\n",
      " ... de bedden opmaakte zijn baboe verdween ergens in de  ... \n",
      "\n"
     ]
    },
    {
     "data": {
      "text/markdown": [
       "<span style='font-weight: bold; color:#6b0617; '>Occurrences in Vaarwel, kameraad! : met het vergeten leger in Indie? (03509.txt)</span>"
      ],
      "text/plain": [
       "<IPython.core.display.Markdown object>"
      ]
     },
     "metadata": {},
     "output_type": "display_data"
    },
    {
     "name": "stdout",
     "output_type": "stream",
     "text": [
      " ... de merapi en de merbaboe heel even wazig te  ... \n",
      "\n"
     ]
    },
    {
     "data": {
      "text/markdown": [
       "<span style='font-weight: bold; color:#6b0617; '>Occurrences in 1-1 R.I. (03510.txt)</span>"
      ],
      "text/plain": [
       "<IPython.core.display.Markdown object>"
      ]
     },
     "metadata": {},
     "output_type": "display_data"
    },
    {
     "name": "stdout",
     "output_type": "stream",
     "text": [
      " ... mee aan de vrouwen baboes en t werd schoner  ... \n",
      "\n"
     ]
    },
    {
     "data": {
      "text/markdown": [
       "<span style='font-weight: bold; color:#6b0617; '>Occurrences in Herinneringen aan de 42e Zibva (03511.txt)</span>"
      ],
      "text/plain": [
       "<IPython.core.display.Markdown object>"
      ]
     },
     "metadata": {},
     "output_type": "display_data"
    },
    {
     "name": "stdout",
     "output_type": "stream",
     "text": [
      " ... met de ons toegewezen baboes en djongos zij zouden  ... \n",
      "\n",
      " ... daarna kwam onze eigen baboe het ontbijt brengen dit  ... \n",
      "\n",
      " ... dat weg komt dezelfde baboe komt smiddags de nasi  ... \n",
      "\n",
      " ... salamanders ritselen langs de baboewand en op het laatst  ... \n",
      "\n",
      " ... blij waren vooral de baboes als ze aangenomen werden  ... \n",
      "\n",
      " ... tegen aan ging de baboes jong en oud waren  ... \n",
      "\n",
      " ... het algemeen vriendelijk de baboes katjongs koelies en ander  ... \n",
      "\n"
     ]
    },
    {
     "data": {
      "text/markdown": [
       "<span style='font-weight: bold; color:#6b0617; '>Occurrences in Onze tijd in de Oost : een kittbag vol herinneringen : het reisdagboek van veteraan Geu Meulenbroeks gedurende de vredesstrijd in Oost-Indonesië. (03512.txt)</span>"
      ],
      "text/plain": [
       "<IPython.core.display.Markdown object>"
      ]
     },
     "metadata": {},
     "output_type": "display_data"
    },
    {
     "name": "stdout",
     "output_type": "stream",
     "text": [
      " ... al gauw komen de baboes dienstmeiden weer bij het  ... \n",
      "\n",
      " ... man wordt er een baboe beschikbaar gesteld die de  ... \n",
      "\n",
      " ... onder de klamboe de baboe deed de was en  ... \n",
      "\n",
      " ... de kok en de baboes liggen in een tent  ... \n",
      "\n",
      " ... geboren er werkt een baboe in ons kamp die  ... \n",
      "\n",
      " ... het wilhelmus gezongen twee baboes moeder en dochter m  ... \n",
      "\n",
      " ... de baboes doen de was voor  ... \n",
      "\n"
     ]
    },
    {
     "data": {
      "text/markdown": [
       "<span style='font-weight: bold; color:#6b0617; '>Occurrences in 1940-1950 : 10 onrustige jaren. (03513.txt)</span>"
      ],
      "text/plain": [
       "<IPython.core.display.Markdown object>"
      ]
     },
     "metadata": {},
     "output_type": "display_data"
    },
    {
     "name": "stdout",
     "output_type": "stream",
     "text": [
      " ... koffie zei ik de baboe werd geroepen en die  ... \n",
      "\n",
      " ... aan maar riep de baboe en vervolgens kwamen er  ... \n",
      "\n",
      " ... erger was dat de baboe die zich geweldig schuldig  ... \n",
      "\n",
      " ... lachje op zijn gezicht baboe idji tida ada   ... \n",
      "\n",
      " ... had een hele verzameling baboes achtergelaten daarbij gevoegd onze  ... \n",
      "\n",
      " ... gevoegd onze eigen organieke baboes was het langzamerhand een  ... \n",
      "\n",
      " ... die voeten van zon baboe en als je die  ... \n",
      "\n"
     ]
    },
    {
     "data": {
      "text/markdown": [
       "<span style='font-weight: bold; color:#6b0617; '>Occurrences in Drie warme jaren (1947) (03515.txt)</span>"
      ],
      "text/plain": [
       "<IPython.core.display.Markdown object>"
      ]
     },
     "metadata": {},
     "output_type": "display_data"
    },
    {
     "name": "stdout",
     "output_type": "stream",
     "text": [
      " ... de koelies en de baboes aan het werk r  ... \n",
      "\n",
      " ... de week door de baboe doen als er wat  ... \n",
      "\n",
      " ... af werken zodat de baboe iedere dag een schort  ... \n",
      "\n",
      " ... bijvoorbeeld op dat de baboes de zaak niet flessen  ... \n",
      "\n",
      " ... mannen alleen een oude baboe die de was verzorgt  ... \n",
      "\n",
      " ... hij één van de baboes in het bed van  ... \n",
      "\n",
      " ... niet aan de andere baboe met de sapoe nog  ... \n",
      "\n",
      " ... geweest anders hadden de baboe en daan niet zo  ... \n",
      "\n",
      " ... de baar heeft een baboe die tevens bijslaap is  ... \n",
      "\n",
      " ... voor waren alleen die baboe van jullie vervolgt jacob  ... \n",
      "\n"
     ]
    },
    {
     "data": {
      "text/markdown": [
       "<span style='font-weight: bold; color:#6b0617; '>Occurrences in De marsroute van 1-11 R.I. (03517.txt)</span>"
      ],
      "text/plain": [
       "<IPython.core.display.Markdown object>"
      ]
     },
     "metadata": {},
     "output_type": "display_data"
    },
    {
     "name": "stdout",
     "output_type": "stream",
     "text": [
      " ... boeniseuri had een eigen baboe meegebracht het was een  ... \n",
      "\n",
      " ... ze toe helemaal geen baboe maar een studente uit  ... \n",
      "\n",
      " ... te nemen van de baboe en de djongos bediende  ... \n",
      "\n"
     ]
    },
    {
     "data": {
      "text/markdown": [
       "<span style='font-weight: bold; color:#6b0617; '>Occurrences in Staphorster militairen in de tropen (03518.txt)</span>"
      ],
      "text/plain": [
       "<IPython.core.display.Markdown object>"
      ]
     },
     "metadata": {},
     "output_type": "display_data"
    },
    {
     "name": "stdout",
     "output_type": "stream",
     "text": [
      " ... vuurspuwende bergen van de merbaboe en merabi deze laatste  ... \n",
      "\n",
      " ... mei 1948 zijn onze baboes vrouwelijke en djongossen mannen  ... \n",
      "\n",
      " ... t i baboe toerina stond tegen mij  ... \n",
      "\n"
     ]
    },
    {
     "data": {
      "text/markdown": [
       "<span style='font-weight: bold; color:#6b0617; '>Occurrences in Klappermelk & klompen : veteranen vertellen over Nederlands-Indië en Nieuw-Guinea (03519.txt)</span>"
      ],
      "text/plain": [
       "<IPython.core.display.Markdown object>"
      ]
     },
     "metadata": {},
     "output_type": "display_data"
    },
    {
     "name": "stdout",
     "output_type": "stream",
     "text": [
      " ... sommige mensen gebruikten hun baboe gewoon als slaaf ik  ... \n",
      "\n",
      " ... zakdoek liet vallen de baboe om hem op te  ... \n",
      "\n"
     ]
    },
    {
     "data": {
      "text/markdown": [
       "<span style='font-weight: bold; color:#6b0617; '>Occurrences in Onze Arie is dood : een kleine geschiedenis, een menselijk document (03520.txt)</span>"
      ],
      "text/plain": [
       "<IPython.core.display.Markdown object>"
      ]
     },
     "metadata": {},
     "output_type": "display_data"
    },
    {
     "name": "stdout",
     "output_type": "stream",
     "text": [
      " ... 20 jongens heeft 4 baboes gisteren hebben ze voor  ... \n",
      "\n"
     ]
    },
    {
     "data": {
      "text/markdown": [
       "<span style='font-weight: bold; color:#6b0617; '>Occurrences in Mijn Ruiters : ervaringen als commandant van het 4e Eskadron Pantserwagens, Huzaren van Boreel, tijdens de politionele acties (1947-1949) in toenmalig Nederlands-Indië (03524.txt)</span>"
      ],
      "text/plain": [
       "<IPython.core.display.Markdown object>"
      ]
     },
     "metadata": {},
     "output_type": "display_data"
    },
    {
     "name": "stdout",
     "output_type": "stream",
     "text": [
      " ... opzeggen een kokkie een baboe-tjoetji en onze messbediende oedjan  ... \n",
      "\n",
      " ... en de kinderen mèt baboe mina die mee wilde  ... \n",
      "\n",
      " ... met de kinderen en baboe veilig en wel afgeleverd  ... \n",
      "\n",
      " ... twee ruime kamers de baboe was bij het overige  ... \n",
      "\n",
      " ... 2922 m en de merbaboe 3142 m de eerste  ... \n",
      "\n",
      " ... die daar goed door baboe mina werden verzorgd corrie  ... \n",
      "\n",
      " ... maar daar had de pelotonsbaboe tjoetji wasbaboe dan ook  ... \n",
      "\n",
      " ... had de pelotonsbaboe tjoetji wasbaboe dan ook de koude  ... \n",
      "\n",
      " ... een schone door de baboe gewassen en gestreken hemd  ... \n",
      "\n",
      " ... page 294 een baboe tjoetji temidden van haar  ... \n",
      "\n",
      " ... dan ging de pelotons baboe tjoetji ook mee deze  ... \n",
      "\n",
      " ... ruimte daar was de baboe gehurkt zittend bij een  ... \n",
      "\n",
      " ... het hoofd van de baboe heen die zei alleen  ... \n",
      "\n",
      " ... palmbladeren gebruikt voor dakbedekking baboe vrouwelijke huisbediende baboe-tjoetji wasbaboe  ... \n",
      "\n",
      " ... dakbedekking baboe vrouwelijke huisbediende baboe-tjoetji wasbaboe baleh-baleh slaapbank van  ... \n",
      "\n",
      " ... baboe vrouwelijke huisbediende baboe-tjoetji wasbaboe baleh-baleh slaapbank van bamboe  ... \n",
      "\n"
     ]
    },
    {
     "data": {
      "text/markdown": [
       "<span style='font-weight: bold; color:#6b0617; '>Occurrences in Olie en vuur op de golven : het enerverend verhaal van een beroeps-marineman vo?o?r, tijdens en na de Tweede Wereldoorlog 1938-1970 (03525.txt)</span>"
      ],
      "text/plain": [
       "<IPython.core.display.Markdown object>"
      ]
     },
     "metadata": {},
     "output_type": "display_data"
    },
    {
     "data": {
      "text/markdown": [
       "<span style='font-weight: bold; color:#6b0617; '>Occurrences in Achter de berg lag de toekomst : momentopnamen vanuit de 1e Hupva Infanterie Brigade Groep, C Divisie 7 December (03526.txt)</span>"
      ],
      "text/plain": [
       "<IPython.core.display.Markdown object>"
      ]
     },
     "metadata": {},
     "output_type": "display_data"
    },
    {
     "name": "stdout",
     "output_type": "stream",
     "text": [
      " ... de markttdie betjahvoerman?of de baboe misschien?de djongos die zo  ... \n",
      "\n",
      " ... de was door de baboes nog bjjna stijf uit  ... \n",
      "\n",
      " ... eens nadenken hoe die baboe onze kleren telkens toch  ... \n",
      "\n",
      " ... onmisbare hulp van de baboe het is zeker niet  ... \n",
      "\n",
      " ... ook allemaal kenden de baboe idie elke keer weer  ... \n",
      "\n",
      " ... a page 116 die baboeloudere en minder oude indonesische  ... \n",
      "\n",
      " ... die omgang met die baboe zy waarmee elke dag  ... \n",
      "\n",
      " ... je!\"en toch j die baboeinooit opvallend.nooit onbeleefd tegen haar  ... \n",
      "\n",
      " ... best wisten dat onze baboe ginds veel zorgvuldiger met  ... \n",
      "\n",
      " ... teruggek.perd waren naar de baboe die kampong die allemaal  ... \n",
      "\n"
     ]
    },
    {
     "data": {
      "text/markdown": [
       "<span style='font-weight: bold; color:#6b0617; '>Occurrences in Indiëgangers : verhalen van Nederlanders die naar Indië trokken (03528.txt)</span>"
      ],
      "text/plain": [
       "<IPython.core.display.Markdown object>"
      ]
     },
     "metadata": {},
     "output_type": "display_data"
    },
    {
     "name": "stdout",
     "output_type": "stream",
     "text": [
      " ... zich hier aan hun baboe siti en aan de  ... \n",
      "\n",
      " ... het hele gezin inclusief baboe siti maakte de reis  ... \n",
      "\n"
     ]
    },
    {
     "data": {
      "text/markdown": [
       "<span style='font-weight: bold; color:#6b0617; '>Occurrences in Historische reeks Land van Heusden en Altena (03529.txt)</span>"
      ],
      "text/plain": [
       "<IPython.core.display.Markdown object>"
      ]
     },
     "metadata": {},
     "output_type": "display_data"
    },
    {
     "data": {
      "text/markdown": [
       "<span style='font-weight: bold; color:#6b0617; '>Occurrences in Nooit vergeten, djangan lupa : een geschiedenis van de jongens uit Puiflijk, Horssen, Druten, Deest en Afferden in Indië en op Nieuw Guinea tussen 1945 en 1963 (03530.txt)</span>"
      ],
      "text/plain": [
       "<IPython.core.display.Markdown object>"
      ]
     },
     "metadata": {},
     "output_type": "display_data"
    },
    {
     "data": {
      "text/markdown": [
       "<span style='font-weight: bold; color:#6b0617; '>Occurrences in Daar woonde mijn huis en daar sliep mijn bed : het verhaal over mijn diensttijd in Indië (1947 t/m 1950) (03532.txt)</span>"
      ],
      "text/plain": [
       "<IPython.core.display.Markdown object>"
      ]
     },
     "metadata": {},
     "output_type": "display_data"
    },
    {
     "name": "stdout",
     "output_type": "stream",
     "text": [
      " ... mtss toen een mooie baboe zich aanbood om voor  ... \n",
      "\n",
      " ... hieronder zien we een baboe aan het werk die  ... \n",
      "\n",
      " ... gewoonterecht ajam anak babi baboe baleh-baleh banjak belanda bersiap  ... \n",
      "\n"
     ]
    },
    {
     "data": {
      "text/markdown": [
       "<span style='font-weight: bold; color:#6b0617; '>Occurrences in Omstreden paradijs : ooggetuigen van Nederlands-Indië (03535.txt)</span>"
      ],
      "text/plain": [
       "<IPython.core.display.Markdown object>"
      ]
     },
     "metadata": {},
     "output_type": "display_data"
    },
    {
     "name": "stdout",
     "output_type": "stream",
     "text": [
      " ... voor een maand als baboe is aangenomen de uiterste  ... \n",
      "\n",
      " ... de tante die als baboe dienst doet schijnt mij  ... \n",
      "\n",
      " ... de kinderen met de baboe of de kinderjuffrouw in  ... \n",
      "\n"
     ]
    },
    {
     "data": {
      "text/markdown": [
       "<span style='font-weight: bold; color:#6b0617; '>Occurrences in Indonesia 1945-1948 : a Dutch soldier's diary (03536.txt)</span>"
      ],
      "text/plain": [
       "<IPython.core.display.Markdown object>"
      ]
     },
     "metadata": {},
     "output_type": "display_data"
    },
    {
     "name": "stdout",
     "output_type": "stream",
     "text": [
      " ... a djongos boy or baboe girl to do our  ... \n",
      "\n"
     ]
    },
    {
     "data": {
      "text/markdown": [
       "<span style='font-weight: bold; color:#6b0617; '>Occurrences in Tabee sobats! : DAMETIN, meer dan een terugblik. (03537.txt)</span>"
      ],
      "text/plain": [
       "<IPython.core.display.Markdown object>"
      ]
     },
     "metadata": {},
     "output_type": "display_data"
    },
    {
     "name": "stdout",
     "output_type": "stream",
     "text": [
      " ... werksters die ook wel baboes genoemd werden ze verzorgden  ... \n",
      "\n",
      " ... stond hun hier een baboe ten dienste die elke  ... \n",
      "\n"
     ]
    },
    {
     "data": {
      "text/markdown": [
       "<span style='font-weight: bold; color:#6b0617; '>Occurrences in \"Gebeurtenissen uit Het dagboek van Roel\"\" : mede bestemd voor zijn maatjes die altijd stand-by waren en voor hen die er zich betrokken bij voelen /\"\"\" (03539.txt)</span>"
      ],
      "text/plain": [
       "<IPython.core.display.Markdown object>"
      ]
     },
     "metadata": {},
     "output_type": "display_data"
    },
    {
     "name": "stdout",
     "output_type": "stream",
     "text": [
      " ... en de klamboe de baboes die voor de was  ... \n",
      "\n",
      " ... groter dan de andere baboes haar tanden waren omrand  ... \n",
      "\n",
      " ... soerats pasjes van de baboes controleren tijdens de controle  ... \n",
      "\n",
      " ... soerat van een jonge baboe zei een maat:\"kijk eens  ... \n",
      "\n",
      " ... wit blauw dat sommige baboes spraken in wezen was  ... \n",
      "\n",
      " ... heb ik aan de baboe gegeven dirk de zwager  ... \n",
      "\n",
      " ... aan een lijn de baboes hadden het niet op  ... \n",
      "\n",
      " ... het wassen door de baboe tijdens het wassen werd  ... \n",
      "\n",
      " ... de sarong van de baboe ook niet hij werd  ... \n",
      "\n",
      " ... palmbomen hier waren de baboes ondergebracht   ... \n",
      "\n",
      " ... het bijzijn van de baboes te doen mogelijkerwijze waren  ... \n",
      "\n",
      " ... men zegt dat de baboes niet meer bij hem  ... \n",
      "\n",
      " ... het kampement begonnen de baboes te lachen die vonden  ... \n",
      "\n",
      " ... de keer dat de baboe van jacob b en  ... \n",
      "\n",
      " ... toean kokki mek-mek sama baboe johanna di dapoer jacob  ... \n",
      "\n",
      " ... vurige tengels van hun baboe af moest blijven   ... \n",
      "\n",
      " ... kneep in casu de baboe in de keuken vandaar  ... \n",
      "\n",
      " ... moest bewaren voor de baboes   ... \n",
      "\n",
      " ... om de zus van baboe johanna bij zich te  ... \n",
      "\n",
      " ... waren bezig om een baboe zeer tegen haar zin  ... \n",
      "\n",
      " ... en zeer zeker geen baboes blijkbaar werden de mannen  ... \n",
      "\n",
      " ... te lezen toen de baboe giet en haar iboe  ... \n",
      "\n",
      " ... om hem persoonlijk als baboe te dienen en zijn  ... \n",
      "\n",
      " ... het gedrag tegenover de baboes de uitlatingen die zovelen  ... \n",
      "\n",
      " ... medelijden met de persoonlijke baboe van de luit die  ... \n",
      "\n",
      " ... van belang want de baboes waren de was aan  ... \n",
      "\n",
      " ... er zoveel dat de baboes met zn allen maar  ... \n",
      "\n",
      " ... vrouw die tevens als baboe fungeert   ... \n",
      "\n",
      " ... zei hij dat de baboes ook nog wat te  ... \n",
      "\n"
     ]
    },
    {
     "data": {
      "text/markdown": [
       "<span style='font-weight: bold; color:#6b0617; '>Occurrences in Beesd, Indie? 1938-1951 (03540.txt)</span>"
      ],
      "text/plain": [
       "<IPython.core.display.Markdown object>"
      ]
     },
     "metadata": {},
     "output_type": "display_data"
    },
    {
     "name": "stdout",
     "output_type": "stream",
     "text": [
      " ... touw loll ie onze baboe lollie is n baboe  ... \n",
      "\n",
      " ... baboe lollie is n baboe die voor ons tweeën  ... \n",
      "\n"
     ]
    },
    {
     "data": {
      "text/markdown": [
       "<span style='font-weight: bold; color:#6b0617; '>Occurrences in KP'er in Zeist en oorlogsvrijwilliger in Nederlands-Indie? : herinneringen uit de jaren 1943-1950 van Kees Klijn (03541.txt)</span>"
      ],
      "text/plain": [
       "<IPython.core.display.Markdown object>"
      ]
     },
     "metadata": {},
     "output_type": "display_data"
    },
    {
     "name": "stdout",
     "output_type": "stream",
     "text": [
      " ... wist precies bij welke baboe ze een druiper en  ... \n",
      "\n",
      " ... met soms nederlandse leiding baboe een vrouwelijke huisbediende bonkaarten  ... \n",
      "\n"
     ]
    },
    {
     "data": {
      "text/markdown": [
       "<span style='font-weight: bold; color:#6b0617; '>Occurrences in Klein Nederlands soldatenboek : eerder aangekondigd als Groot Nederlands soldatenboek (03542.txt)</span>"
      ],
      "text/plain": [
       "<IPython.core.display.Markdown object>"
      ]
     },
     "metadata": {},
     "output_type": "display_data"
    },
    {
     "data": {
      "text/markdown": [
       "<span style='font-weight: bold; color:#6b0617; '>Occurrences in Mijn reis door drie jaren dienstplicht (1947-1950) (1947) (03544.txt)</span>"
      ],
      "text/plain": [
       "<IPython.core.display.Markdown object>"
      ]
     },
     "metadata": {},
     "output_type": "display_data"
    },
    {
     "name": "stdout",
     "output_type": "stream",
     "text": [
      " ... feestje bezoek van hun baboe gehad met alle trieste  ... \n",
      "\n"
     ]
    },
    {
     "data": {
      "text/markdown": [
       "<span style='font-weight: bold; color:#6b0617; '>Occurrences in Onze joo?s in de tropen 1945-1950 (03545.txt)</span>"
      ],
      "text/plain": [
       "<IPython.core.display.Markdown object>"
      ]
     },
     "metadata": {},
     "output_type": "display_data"
    },
    {
     "name": "stdout",
     "output_type": "stream",
     "text": [
      " ... hoofd voor een paar baboes om onze kleren te  ... \n",
      "\n"
     ]
    },
    {
     "data": {
      "text/markdown": [
       "<span style='font-weight: bold; color:#6b0617; '>Occurrences in Kemphanen : herinneringen aan 2-3-12 R.I. (03546.txt)</span>"
      ],
      "text/plain": [
       "<IPython.core.display.Markdown object>"
      ]
     },
     "metadata": {},
     "output_type": "display_data"
    },
    {
     "name": "stdout",
     "output_type": "stream",
     "text": [
      " ... was wordt verricht door baboes dit levert de nodige  ... \n",
      "\n",
      " ... de wasserij door de baboes is thans goregold deze  ... \n",
      "\n",
      " ... is thans goregold deze baboes zullen worden gekeurd door  ... \n",
      "\n",
      " ... wordt steeds regelmatiger de baboe s zijn door de  ... \n",
      "\n",
      " ... de kleding door de baboes is nu een oude  ... \n",
      "\n",
      " ... middag torug mot do baboes wolke dos morgons waren  ... \n",
      "\n",
      " ... vertrok op patrouille naar baboes rawa en nam de  ... \n",
      "\n",
      " ... de harde grond de baboes werden in bekassi achtergelaten  ... \n",
      "\n",
      " ... kölker j.b.m vertrok met baboes en katjongs naar batavia  ... \n",
      "\n",
      " ... straffere maatregelen betreffende de baboes afgekondigd woensdag 3 november  ... \n",
      "\n",
      " ... het wassen voor de baboes geeft enige moeilijkheden daar  ... \n",
      "\n",
      " ... juli 1949 doordat enige baboes niet zijn meegetrokken ontstond  ... \n",
      "\n"
     ]
    },
    {
     "data": {
      "text/markdown": [
       "<span style='font-weight: bold; color:#6b0617; '>Occurrences in Piet Kuyvenhoven en zijn tijd in het verzet en in Nederlands-Indië (1945-1948) (03548.txt)</span>"
      ],
      "text/plain": [
       "<IPython.core.display.Markdown object>"
      ]
     },
     "metadata": {},
     "output_type": "display_data"
    },
    {
     "name": "stdout",
     "output_type": "stream",
     "text": [
      " ... een baby aan een baboe mee gegeven toen nu  ... \n",
      "\n",
      " ... te horen dat de baboe met het kind was  ... \n",
      "\n",
      " ... een bepaald bedrag een baboe of djongos kleine jongen  ... \n",
      "\n",
      " ... dan schoven we de baboes wat extras toe als  ... \n",
      "\n"
     ]
    },
    {
     "data": {
      "text/markdown": [
       "<span style='font-weight: bold; color:#6b0617; '>Occurrences in Veghelse militairen in Indonesie? : periode 1945-1950 : onze jongens uit Veghel, Eerde, Mariaheide, Zijtaart in Nederlands Oost-Indie? (03549.txt)</span>"
      ],
      "text/plain": [
       "<IPython.core.display.Markdown object>"
      ]
     },
     "metadata": {},
     "output_type": "display_data"
    },
    {
     "name": "stdout",
     "output_type": "stream",
     "text": [
      " ... is onmiddellijk dood twee baboes wasvrouwen raken gewond gelukkig  ... \n",
      "\n"
     ]
    },
    {
     "data": {
      "text/markdown": [
       "<span style='font-weight: bold; color:#6b0617; '>Occurrences in De sobats van Co Groen' : 43 Genieveldcompagnie in Nederlands-Indië 1949-1950 (03551.txt)</span>"
      ],
      "text/plain": [
       "<IPython.core.display.Markdown object>"
      ]
     },
     "metadata": {},
     "output_type": "display_data"
    },
    {
     "name": "stdout",
     "output_type": "stream",
     "text": [
      " ... achter moeten laten die baboe had op dat moment  ... \n",
      "\n",
      " ... in batavia aan een baboe gegeven die was daar  ... \n",
      "\n",
      " ... we kennis met de baboes van de oude hap  ... \n",
      "\n",
      " ... hap we namen deze baboes van de oude hap  ... \n",
      "\n",
      " ... korte tijd blank de baboes moesten geëvacueerd worden terwijl  ... \n",
      "\n",
      " ... stond één van de baboes in het water nog  ... \n",
      "\n",
      " ... strijken we tilden de baboes   ... \n",
      "\n",
      " ... natuurlijk contact met onze baboe(s en djongos ik had  ... \n",
      "\n",
      " ... voor ons met de baboes wasvrouwen   ... \n",
      "\n",
      " ... op een middag twee baboes de was terugbrengen keurig  ... \n",
      "\n",
      " ... ik zijn met vier baboes in een 3-tonner gestapt  ... \n",
      "\n",
      " ... miem een oude baboe hebben ger en ik  ... \n",
      "\n",
      " ... militairen hadden wij een wasbaboe per man kreeg zij  ... \n",
      "\n",
      " ... meer kinderen onze eigen baboe had een jongetje van  ... \n",
      "\n",
      " ... hadden wij over onze baboe gesproken met ons ploegje  ... \n",
      "\n",
      " ... hebben wij aan onze baboe gegeven en ze was  ... \n",
      "\n",
      " ... vertelde ons dat de baboe van die zes roepia  ... \n",
      "\n",
      " ... leven daarom kwam die baboe een week niet werken  ... \n",
      "\n",
      " ... hadden twee djongossen twee baboes en twee koks de  ... \n",
      "\n",
      " ... ons huis en de baboes voor de was   ... \n",
      "\n",
      " ... dat de inlandse meisjes baboes onze kleren wasten en  ... \n",
      "\n",
      " ... jongen die nooit een baboe kietelen zou er woonden  ... \n",
      "\n",
      " ... een relatie met een baboe die meisjes wilden ze  ... \n",
      "\n",
      " ... hoorden stonden ineens twee baboes op blote voeten naast  ... \n",
      "\n",
      " ... weet dat we een baboe nog een keer een  ... \n",
      "\n",
      " ... waarschijnlijk weer van onze baboes zij kregen voor dergelijke  ... \n",
      "\n",
      " ... ik had een eigen baboe voor het eten en  ... \n",
      "\n",
      " ... week gaf ik de baboe al het eten wat  ... \n",
      "\n",
      " ... onze baboes waren altijd van alles  ... \n",
      "\n",
      " ... aankomst kwam er een baboe die ik uit tjiperai  ... \n",
      "\n",
      " ... waren geen koelies geen baboes en geen djongossen de  ... \n",
      "\n",
      " ... onbezorgd leven gewend de baboes wasten je kleding en  ... \n",
      "\n",
      " ... watten gelegd door de baboes en de djongossen mijn  ... \n",
      "\n",
      " ... dacht ik door onze baboe uitgenodigd we hebben daar  ... \n",
      "\n",
      " ... in soemedang een vaste baboe waarvan we saté kochten  ... \n",
      "\n",
      " ... er gepingeld met de baboe want dat hoorde erbij  ... \n",
      "\n",
      " ... relatie kreeg met een baboe die jongen is op  ... \n",
      "\n",
      " ... burgerpersoneel voor de verzorging baboes en djongossen op het  ... \n",
      "\n",
      " ... we hadden wel onze baboes en djongos uit die  ... \n",
      "\n",
      " ... page 467 de baboes en de djongos die  ... \n",
      "\n"
     ]
    },
    {
     "data": {
      "text/markdown": [
       "<span style='font-weight: bold; color:#6b0617; '>Occurrences in Dienstbaar in gelatenheid : over verwanten : het archief Theo Barten (2005) (03552.txt)</span>"
      ],
      "text/plain": [
       "<IPython.core.display.Markdown object>"
      ]
     },
     "metadata": {},
     "output_type": "display_data"
    },
    {
     "name": "stdout",
     "output_type": "stream",
     "text": [
      " ... man of 6 een baboe inlandse vrouw die dat  ... \n",
      "\n"
     ]
    },
    {
     "data": {
      "text/markdown": [
       "<span style='font-weight: bold; color:#6b0617; '>Occurrences in 3-3 R.I. korpsgeschiedenis (1945) (03554.txt)</span>"
      ],
      "text/plain": [
       "<IPython.core.display.Markdown object>"
      ]
     },
     "metadata": {},
     "output_type": "display_data"
    },
    {
     "name": "stdout",
     "output_type": "stream",
     "text": [
      " ... taal waarbij zelfs aan baboe manis werd herinnerd en  ... \n",
      "\n",
      " ... an inkendjahe pamah mkendjoeloe erbaboe vlaadcleng jk lao>ga)m ywwje^y  ... \n",
      "\n"
     ]
    },
    {
     "data": {
      "text/markdown": [
       "<span style='font-weight: bold; color:#6b0617; '>Occurrences in Gedenkboek tweede miltrailleur-bataljon 1947-1950 (03555.txt)</span>"
      ],
      "text/plain": [
       "<IPython.core.display.Markdown object>"
      ]
     },
     "metadata": {},
     "output_type": "display_data"
    },
    {
     "name": "stdout",
     "output_type": "stream",
     "text": [
      " ... kazerne uit en de baboes en koelies voor de  ... \n",
      "\n",
      " ... dat moment steekt de baboe haar hoofd om de  ... \n",
      "\n",
      " ... binnenlands bestuur bat bataljon baboe dienstmeid of wasvrouw belanda  ... \n",
      "\n"
     ]
    },
    {
     "data": {
      "text/markdown": [
       "<span style='font-weight: bold; color:#6b0617; '>Occurrences in Twee broers, twee luitenants in Indië : verslag van de militaire diensttijd van de broers Frans en Ted Hazekamp in England en Nederlands Oost-Indië 1945-1950, met de kwartierstaten van hun ouders: Hazekamp-van der Donk, Wellink-Wagenaar (03556.txt)</span>"
      ],
      "text/plain": [
       "<IPython.core.display.Markdown object>"
      ]
     },
     "metadata": {},
     "output_type": "display_data"
    },
    {
     "name": "stdout",
     "output_type": "stream",
     "text": [
      " ... asem tamarinde babi varken baboe dienstmeisje bamboe boomachtig gras  ... \n",
      "\n",
      " ... de kampong bij een baboe met of zonder sarong  ... \n",
      "\n",
      " ... er zijn duetten van baboes met enorme borsten vooral  ... \n",
      "\n",
      " ... met rotte mangas de baboes ruimen de bende wel  ... \n",
      "\n",
      " ... magdat^ja f f a sferbaboe boroboedoer r 10 20  ... \n",
      "\n",
      " ... de pas tussen het merbaboe gebergte met zijn diverse  ... \n",
      "\n",
      " ... zat gingen naar de baboes die er behas van  ... \n",
      "\n"
     ]
    },
    {
     "data": {
      "text/markdown": [
       "<span style='font-weight: bold; color:#6b0617; '>Occurrences in Toen had je de politionele acties : maar zonder 5-2 RI : 5-2 RI, 1947-1950: Nijmegen, Celebes, Java, Sumatra, Borneo : een beknopte geschiedenis van het bataljon 5-2 RI tegen de achtergrond van het Nederlands-Indonesisch conflict aan de hand van de belevenissen van soldaat eerste klas Nico Messing (2008) (03557.txt)</span>"
      ],
      "text/plain": [
       "<IPython.core.display.Markdown object>"
      ]
     },
     "metadata": {},
     "output_type": "display_data"
    },
    {
     "name": "stdout",
     "output_type": "stream",
     "text": [
      " ... dienstmeid of dienstknecht aangeduid baboe of djongos elk van  ... \n",
      "\n",
      " ... in padang-galai waren geen baboes of djongossen om de  ... \n",
      "\n",
      " ... 5-2 ri 34 amina baboe 56 anak agoeng ide  ... \n",
      "\n"
     ]
    },
    {
     "data": {
      "text/markdown": [
       "<span style='font-weight: bold; color:#6b0617; '>Occurrences in Onze kamelenbrug : 3e peoloton, 10e genie veldcompagnie, 2e divisie 1946, 519. (03559.txt)</span>"
      ],
      "text/plain": [
       "<IPython.core.display.Markdown object>"
      ]
     },
     "metadata": {},
     "output_type": "display_data"
    },
    {
     "name": "stdout",
     "output_type": "stream",
     "text": [
      " ... kenne we foor elleke baboe op de kniee gaan  ... \n",
      "\n",
      " ... door de jongens en baboes met dankbaarheid meegenomen   ... \n",
      "\n"
     ]
    },
    {
     "data": {
      "text/markdown": [
       "<span style='font-weight: bold; color:#6b0617; '>Occurrences in Berchse saldaote in Indië (1938) (03560.txt)</span>"
      ],
      "text/plain": [
       "<IPython.core.display.Markdown object>"
      ]
     },
     "metadata": {},
     "output_type": "display_data"
    },
    {
     "name": "stdout",
     "output_type": "stream",
     "text": [
      " ... sectie had een oerlelijke baboe geen sexpot op een  ... \n",
      "\n",
      " ... 98 het een gila baboe was en liep verder  ... \n",
      "\n",
      " ... een vrachtwagen vol met baboes   ... \n",
      "\n",
      " ... woorden adat alang alang baboe bali bali ook bale  ... \n",
      "\n",
      " ... dessa djongos gamelan gila baboe goedang gurkha kampella kampong  ... \n",
      "\n"
     ]
    },
    {
     "data": {
      "text/markdown": [
       "<span style='font-weight: bold; color:#6b0617; '>Occurrences in \"Over Unentse soldaten overzee : Den Vaderlant Ghetrouwe\"\" in Nederlands-Indie 1945-1950 /\"\"\" (03562.txt)</span>"
      ],
      "text/plain": [
       "<IPython.core.display.Markdown object>"
      ]
     },
     "metadata": {},
     "output_type": "display_data"
    },
    {
     "name": "stdout",
     "output_type": "stream",
     "text": [
      " ... een huisbediende en een baboe ter beschikking mm g  ... \n",
      "\n",
      " ... zijn tempatje de wasvrouwen baboes die dagelijks vanuit de  ... \n",
      "\n",
      " ... mandoer opzichtster van de baboes wasvrouwen zij is zich  ... \n",
      "\n",
      " ... afgekondigd dat behalve de baboes de wasvrouwen er geen  ... \n",
      "\n",
      " ... voordeel elke koelie of baboe die voor ons werkt  ... \n",
      "\n",
      " ... woordenlijst adat arak-arak atap baboe baleh-baleh barang batavia batik  ... \n",
      "\n"
     ]
    },
    {
     "data": {
      "text/markdown": [
       "<span style='font-weight: bold; color:#6b0617; '>Occurrences in Heen en weer : 1945-1948 (03564.txt)</span>"
      ],
      "text/plain": [
       "<IPython.core.display.Markdown object>"
      ]
     },
     "metadata": {},
     "output_type": "display_data"
    },
    {
     "name": "stdout",
     "output_type": "stream",
     "text": [
      " ... wanneer mn baboetje mamma met het eten  ... \n",
      "\n",
      " ... komen en gaan van baboes djongossen en andere inheemse  ... \n",
      "\n"
     ]
    },
    {
     "data": {
      "text/markdown": [
       "<span style='font-weight: bold; color:#6b0617; '>Occurrences in Oost-Java : gedenkboek der 4e Infanterie-Brigade (03565.txt)</span>"
      ],
      "text/plain": [
       "<IPython.core.display.Markdown object>"
      ]
     },
     "metadata": {},
     "output_type": "display_data"
    },
    {
     "name": "stdout",
     "output_type": "stream",
     "text": [
      " ... kennis gemaakt met de baboes koelies djongossen en alles  ... \n",
      "\n",
      " ... hoofd van zijn slanke baboe die aan zijn voeten  ... \n",
      "\n",
      " ... ampat orang de oude baboe grijnst en draaft weg  ... \n",
      "\n",
      " ... de oppasser en de baboe bliezen om beurten in  ... \n",
      "\n",
      " ... t is dat de baboes vertellen dat ze naar  ... \n",
      "\n",
      " ... doen en vinden de baboe toch maar een buitengewoon  ... \n",
      "\n",
      " ... baboes met geitjes kippen en  ... \n",
      "\n",
      " ... kopi aret avup afk baboe baik baleh-baleh banjak barang  ... \n",
      "\n"
     ]
    },
    {
     "data": {
      "text/markdown": [
       "<span style='font-weight: bold; color:#6b0617; '>Occurrences in Brieven uit Indie (03566.txt)</span>"
      ],
      "text/plain": [
       "<IPython.core.display.Markdown object>"
      ]
     },
     "metadata": {},
     "output_type": "display_data"
    },
    {
     "name": "stdout",
     "output_type": "stream",
     "text": [
      " ... opstak opper bakker had baboe s voor ons aangenomen  ... \n",
      "\n",
      " ... 21 februari trouwde onze baboe daar zijn we met  ... \n",
      "\n",
      " ... natuurlijk 2 kanten uit baboe moetia die pas getrouwd  ... \n",
      "\n"
     ]
    },
    {
     "data": {
      "text/markdown": [
       "<span style='font-weight: bold; color:#6b0617; '>Occurrences in Tempo Doeloe : Hardenbergers en Indie? (03568.txt)</span>"
      ],
      "text/plain": [
       "<IPython.core.display.Markdown object>"
      ]
     },
     "metadata": {},
     "output_type": "display_data"
    },
    {
     "name": "stdout",
     "output_type": "stream",
     "text": [
      " ... een foto van onze baboe die jarenlang met ons  ... \n",
      "\n",
      " ... jarenlang met ons meetrok baboe mos heette ze en  ... \n",
      "\n",
      " ... de baboes zorgden voor tvat bloemen  ... \n",
      "\n"
     ]
    },
    {
     "data": {
      "text/markdown": [
       "<span style='font-weight: bold; color:#6b0617; '>Occurrences in De jongens van 'Toedjoe Poeloe Doea' : herinneringsalbum van het Bataljon 3-14 R.I., 3e Infanterie Brigade Groep, 1 Divisie '7 December', West-Java 1946-1950 (03571.txt)</span>"
      ],
      "text/plain": [
       "<IPython.core.display.Markdown object>"
      ]
     },
     "metadata": {},
     "output_type": "display_data"
    },
    {
     "name": "stdout",
     "output_type": "stream",
     "text": [
      " ... arang houtskool waar de baboes hun strijkijzers mee vulden  ... \n",
      "\n",
      " ... met bijgebouwen voor de baboes vrouwen en kinderen van  ... \n",
      "\n",
      " ... doet z.e dit de baboe speth janus verhagen alle  ... \n",
      "\n",
      " ... klomp zeep voor de baboe en een tinnetje engelse  ... \n",
      "\n",
      " ... dat vonden enkele baboes die buiten stonden te  ... \n",
      "\n",
      " ... als aminah de zwarte baboe die ik nooit meer  ... \n",
      "\n",
      " ... boeijen mortierpeloton met een baboe achterop de motor hij  ... \n",
      "\n",
      " ... daarom heb hier geen baboes lief h ft leo  ... \n",
      "\n",
      " ... ook de baboes en de koelies van  ... \n",
      "\n",
      " ... tussen door werden de baboes en koelies verblijd met  ... \n",
      "\n",
      " ... zijn als kokki of baboe of djonggos op de  ... \n",
      "\n",
      " ... ontploft-ie niet koor van baboes wij zijn de baboes  ... \n",
      "\n",
      " ... baboes wij zijn de baboes van toedjoe poeloe doea  ... \n",
      "\n",
      " ... ons op te wachten baboe tie-tie stond met tranen  ... \n",
      "\n",
      " ... zich ook nog vier baboes bevonden die in manondjaja  ... \n",
      "\n",
      " ... dikwijls zoons van de baboes ze deden allerlei karweitjes  ... \n",
      "\n"
     ]
    },
    {
     "data": {
      "text/markdown": [
       "<span style='font-weight: bold; color:#6b0617; '>Occurrences in Tropen jaren : Cranendonckse jongens in Indie? en Nieuw-Guinea, 1945-1962 (03572.txt)</span>"
      ],
      "text/plain": [
       "<IPython.core.display.Markdown object>"
      ]
     },
     "metadata": {},
     "output_type": "display_data"
    },
    {
     "name": "stdout",
     "output_type": "stream",
     "text": [
      " ... het toezicht over de baboes wasvrouwen en de koelies  ... \n",
      "\n",
      " ... man was er één baboe ik gaf dan de  ... \n",
      "\n",
      " ... ik gaf dan de baboes zeep voor de was  ... \n",
      "\n",
      " ... alles schoon houden de baboes liepen mooi gekleed maar  ... \n",
      "\n",
      " ... we kregen ook een baboe en een loopjongetje er  ... \n",
      "\n",
      " ... boycotten het werd vele baboes en djongossen verboden om  ... \n",
      "\n",
      " ... alang lang rietachtig gras baboe vrouwelijke dienstbode bandjir zeer  ... \n",
      "\n"
     ]
    },
    {
     "data": {
      "text/markdown": [
       "<span style='font-weight: bold; color:#6b0617; '>Occurrences in Zomaar wat herinneringen aan mijn verblijf in Nederlands-Indie? (03573.txt)</span>"
      ],
      "text/plain": [
       "<IPython.core.display.Markdown object>"
      ]
     },
     "metadata": {},
     "output_type": "display_data"
    },
    {
     "name": "stdout",
     "output_type": "stream",
     "text": [
      " ... zijn onze koelies en baboes niet verschenen   ... \n",
      "\n"
     ]
    },
    {
     "data": {
      "text/markdown": [
       "<span style='font-weight: bold; color:#6b0617; '>Occurrences in Mariniersbrigade : uitgereikt ter gelegenheid van de herdenking 50 jaar Marbrig : 20 april 1994 van Ghent-kazerne Rotterdam (03574.txt)</span>"
      ],
      "text/plain": [
       "<IPython.core.display.Markdown object>"
      ]
     },
     "metadata": {},
     "output_type": "display_data"
    },
    {
     "name": "stdout",
     "output_type": "stream",
     "text": [
      " ... djago sendirianv kirden de baboes waarmee ze uitdrukking gaven  ... \n",
      "\n",
      " ... gekheid maingilah met de baboes moerti en noesia waarvan  ... \n",
      "\n",
      " ... kamertjes voor de beide baboes voor oosting en voor  ... \n",
      "\n",
      " ... aminah aminah was mijn baboe op haar blote kakkies  ... \n",
      "\n",
      " ... in soerabaja waar de baboes zich presenteerden als wasvrouwen  ... \n",
      "\n",
      " ... wist dat zij de baboe was van de toean  ... \n",
      "\n",
      " ... andere dag kwamen de baboes weer allemaal netjes naar  ... \n",
      "\n",
      " ... gerust op een andere baboe uit anders kan je  ... \n",
      "\n",
      " ... had tegenover de andere baboes opgeschept over de 25  ... \n",
      "\n",
      " ... ajam djaga sendirian a.g.-ploeg baboe barang baroe bersiap canteen  ... \n",
      "\n"
     ]
    },
    {
     "data": {
      "text/markdown": [
       "<span style='font-weight: bold; color:#6b0617; '>Occurrences in Militairen uit Heeswijk, Dinther en Loosbroek in Nederlands-Indie? en Nieuw-Guinea, 1945-1962 (03575.txt)</span>"
      ],
      "text/plain": [
       "<IPython.core.display.Markdown object>"
      ]
     },
     "metadata": {},
     "output_type": "display_data"
    },
    {
     "name": "stdout",
     "output_type": "stream",
     "text": [
      " ... aangenomen personeel koelies en baboes hij beheerste de maleise  ... \n",
      "\n"
     ]
    },
    {
     "data": {
      "text/markdown": [
       "<span style='font-weight: bold; color:#6b0617; '>Occurrences in Indië moet vrij : mijn bewogen jaren als oorlogsvrijwilliger in Nederlands Oost-Indië, 1945-1948 (03576.txt)</span>"
      ],
      "text/plain": [
       "<IPython.core.display.Markdown object>"
      ]
     },
     "metadata": {},
     "output_type": "display_data"
    },
    {
     "name": "stdout",
     "output_type": "stream",
     "text": [
      " ... het volgende verhaal een baboe die jarenlang dienst deed  ... \n",
      "\n",
      " ... opgetreden vond ze de baboe werd weggestuurd ondanks dat  ... \n",
      "\n",
      " ... zij zich haar afgedankte baboe haar man zocht contact  ... \n",
      "\n",
      " ... contact met haar de baboe werd gerehabiliteerd en de  ... \n",
      "\n",
      " ... bij de vrouwen de baboe wasvrouwen hulpjes in de  ... \n",
      "\n",
      " ... dat een van de baboes op een buitenpost een  ... \n",
      "\n",
      " ... een naar hem lonkende baboe en dit de volgende  ... \n",
      "\n"
     ]
    },
    {
     "data": {
      "text/markdown": [
       "<span style='font-weight: bold; color:#6b0617; '>Occurrences in Varen door mijn herinneringen : het leven van dolle Dries (03577.txt)</span>"
      ],
      "text/plain": [
       "<IPython.core.display.Markdown object>"
      ]
     },
     "metadata": {},
     "output_type": "display_data"
    },
    {
     "data": {
      "text/markdown": [
       "<span style='font-weight: bold; color:#6b0617; '>Occurrences in Dagboek van Wim Buiting : 03-02-1927 - 22-05-1949 : pionier van 5-5 R.I. : geschreven vanaf zijn aankomst in Indië op 12 januari 1948 tot 20 april 1949. (03578.txt)</span>"
      ],
      "text/plain": [
       "<IPython.core.display.Markdown object>"
      ]
     },
     "metadata": {},
     "output_type": "display_data"
    },
    {
     "name": "stdout",
     "output_type": "stream",
     "text": [
      " ... m et 25 km merbaboe setoegoer boroboédoer djatinom merapi  ... \n",
      "\n",
      " ... nog verder en de merbaboe en de merapi kon  ... \n",
      "\n",
      " ... al overgeplaatst en de baboes waren er al druk  ... \n",
      "\n",
      " ... verdween weer over de merbaboe even vlug als het  ... \n",
      "\n",
      " ... prachtig uitzicht op de merbaboe in de verte met  ... \n",
      "\n",
      " ... wel even werk de baboes waren zo vriendelijk ze  ... \n",
      "\n",
      " ... weg moeten maar de baboes kwamen nog terug en  ... \n",
      "\n",
      " ... de top van de merbaboe stak er even boven  ... \n",
      "\n",
      " ... kampong in geweest om baboes te halen en hij  ... \n",
      "\n",
      " ... en juist toen de baboes kwamen om te wassen  ... \n",
      "\n",
      " ... materiaal daarbij nog de baboes die zich vrijwillig hadden  ... \n",
      "\n",
      " ... kleding scheelde tegenover de baboes die we hier uit  ... \n",
      "\n",
      " ... nu werden de oude baboes weer ingezet en de  ... \n",
      "\n",
      " ... peloton kregen we 2 baboes waarvan er één goed  ... \n",
      "\n",
      " ... de baboes moesten nu ook mee  ... \n",
      "\n",
      " ... ik mee met de baboes als bewaking wassen in  ... \n",
      "\n",
      " ... ging ik met de baboes wassen in de fabriek  ... \n",
      "\n",
      " ... kwam wel door een baboe die zomaar mijn vriendinnetje  ... \n",
      "\n",
      " ... een poosje was zij baboe geworden bij luit donselaar  ... \n",
      "\n",
      " ... van de baboe kreeg ik een stel  ... \n",
      "\n",
      " ... honger te stillen de baboe kocht voor mij gauw  ... \n",
      "\n",
      " ... de baboe maakte je wakker pikte  ... \n",
      "\n",
      " ... b p.r.i b w baboe baleh-baleh banjak bekèl belanda  ... \n",
      "\n"
     ]
    },
    {
     "data": {
      "text/markdown": [
       "<span style='font-weight: bold; color:#6b0617; '>Occurrences in Pa, vertel 's over je tijd in Indië! : dagboekaantekeningen Indië 1946-1949 (03580.txt)</span>"
      ],
      "text/plain": [
       "<IPython.core.display.Markdown object>"
      ]
     },
     "metadata": {},
     "output_type": "display_data"
    },
    {
     "name": "stdout",
     "output_type": "stream",
     "text": [
      " ... gevangenen op waaronder een baboe die hier bij ons  ... \n",
      "\n",
      " ... verlaten dus ook geen baboes om de kleding te  ... \n",
      "\n",
      " ... afb 53 met de baboe op de foto in  ... \n",
      "\n",
      " ... planter vermoord morgen een baboe dan een loerah en  ... \n",
      "\n",
      " ... 1949 intussen hebben we baboes gekregen dus we hoeven  ... \n",
      "\n",
      " ... 10 februari 1949 een baboe die hier bij ons  ... \n",
      "\n"
     ]
    },
    {
     "data": {
      "text/markdown": [
       "<span style='font-weight: bold; color:#6b0617; '>Occurrences in Deze herinnering wil ik bewaren...' : gedenkboek van de Deurnese militairen in Ned. Indie? en Nieuw-Guinea in de periode 1945-1962, uit Deurne, Liessel, Neerkant, Helenaveen, Vlierden en Zeilberg (03581.txt)</span>"
      ],
      "text/plain": [
       "<IPython.core.display.Markdown object>"
      ]
     },
     "metadata": {},
     "output_type": "display_data"
    },
    {
     "name": "stdout",
     "output_type": "stream",
     "text": [
      " ... maaltijd te verkrijgen de baboes voor het vuile wasgoed  ... \n",
      "\n",
      " ... kletsen schoongeslagen en de baboes snaterden van alles en  ... \n",
      "\n",
      " ... kadi-paten en waar de baboes in t slijk hun  ... \n",
      "\n",
      " ... is dood perampeoan djongos baboe en anak anak zoiets  ... \n",
      "\n"
     ]
    },
    {
     "data": {
      "text/markdown": [
       "<span style='font-weight: bold; color:#6b0617; '>Occurrences in Een zoektocht naar Jan de foerier : een gewone Steenwijker in de Oost (03582.txt)</span>"
      ],
      "text/plain": [
       "<IPython.core.display.Markdown object>"
      ]
     },
     "metadata": {},
     "output_type": "display_data"
    },
    {
     "name": "stdout",
     "output_type": "stream",
     "text": [
      " ... verlaten we hadden daar baboes die voor ons wasten  ... \n",
      "\n",
      " ... weggingen eén van de baboes was getrouwd met een  ... \n",
      "\n",
      " ... de baboe voor de compagnie van  ... \n",
      "\n",
      " ... per maand voor haar baboe betaalt   ... \n",
      "\n",
      " ... het werk van een baboe   ... \n",
      "\n",
      " ... moet komen want de baboe is ziek ik zeg  ... \n",
      "\n",
      " ... ging mee naar de baboe en ze vroeg of  ... \n",
      "\n",
      " ... kinderen vragen geld de baboe zit bij ons een  ... \n",
      "\n",
      " ... foerageren in tjiamis de baboe van luitenant de wijze  ... \n",
      "\n"
     ]
    },
    {
     "data": {
      "text/markdown": [
       "<span style='font-weight: bold; color:#6b0617; '>Occurrences in Indie?-gangers uit Ootmarsum vertellen! (03585.txt)</span>"
      ],
      "text/plain": [
       "<IPython.core.display.Markdown object>"
      ]
     },
     "metadata": {},
     "output_type": "display_data"
    },
    {
     "name": "stdout",
     "output_type": "stream",
     "text": [
      " ... daar namelijk veel gifde baboe zorgde ervoor dat de  ... \n",
      "\n",
      " ... was het toen een baboe de vuile was kwam  ... \n",
      "\n",
      " ... man hadden we een baboe een wasvrouw die ons  ... \n",
      "\n",
      " ... lang begeleid door de baboe die voor de was  ... \n",
      "\n"
     ]
    },
    {
     "data": {
      "text/markdown": [
       "<span style='font-weight: bold; color:#6b0617; '>Occurrences in 2-6 RVA gedenkboek : aangeboden op de 15e reu?nie, 9 april 1999 (03587.txt)</span>"
      ],
      "text/plain": [
       "<IPython.core.display.Markdown object>"
      ]
     },
     "metadata": {},
     "output_type": "display_data"
    },
    {
     "name": "stdout",
     "output_type": "stream",
     "text": [
      " ... page 15 de baboe fluistert uit ons regimentsdoel  ... \n",
      "\n",
      " ... sisalen tapiocafabriek en de baboe fluistert uit ons regimentsdoel  ... \n",
      "\n",
      " ... prinses page 23 de baboe fluistert uit ons regimentsdoel  ... \n",
      "\n",
      " ... de baboe fluistert uit ons regimentsdoel  ... \n",
      "\n",
      " ... welvaart in het de baboe fluistert uit ons regimentsdoel  ... \n",
      "\n"
     ]
    },
    {
     "data": {
      "text/markdown": [
       "<span style='font-weight: bold; color:#6b0617; '>Occurrences in \"Contact\"\" tussen Beeg en onze Jongens in Indie? /\"\"\" (03588.txt)</span>"
      ],
      "text/plain": [
       "<IPython.core.display.Markdown object>"
      ]
     },
     "metadata": {},
     "output_type": "display_data"
    },
    {
     "name": "stdout",
     "output_type": "stream",
     "text": [
      " ... 1387 m links de merbaboe 3142 m voor ons  ... \n",
      "\n"
     ]
    },
    {
     "data": {
      "text/markdown": [
       "<span style='font-weight: bold; color:#6b0617; '>Occurrences in De soldaat onder een klapperboom : herinneringen aan mijn tijd als militair in voormalig Nederlands Indie? (03590.txt)</span>"
      ],
      "text/plain": [
       "<IPython.core.display.Markdown object>"
      ]
     },
     "metadata": {},
     "output_type": "display_data"
    },
    {
     "name": "stdout",
     "output_type": "stream",
     "text": [
      " ... zelf te doen een baboe deed de was en  ... \n",
      "\n",
      " ... weer echt schoon onze baboe was een oudere vrouw  ... \n",
      "\n",
      " ... het soppende wasgoed wassende baboes die de kleding met  ... \n",
      "\n",
      " ... weer vakkundig door de baboe aangenaaid in de felle  ... \n",
      "\n",
      " ... niet meer ja de baboe was een vriendelijke graag  ... \n",
      "\n",
      " ... de baboe die ons toegewezen was  ... \n",
      "\n",
      " ... de foto met de baboes de daaraan voorafgaande dag  ... \n",
      "\n",
      " ... de bananen aan de baboe en de djongos de  ... \n",
      "\n",
      " ... tempat 46 sirihpruim 46 baboe 48 terimah kasi banjak  ... \n",
      "\n"
     ]
    },
    {
     "data": {
      "text/markdown": [
       "<span style='font-weight: bold; color:#6b0617; '>Occurrences in Dagboek van een ARVA vlieger in Nederlands Indië : de opleiding en de operationele missies van ARVA vlieger Gerard Burgers (03592.txt)</span>"
      ],
      "text/plain": [
       "<IPython.core.display.Markdown object>"
      ]
     },
     "metadata": {},
     "output_type": "display_data"
    },
    {
     "data": {
      "text/markdown": [
       "<span style='font-weight: bold; color:#6b0617; '>Occurrences in Zij gingen voor orde en vrede (2010) (03594.txt)</span>"
      ],
      "text/plain": [
       "<IPython.core.display.Markdown object>"
      ]
     },
     "metadata": {},
     "output_type": "display_data"
    },
    {
     "data": {
      "text/markdown": [
       "<span style='font-weight: bold; color:#6b0617; '>Occurrences in De laatste lichting (1949) (03596.txt)</span>"
      ],
      "text/plain": [
       "<IPython.core.display.Markdown object>"
      ]
     },
     "metadata": {},
     "output_type": "display_data"
    },
    {
     "name": "stdout",
     "output_type": "stream",
     "text": [
      " ... jonge knapen en de baboe verzorgde je was dus  ... \n",
      "\n",
      " ... met de djongos en baboes praten want die verloren  ... \n",
      "\n"
     ]
    },
    {
     "data": {
      "text/markdown": [
       "<span style='font-weight: bold; color:#6b0617; '>Occurrences in Eerbetoon aan onze jongens in Oost-Indie?, 1945-1951 : gemeente Weerselo (03597.txt)</span>"
      ],
      "text/plain": [
       "<IPython.core.display.Markdown object>"
      ]
     },
     "metadata": {},
     "output_type": "display_data"
    },
    {
     "data": {
      "text/markdown": [
       "<span style='font-weight: bold; color:#6b0617; '>Occurrences in En ons moeder skru?wde... : Gemertse jongens als militair in Indonesie? en Nieuw-Guinea 1945-1962 (03598.txt)</span>"
      ],
      "text/plain": [
       "<IPython.core.display.Markdown object>"
      ]
     },
     "metadata": {},
     "output_type": "display_data"
    },
    {
     "name": "stdout",
     "output_type": "stream",
     "text": [
      " ... maand heeft ook de baboe dienstmeisje wasvrouw van frans  ... \n",
      "\n",
      " ... verkeken voor ons lief baboetje en misschien voor mij  ... \n",
      "\n",
      " ... ajam kip merah rood baboe dienstbode merdeka vrijheid baboe  ... \n",
      "\n",
      " ... baboe dienstbode merdeka vrijheid baboe tjoeti wasvrouw noni meisje  ... \n",
      "\n",
      " ... de tempat tidoer slaapplaats baboes terang boelan maanlicht doeloe  ... \n",
      "\n"
     ]
    },
    {
     "data": {
      "text/markdown": [
       "<span style='font-weight: bold; color:#6b0617; '>Occurrences in Een Hollandse jongen in Indië (1945) (03599.txt)</span>"
      ],
      "text/plain": [
       "<IPython.core.display.Markdown object>"
      ]
     },
     "metadata": {},
     "output_type": "display_data"
    },
    {
     "name": "stdout",
     "output_type": "stream",
     "text": [
      " ... met hete thee de baboe heeft me met een  ... \n",
      "\n",
      " ... kamp aan waar de baboe en djongos zich jammerend  ... \n",
      "\n"
     ]
    },
    {
     "data": {
      "text/markdown": [
       "<span style='font-weight: bold; color:#6b0617; '>Occurrences in Nooit meer thuis : Nederlands-Indie? 1934-1948 (03600.txt)</span>"
      ],
      "text/plain": [
       "<IPython.core.display.Markdown object>"
      ]
     },
     "metadata": {},
     "output_type": "display_data"
    },
    {
     "data": {
      "text/markdown": [
       "<span style='font-weight: bold; color:#6b0617; '>Occurrences in Van Amersfoort naar Batavia' door 4-8 R.I. (03601.txt)</span>"
      ],
      "text/plain": [
       "<IPython.core.display.Markdown object>"
      ]
     },
     "metadata": {},
     "output_type": "display_data"
    },
    {
     "name": "stdout",
     "output_type": "stream",
     "text": [
      " ... page 80 onze huisvesting baboes en djongos onze onderkomens  ... \n",
      "\n",
      " ... per onderkomen waren enkele baboes beschikbaar en wat djongos  ... \n",
      "\n",
      " ... een indië huisjongen de baboes deden hoofdzakelijk de was  ... \n",
      "\n",
      " ... verhuizen dan gingen de baboes en djongos vaak mee  ... \n",
      "\n",
      " ... intiem contact met hun baboes en soms volgde daar  ... \n",
      "\n",
      " ... relatie had met een baboe wilde trouwen maar het  ... \n",
      "\n",
      " ... pf 1948 een groep baboes doen de was in  ... \n",
      "\n",
      " ... en fiets en een baboe page 84 onze wapens  ... \n",
      "\n",
      " ... zijn 19 set een baboe aan de was een  ... \n",
      "\n",
      " ... zorgen voor een aantal baboes tevens werd het loon  ... \n",
      "\n",
      " ... vier werd er één baboe aangesteld voor de was  ... \n",
      "\n",
      " ... grote schoonmaak in het baboehuis die het moesten verlaten  ... \n",
      "\n",
      " ... de djongos en de baboe kwamen de bedden en  ... \n",
      "\n",
      " ... voorvalletje te zien de baboe en haar man waren  ... \n",
      "\n",
      " ... een beetje op hol baboes en djongossen blijven grotendeels  ... \n",
      "\n",
      " ... blijven grotendeels achter onzer baboe gaat mee maar de  ... \n",
      "\n",
      " ... rotzooitje is met de baboes en de djongos een  ... \n",
      "\n",
      " ... en de djongos een baboe is bij de kapitein  ... \n",
      "\n",
      " ... genoemde personen door de baboe onder verhoor nam heel  ... \n",
      "\n",
      " ... reeds vroeg kwamen de baboes en djongossen met de  ... \n",
      "\n",
      " ... niet veel want de baboes hadden ruzie gehad onder  ... \n",
      "\n",
      " ... 518 vreemde woordenlijst a.m.v.j baboe bakarren belandas berhenti buitenpostpakians  ... \n",
      "\n"
     ]
    },
    {
     "data": {
      "text/markdown": [
       "<span style='font-weight: bold; color:#6b0617; '>Occurrences in Bestemming Soerabaja : een verzwegen verleden in Nederlands-Indie? (03602.txt)</span>"
      ],
      "text/plain": [
       "<IPython.core.display.Markdown object>"
      ]
     },
     "metadata": {},
     "output_type": "display_data"
    },
    {
     "name": "stdout",
     "output_type": "stream",
     "text": [
      " ... page 155 een baboe krijgen een indië vrouw  ... \n",
      "\n"
     ]
    },
    {
     "data": {
      "text/markdown": [
       "<span style='font-weight: bold; color:#6b0617; '>Occurrences in Indie? 1947-1948 : een prachtig land in oorlog (03603.txt)</span>"
      ],
      "text/plain": [
       "<IPython.core.display.Markdown object>"
      ]
     },
     "metadata": {},
     "output_type": "display_data"
    },
    {
     "name": "stdout",
     "output_type": "stream",
     "text": [
      " ... een familie samen de baboe poetst de schoenen en  ... \n",
      "\n",
      " ... 87 ernacht met die baboes mee naar de kampongs  ... \n",
      "\n",
      " ... lenen van de andere baboes zodat ze er vanwege  ... \n",
      "\n",
      " ... we ons een leuke baboe opgesnord die onze was  ... \n",
      "\n",
      " ... mogen wij hier geen baboes hebben we hebben nu  ... \n",
      "\n"
     ]
    },
    {
     "data": {
      "text/markdown": [
       "<span style='font-weight: bold; color:#6b0617; '>Occurrences in Veldhovense jongens in Nederlands-Indie? en Nederlands Nieuw-Guinea 1945-1962 (03605.txt)</span>"
      ],
      "text/plain": [
       "<IPython.core.display.Markdown object>"
      ]
     },
     "metadata": {},
     "output_type": "display_data"
    },
    {
     "name": "stdout",
     "output_type": "stream",
     "text": [
      " ... kreeg ieder groepje een baboe wasvrouw toegewezen en een  ... \n",
      "\n"
     ]
    },
    {
     "data": {
      "text/markdown": [
       "<span style='font-weight: bold; color:#6b0617; '>Occurrences in Herinnering Indie?-Veteranen Laarbeek 1973-1998 : [hoe is het ons vergaan in en na onze tropentijd] (03606.txt)</span>"
      ],
      "text/plain": [
       "<IPython.core.display.Markdown object>"
      ]
     },
     "metadata": {},
     "output_type": "display_data"
    },
    {
     "name": "stdout",
     "output_type": "stream",
     "text": [
      " ... anak kind babi varken baboe wasvrouw bagoes mooi goed  ... \n",
      "\n",
      " ... p gielens soesi de baboe m v.d elzen van  ... \n",
      "\n",
      " ... nog een of andere baboe mee gesmokkeld zou zijn  ... \n",
      "\n"
     ]
    },
    {
     "data": {
      "text/markdown": [
       "<span style='font-weight: bold; color:#6b0617; '>Occurrences in Hop en palmen : herinneringsboek van Schijndelse militairen in Nederlands-Indie?, 1945-1950 (03607.txt)</span>"
      ],
      "text/plain": [
       "<IPython.core.display.Markdown object>"
      ]
     },
     "metadata": {},
     "output_type": "display_data"
    },
    {
     "name": "stdout",
     "output_type": "stream",
     "text": [
      " ... onze baboe had een leuke naam  ... \n",
      "\n",
      " ... een werkster was een baboe deur dicht was toetoep  ... \n",
      "\n",
      " ... terug van patrouille de baboe verzorgde de was en  ... \n",
      "\n"
     ]
    },
    {
     "data": {
      "text/markdown": [
       "<span style='font-weight: bold; color:#6b0617; '>Occurrences in Rien van Rixtel : Wachtmeester der Koninklijke Marechaussee, Indie? veteraan : 1948-1950, ingedeeld bij het Korps Militaire Politie op Java (03608.txt)</span>"
      ],
      "text/plain": [
       "<IPython.core.display.Markdown object>"
      ]
     },
     "metadata": {},
     "output_type": "display_data"
    },
    {
     "name": "stdout",
     "output_type": "stream",
     "text": [
      " ... het inlands nieuwjaar de baboes en de katjongs hebben  ... \n",
      "\n",
      " ... mijn vroegere wasbaboe tjana genaamd had kennelijk  ... \n",
      "\n",
      " ... apart waslokaal met andere wasbaboes ik heb nog wat  ... \n",
      "\n",
      " ... maar weer dat de baboes goed op de hoogte  ... \n",
      "\n",
      " ... bij de was de baboes hadden er kennelijk wel  ... \n",
      "\n",
      " ... en terecht natuurlijk mijn baboe tjana dacht dat ik  ... \n",
      "\n",
      " ... volgende ochtend door de wasbaboe opgehaald en zijn s  ... \n",
      "\n",
      " ... wel spannend om die baboe eens te zien buiten  ... \n",
      "\n",
      " ... was elders gelegerd de baboe had kennelijk een avondje  ... \n",
      "\n",
      " ... daar stond de bloedmooie baboe zij keek mij verbaasd  ... \n",
      "\n",
      " ... veel liever bij het baboetje op het detachement gebleven  ... \n",
      "\n",
      " ... zijn er nog steeds wasbaboes alhoewel er steeds meer  ... \n",
      "\n",
      " ... blijkt duidelijk dat de baboes heimwee hebben naar vroeger  ... \n",
      "\n",
      " ... nog dat ik de baboes een beetje verlegen tegemoet  ... \n",
      "\n",
      " ... is een leuke jonge baboe bij met een fantastisch  ... \n",
      "\n",
      " ... hilariteit van de anderen baboes verklaar ik altijd uitvoerig  ... \n",
      "\n",
      " ... te gaan omdat de baboes niet zelf het wasgoed  ... \n",
      "\n",
      " ... merkte wel dat de baboe van mij gecharmeerd was  ... \n",
      "\n",
      " ... gecharmeerd was de andere baboes gunden mij wel een  ... \n",
      "\n",
      " ... ik dat mijn favoriete baboe poedelnaakt op haar hurken  ... \n",
      "\n",
      " ... en om de andere baboes te plezieren heb ik  ... \n",
      "\n",
      " ... tussen ai die andere baboes geen raad wist ben  ... \n",
      "\n",
      " ... jonge vrouwtje had als baboe gediend bij een kl-onderdeel  ... \n",
      "\n",
      " ... baby verzorgd door mijn wasbaboe en ze hadden gedrieën  ... \n",
      "\n",
      " ... prima die werden door kookbaboes bereid en hun nasimaaltijden  ... \n",
      "\n",
      " ... een kraantje waaruit de wasbaboes hun waswater haalden dit  ... \n",
      "\n",
      " ... het loon van de wasbaboes wanneer er bij het  ... \n",
      "\n",
      " ... begint al met de wasbaboe die kent mij al  ... \n",
      "\n",
      " ... mijn bed legde de baboe is een jaar of  ... \n",
      "\n"
     ]
    },
    {
     "data": {
      "text/markdown": [
       "<span style='font-weight: bold; color:#6b0617; '>Occurrences in 1947 - 1997 5-5 R.I : herinneringsboek (03609.txt)</span>"
      ],
      "text/plain": [
       "<IPython.core.display.Markdown object>"
      ]
     },
     "metadata": {},
     "output_type": "display_data"
    },
    {
     "name": "stdout",
     "output_type": "stream",
     "text": [
      " ... een prachtige voorgalerij twee wasbaboes hadden we ter beschikking  ... \n",
      "\n",
      " ... met 15 man de merbaboe beklimmen in 12 uur  ... \n",
      "\n"
     ]
    },
    {
     "data": {
      "text/markdown": [
       "<span style='font-weight: bold; color:#6b0617; '>Occurrences in Ons Indië : Gorcumse herinneringen (2011) (03610.txt)</span>"
      ],
      "text/plain": [
       "<IPython.core.display.Markdown object>"
      ]
     },
     "metadata": {},
     "output_type": "display_data"
    },
    {
     "data": {
      "text/markdown": [
       "<span style='font-weight: bold; color:#6b0617; '>Occurrences in \"Van burger tot veteraan : bataljon Zeeland\"\": hoe en waar? in de periode 1944-1948 /\"\"\" (03611.txt)</span>"
      ],
      "text/plain": [
       "<IPython.core.display.Markdown object>"
      ]
     },
     "metadata": {},
     "output_type": "display_data"
    },
    {
     "name": "stdout",
     "output_type": "stream",
     "text": [
      " ... waarop ze omspringen met baboes en bedienden die niet  ... \n",
      "\n"
     ]
    },
    {
     "data": {
      "text/markdown": [
       "<span style='font-weight: bold; color:#6b0617; '>Occurrences in \"Beilers in Nederlands-Indie : 1945-1950 : we hebben hier goed werk gedaan!\"\" /\"\"\" (03612.txt)</span>"
      ],
      "text/plain": [
       "<IPython.core.display.Markdown object>"
      ]
     },
     "metadata": {},
     "output_type": "display_data"
    },
    {
     "data": {
      "text/markdown": [
       "<span style='font-weight: bold; color:#6b0617; '>Occurrences in Bijna vergeten: Mechelse jongens gingen naar Indië : gedenkboek (03617.txt)</span>"
      ],
      "text/plain": [
       "<IPython.core.display.Markdown object>"
      ]
     },
     "metadata": {},
     "output_type": "display_data"
    },
    {
     "name": "stdout",
     "output_type": "stream",
     "text": [
      " ... hen kookt of de baboe die de was doet  ... \n",
      "\n",
      " ... we hebben drie nieuwe baboes aangenomen in het midden  ... \n",
      "\n"
     ]
    },
    {
     "data": {
      "text/markdown": [
       "<span style='font-weight: bold; color:#6b0617; '>Occurrences in De kist : het levensverhaal van The? van de Locht. (03618.txt)</span>"
      ],
      "text/plain": [
       "<IPython.core.display.Markdown object>"
      ]
     },
     "metadata": {},
     "output_type": "display_data"
    },
    {
     "name": "stdout",
     "output_type": "stream",
     "text": [
      " ... de helling van de merbaboe kopeng is gebouwd als  ... \n",
      "\n",
      " ... de merbaboe met kopeng op zijn  ... \n",
      "\n"
     ]
    },
    {
     "data": {
      "text/markdown": [
       "<span style='font-weight: bold; color:#6b0617; '>Occurrences in Voor vorstin en vaderland : de keerzijde der medaille (03619.txt)</span>"
      ],
      "text/plain": [
       "<IPython.core.display.Markdown object>"
      ]
     },
     "metadata": {},
     "output_type": "display_data"
    },
    {
     "name": "stdout",
     "output_type": "stream",
     "text": [
      " ... de kampong genteng arriveren baboe atjeum begint meteen met  ... \n",
      "\n",
      " ... haar riep zag de baboe dat muller en zijn  ... \n",
      "\n"
     ]
    },
    {
     "data": {
      "text/markdown": [
       "<span style='font-weight: bold; color:#6b0617; '>Occurrences in Was het dit wel waard? : getuigenissen van een soldaat in Nederlansch-Indië (03622.txt)</span>"
      ],
      "text/plain": [
       "<IPython.core.display.Markdown object>"
      ]
     },
     "metadata": {},
     "output_type": "display_data"
    },
    {
     "name": "stdout",
     "output_type": "stream",
     "text": [
      " ...  page 13 baboe crobak demarcatielijn d.l kali  ... \n",
      "\n",
      " ... 194 cees met zijn baboe 22-08-1948 hier dan een  ... \n",
      "\n"
     ]
    },
    {
     "data": {
      "text/markdown": [
       "<span style='font-weight: bold; color:#6b0617; '>Occurrences in Verloren strijd met een verdwijnende achtergrond (1989) (03623.txt)</span>"
      ],
      "text/plain": [
       "<IPython.core.display.Markdown object>"
      ]
     },
     "metadata": {},
     "output_type": "display_data"
    },
    {
     "name": "stdout",
     "output_type": "stream",
     "text": [
      " ... de indo-europese meisjes zijn baboes zullen worden dit past  ... \n",
      "\n"
     ]
    },
    {
     "data": {
      "text/markdown": [
       "<span style='font-weight: bold; color:#6b0617; '>Occurrences in Vertel nog eens over de oorlog : oorlogsherinneringen van een onderwijzer (1991) (03624.txt)</span>"
      ],
      "text/plain": [
       "<IPython.core.display.Markdown object>"
      ]
     },
     "metadata": {},
     "output_type": "display_data"
    },
    {
     "name": "stdout",
     "output_type": "stream",
     "text": [
      " ... wij hadden een baboe die voor ons een  ... \n",
      "\n"
     ]
    },
    {
     "data": {
      "text/markdown": [
       "<span style='font-weight: bold; color:#6b0617; '>Occurrences in Een stem uit het veld : herinneringen van de ritmeester-adjudant van generaal S.H. Spoor (1988) (03626.txt)</span>"
      ],
      "text/plain": [
       "<IPython.core.display.Markdown object>"
      ]
     },
     "metadata": {},
     "output_type": "display_data"
    },
    {
     "name": "stdout",
     "output_type": "stream",
     "text": [
      " ... lieve kindje van de baboe niet begrijpende brieven van  ... \n",
      "\n",
      " ... het kamp zijn vreemd baboes in kleurige sarongs hangen  ... \n",
      "\n"
     ]
    },
    {
     "data": {
      "text/markdown": [
       "<span style='font-weight: bold; color:#6b0617; '>Occurrences in Eelder jongens in Indie? 1945-1950 (1990) (03627.txt)</span>"
      ],
      "text/plain": [
       "<IPython.core.display.Markdown object>"
      ]
     },
     "metadata": {},
     "output_type": "display_data"
    },
    {
     "name": "stdout",
     "output_type": "stream",
     "text": [
      " ... werd gedaan door de baboes en djongossen in deze  ... \n",
      "\n"
     ]
    },
    {
     "data": {
      "text/markdown": [
       "<span style='font-weight: bold; color:#6b0617; '>Occurrences in Noorderlicht op Midden-Java : gedenkboek 403e bataljon infanterie, 1948-1950 (1992) (03628.txt)</span>"
      ],
      "text/plain": [
       "<IPython.core.display.Markdown object>"
      ]
     },
     "metadata": {},
     "output_type": "display_data"
    },
    {
     "name": "stdout",
     "output_type": "stream",
     "text": [
      " ... 1948 schrijft j.w.e het baboeprobleem elke morgen om een  ... \n",
      "\n",
      " ... of zeven staat de baboe onze wandelende wasserij geduldig  ... \n",
      "\n",
      " ... weten nu dat de baboe strijken moet al stribbelt  ... \n",
      "\n",
      " ... betrouwbaarheid van personeel als baboes en djongossen enz   ... \n",
      "\n",
      " ... de sarong de gewone baboe en inlandse vrouw had  ... \n",
      "\n",
      " ... voor ons inlands personeel baboe en de jongens durfden  ... \n",
      "\n",
      " ... de dode slang de baboe wees op haar arm  ... \n",
      "\n",
      " ... het meteen aan de baboes moeten vragen want het  ... \n",
      "\n",
      " ... met de baboes hadden we geen ander  ... \n",
      "\n",
      " ... toppen van de vulkanen merbaboe en merapi waren met  ... \n",
      "\n",
      " ... aloon-aloon andjing nica awas baboe baleh-baleh bandjir baroe bedj  ... \n",
      "\n"
     ]
    },
    {
     "data": {
      "text/markdown": [
       "<span style='font-weight: bold; color:#6b0617; '>Occurrences in Notities van een soldaat : het dagboek van soldaat A.A. van der Heiden (03629.txt)</span>"
      ],
      "text/plain": [
       "<IPython.core.display.Markdown object>"
      ]
     },
     "metadata": {},
     "output_type": "display_data"
    },
    {
     "name": "stdout",
     "output_type": "stream",
     "text": [
      " ... soort opzichter van de baboes en djongossen ieder peloton  ... \n",
      "\n",
      " ... elke sectie heeft een baboe een vrouw die de  ... \n",
      "\n",
      " ... jaar of achttien de baboe van mijn sectie is  ... \n",
      "\n"
     ]
    },
    {
     "data": {
      "text/markdown": [
       "<span style='font-weight: bold; color:#6b0617; '>Occurrences in Dagboek van een oorlogsvrijwilliger (1994) (03630.txt)</span>"
      ],
      "text/plain": [
       "<IPython.core.display.Markdown object>"
      ]
     },
     "metadata": {},
     "output_type": "display_data"
    },
    {
     "name": "stdout",
     "output_type": "stream",
     "text": [
      " ... steeds meer voelbaar onze baboe s die voor ons  ... \n",
      "\n",
      " ... de was naar de baboes brengen van negen soldaten  ... \n",
      "\n",
      " ... die baboe is een meisje van  ... \n",
      "\n",
      " ... dus geen djongos geen baboe we moeten nu alles  ... \n",
      "\n",
      " ... vraag vrijdag nog geen baboe nu zelf de kleding  ... \n",
      "\n"
     ]
    },
    {
     "data": {
      "text/markdown": [
       "<span style='font-weight: bold; color:#6b0617; '>Occurrences in Belevenissen van een stormpionier : 15 juli 1946 - 19 april 1950 (1994) (03631.txt)</span>"
      ],
      "text/plain": [
       "<IPython.core.display.Markdown object>"
      ]
     },
     "metadata": {},
     "output_type": "display_data"
    },
    {
     "name": "stdout",
     "output_type": "stream",
     "text": [
      " ... zag ik de vulkanen merbaboe en de merapi met  ... \n",
      "\n",
      " ... we een paar keer baboe hadden geroepen daarop werd  ... \n",
      "\n",
      " ... plotseling kwam er een baboe opdagen ze vroeg beleefd  ... \n",
      "\n",
      " ... gedachte was misschienzijnwijvoordezemannietbelangrijkmeer de baboe bracht ons even later  ... \n",
      "\n",
      " ... werd er gekaart de baboe droeg het eten aan  ... \n",
      "\n"
     ]
    },
    {
     "data": {
      "text/markdown": [
       "<span style='font-weight: bold; color:#6b0617; '>Occurrences in 9 februari : vulneratus nec victus, gewond maar niet verslagen (03632.txt)</span>"
      ],
      "text/plain": [
       "<IPython.core.display.Markdown object>"
      ]
     },
     "metadata": {},
     "output_type": "display_data"
    },
    {
     "name": "stdout",
     "output_type": "stream",
     "text": [
      " ... manus gehoord dat de baboe reeds bij het rode  ... \n",
      "\n",
      " ... net bezig was een baboe over haar borsten te  ... \n",
      "\n",
      " ... springlevend ze rukte de baboe die te dicht bij  ... \n",
      "\n",
      " ... man een wasvrouw of baboe voor het wassen van  ... \n",
      "\n",
      " ... eén van onze baboes heette sarinah ze had  ... \n",
      "\n"
     ]
    },
    {
     "data": {
      "text/markdown": [
       "<span style='font-weight: bold; color:#6b0617; '>Occurrences in Doorbraak naar het onvoltooid verleden : autobiografie van een sergeant van het v.m. Koninklijk Nederlands Indisch Leger tijdens de Tweede Wereldoorlog tegen Japan (1995) (03633.txt)</span>"
      ],
      "text/plain": [
       "<IPython.core.display.Markdown object>"
      ]
     },
     "metadata": {},
     "output_type": "display_data"
    },
    {
     "name": "stdout",
     "output_type": "stream",
     "text": [
      " ... de merbaboe dat was de naam  ... \n",
      "\n",
      " ... de nukken van de merbaboe en de woelige zee  ... \n",
      "\n",
      " ... willem in zicht de merbaboe meerde langszij aan de  ... \n",
      "\n",
      " ... de merbaboe voer na verloop van  ... \n",
      "\n"
     ]
    },
    {
     "data": {
      "text/markdown": [
       "<span style='font-weight: bold; color:#6b0617; '>Occurrences in Zeg, Hollands soldaat... : gebaseerd op originele brieven en rapporten van Indie?-soldaten van het voormalige 425e Bataljon Infanterie in de periode 1949/1950 op Midden-Java (1995) (03637.txt)</span>"
      ],
      "text/plain": [
       "<IPython.core.display.Markdown object>"
      ]
     },
     "metadata": {},
     "output_type": "display_data"
    },
    {
     "name": "stdout",
     "output_type": "stream",
     "text": [
      " ... want wat is die baboe in de kampong gaan  ... \n",
      "\n",
      " ... ander naar zijn vaste baboe etc en daar sta  ... \n",
      "\n",
      " ... buiten met een paar baboes te ouwebetten dat is  ... \n",
      "\n"
     ]
    },
    {
     "data": {
      "text/markdown": [
       "<span style='font-weight: bold; color:#6b0617; '>Occurrences in Ons Indie? (03638.txt)</span>"
      ],
      "text/plain": [
       "<IPython.core.display.Markdown object>"
      ]
     },
     "metadata": {},
     "output_type": "display_data"
    },
    {
     "name": "stdout",
     "output_type": "stream",
     "text": [
      " ... klamboe heen hanen kraaien baboes lachen daar verschijnt het  ... \n",
      "\n",
      " ... kregen we al spoedig baboes zodat we niet meer  ... \n",
      "\n",
      " ... kedoen gedeh pabajoeran menangasen baboedjaja babaian babakan teroesan telekpoetjoen  ... \n",
      "\n"
     ]
    },
    {
     "data": {
      "text/markdown": [
       "<span style='font-weight: bold; color:#6b0617; '>Occurrences in 5e Cie 4e Bataljon 11e Regt. Infanterie (1947) (03639.txt)</span>"
      ],
      "text/plain": [
       "<IPython.core.display.Markdown object>"
      ]
     },
     "metadata": {},
     "output_type": "display_data"
    },
    {
     "name": "stdout",
     "output_type": "stream",
     "text": [
      " ... het vele zweten de baboes en koelies hebben werk  ... \n",
      "\n",
      " ... hebben werk genoeg de baboes doen het netjes wassen  ... \n",
      "\n",
      " ... het wel de meeste baboes die bij ons werken  ... \n",
      "\n",
      " ... detachementen te zijn die baboes hebben die te vies  ... \n",
      "\n",
      " ... zien maar deze vieze baboes herken je gauw genoeg  ... \n",
      "\n",
      " ... voor ons doen en baboes doen de was de  ... \n",
      "\n",
      " ... te nemen beginnen de baboes te huilen die denken  ... \n",
      "\n",
      " ... de bevolking en de baboes waar we al die  ... \n",
      "\n",
      " ... vertrekken er waren verschillende baboes die vreselijk huilden omdat  ... \n",
      "\n",
      " ... bij c er waren baboes en djongos bij die  ... \n",
      "\n",
      " ... wisten wij van de baboes en djongos die bij  ... \n",
      "\n"
     ]
    },
    {
     "data": {
      "text/markdown": [
       "<span style='font-weight: bold; color:#6b0617; '>Occurrences in 3e Cie 4e Bataljon 11e Regt. Infanterie (1947) (03640.txt)</span>"
      ],
      "text/plain": [
       "<IPython.core.display.Markdown object>"
      ]
     },
     "metadata": {},
     "output_type": "display_data"
    },
    {
     "name": "stdout",
     "output_type": "stream",
     "text": [
      " ... als pech voor de baboes want die moeten het  ... \n",
      "\n",
      " ... ik nogal regelmatig de baboe plaagde maar daar stond  ... \n",
      "\n",
      " ... de overste achter de baboes aangegaan de lt eshuis  ... \n",
      "\n",
      " ... lt eshuis heeft deze baboes op zijn kamer gelaten  ... \n",
      "\n",
      " ... trof ik onze vroegere baboe watini nog even op  ... \n",
      "\n"
     ]
    },
    {
     "data": {
      "text/markdown": [
       "<span style='font-weight: bold; color:#6b0617; '>Occurrences in 1e Cie 4e Bataljon 11e Regt. Infanterie : uit het dagboek van een soldaat van de 1e Cie (1994) (03641.txt)</span>"
      ],
      "text/plain": [
       "<IPython.core.display.Markdown object>"
      ]
     },
     "metadata": {},
     "output_type": "display_data"
    },
    {
     "name": "stdout",
     "output_type": "stream",
     "text": [
      " ... even herrie over een baboe die te lui is  ... \n",
      "\n"
     ]
    },
    {
     "data": {
      "text/markdown": [
       "<span style='font-weight: bold; color:#6b0617; '>Occurrences in Herinneringen aan 43e Z.V.E. (03642.txt)</span>"
      ],
      "text/plain": [
       "<IPython.core.display.Markdown object>"
      ]
     },
     "metadata": {},
     "output_type": "display_data"
    },
    {
     "name": "stdout",
     "output_type": "stream",
     "text": [
      " ... geweer en werden de baboes toegewezen die konden gelijk  ... \n",
      "\n",
      " ... en zo hadden de baboes ook weer werk na  ... \n",
      "\n",
      " ... zei tot de angstige baboes maak je baas maar  ... \n",
      "\n",
      " ... dit schoon er zijn baboes die voor ons gewassen  ... \n",
      "\n",
      " ... zoals bekend waren de baboes nogal eens in verwachting  ... \n",
      "\n",
      " ... en nam de baboe vóór in de cabine  ... \n",
      "\n",
      " ... te kijken naar de baboes die zich kwamen wassen  ... \n",
      "\n"
     ]
    },
    {
     "data": {
      "text/markdown": [
       "<span style='font-weight: bold; color:#6b0617; '>Occurrences in In de greep van Soekarno : achtergronden van een proces tegen een Nederlander (1961) (03646.txt)</span>"
      ],
      "text/plain": [
       "<IPython.core.display.Markdown object>"
      ]
     },
     "metadata": {},
     "output_type": "display_data"
    },
    {
     "name": "stdout",
     "output_type": "stream",
     "text": [
      " ... goede plaatsvervangster voor het baboetje de echtgenoot schoot echter  ... \n",
      "\n"
     ]
    },
    {
     "data": {
      "text/markdown": [
       "<span style='font-weight: bold; color:#6b0617; '>Occurrences in Duizend dagen (1947) (03647.txt)</span>"
      ],
      "text/plain": [
       "<IPython.core.display.Markdown object>"
      ]
     },
     "metadata": {},
     "output_type": "display_data"
    },
    {
     "name": "stdout",
     "output_type": "stream",
     "text": [
      " ... wassen daar hebben we baboes wasvrouwen voor   ... \n",
      "\n",
      " ... ga ik naar de baboes ze moeten geweldig lachen  ... \n",
      "\n",
      " ... je gek van de baboes weten dat we vandaag  ... \n",
      "\n",
      " ... bruine gezicht van de baboe maaar zegt colly ik  ... \n",
      "\n",
      " ... is meegenomen door de baboe moeke zegt nog je  ... \n",
      "\n",
      " ... die hun djongos of baboe naar huis brengen   ... \n",
      "\n",
      " ... over onze baboe gesproken het is een  ... \n",
      "\n",
      " ... vertrekt en dat de baboe niet meer hoeft te  ... \n",
      "\n",
      " ... hier wonen ook enkele baboes   ... \n",
      "\n",
      " ... te weten dat deze baboes in dit verboden huis  ... \n",
      "\n",
      " ... gaan we tegen de baboes zeggen dat ze maar  ... \n",
      "\n",
      " ... de baboe en de buurvrouw geven  ... \n",
      "\n",
      " ... de baboe komt er ook bij  ... \n",
      "\n",
      " ... tegelijk uitgewassen en de baboe zal het wel even  ... \n",
      "\n",
      " ... de verrekte ploppers de baboe heeft het vanmorgen verteld  ... \n",
      "\n",
      " ... rookt een sigaret de baboe is al druk aan  ... \n",
      "\n",
      " ... gereedschap hebben als de baboe met een mes op  ... \n",
      "\n",
      " ... thuis het is geen baboe en ook geen djongos  ... \n",
      "\n",
      " ... hoor ik hoe onze baboe tegen de anderen zit  ... \n",
      "\n",
      " ... nog even naar onze baboe gaan zeggen dat ze  ... \n",
      "\n",
      " ... maar er is geen baboe het volgende krotje waar  ... \n",
      "\n",
      " ... moeten treffen we de baboe aan   ... \n",
      "\n",
      " ... en we horen de baboes al mopperen ze hebben  ... \n",
      "\n",
      " ... de plaats waar de baboes altijd de was doen  ... \n",
      "\n",
      " ... keer kwam er een baboe die zei dat ze  ... \n",
      "\n",
      " ... dagen geleden is onze baboe ons annie vertrokken al  ... \n",
      "\n",
      " ... lahat net als alle baboes en djongossen was ze  ... \n",
      "\n",
      " ... hij is met de baboe getrouwd voor een klein  ... \n",
      "\n",
      " ... balé balé boleh barang baboe bupati blanda bungus bakalei  ... \n",
      "\n"
     ]
    },
    {
     "data": {
      "text/markdown": [
       "<span style='font-weight: bold; color:#6b0617; '>Occurrences in De verzwegen oorlog : dagboek van een hospik in Indië 1947-1950 (03648.txt)</span>"
      ],
      "text/plain": [
       "<IPython.core.display.Markdown object>"
      ]
     },
     "metadata": {},
     "output_type": "display_data"
    },
    {
     "name": "stdout",
     "output_type": "stream",
     "text": [
      " ... boot geleerd en de baboes kennen al enkele hollandse  ... \n",
      "\n",
      " ... gegeten hebben haalt de baboe de vuile etensblikken de  ... \n",
      "\n",
      " ... verder stroomafwaarts zit een baboe in de kali haar  ... \n",
      "\n",
      " ... baboes moeten er voor zorgen  ... \n",
      "\n",
      " ... een wonderlijk land de baboes doen alles voor ons  ... \n",
      "\n",
      " ... onze baboe leert mij een versje  ... \n",
      "\n",
      " ... augustus vanmiddag is de baboe van een buitenpost bij  ... \n",
      "\n",
      " ... staan hij heeft een baboe voor de ziekenboeg en  ... \n",
      "\n",
      " ... eten zie je de baboes met blikken vol eten  ... \n",
      "\n",
      " ... zeven uur staat onze baboe met het eten voor  ... \n",
      "\n",
      " ... diverse correspondentie-vriendinnen ingehaakt de baboe is al meteen eigen  ... \n",
      "\n",
      " ... onze nieuwe baboe heet soetinah het is  ... \n",
      "\n",
      " ... gewoonte geworden dat zieke baboes bij ons kunnen overnachten  ... \n",
      "\n",
      " ... ik vaak bij de baboe in het hok kom  ... \n",
      "\n",
      " ... dat ik met de baboe vrij we zitten in  ... \n",
      "\n",
      " ... en wij krijgen de baboe die met brandwonden aan  ... \n",
      "\n",
      " ... heel goed verzorgd zijn baboe had een fijne maaltijd  ... \n",
      "\n",
      " ... arak gedronken wat de baboe van de marinier meegebracht  ... \n",
      "\n",
      " ... enigszins tegensputterend heeft de baboe de rotzooi opgeruimd   ... \n",
      "\n",
      " ... ons samen heeft gezien baboes mogen wel voor de  ... \n",
      "\n",
      " ... vijand de kali de baboes het brencarrier-peloton de natte  ... \n",
      "\n",
      " ... nog liever een javaanse baboe dan een halfbloed ik  ... \n",
      "\n",
      " ... er komen ook regelmatig baboes bij hem in het  ... \n",
      "\n",
      " ... speciale spuit waarmee de baboes zichzelf met zeepsop aborteren  ... \n",
      "\n",
      " ... 186 aloon-aloon arak austen baboe baleh baleh cadi carrier  ... \n",
      "\n"
     ]
    },
    {
     "data": {
      "text/markdown": [
       "<span style='font-weight: bold; color:#6b0617; '>Occurrences in IJsbloemen en witte velden : Ger V. en een spoor van geweld (1989) (03649.txt)</span>"
      ],
      "text/plain": [
       "<IPython.core.display.Markdown object>"
      ]
     },
     "metadata": {},
     "output_type": "display_data"
    },
    {
     "name": "stdout",
     "output_type": "stream",
     "text": [
      " ... het kamp waar de baboes bezig waren met de  ... \n",
      "\n",
      " ... baden en wasten de baboes de kleren een tiental  ... \n",
      "\n",
      " ... de gladde huid van baboe minah kon afhouden   ... \n",
      "\n",
      " ... vuil eruit kloppen zei baboe minah zangerig en ze  ... \n",
      "\n",
      " ... het gezelschap van de baboes had opgezocht zag zijn  ... \n",
      "\n"
     ]
    },
    {
     "data": {
      "text/markdown": [
       "<span style='font-weight: bold; color:#6b0617; '>Occurrences in Vogels over de Lembangweg (1989) (03650.txt)</span>"
      ],
      "text/plain": [
       "<IPython.core.display.Markdown object>"
      ]
     },
     "metadata": {},
     "output_type": "display_data"
    },
    {
     "name": "stdout",
     "output_type": "stream",
     "text": [
      " ... nangkaboom zonder ophouden schuwe baboes liepen tussen de woorden  ... \n",
      "\n",
      " ... tjimahi garnizoensplaats bij bandoeng baboe vrouwelijke bediende bandjir overstroming  ... \n",
      "\n"
     ]
    },
    {
     "data": {
      "text/markdown": [
       "<span style='font-weight: bold; color:#6b0617; '>Occurrences in Brieven uit het veld : het vergeten leger thuis (1989) (03651.txt)</span>"
      ],
      "text/plain": [
       "<IPython.core.display.Markdown object>"
      ]
     },
     "metadata": {},
     "output_type": "display_data"
    },
    {
     "name": "stdout",
     "output_type": "stream",
     "text": [
      " ... van pokken geconstateerd alle baboes djongossen en koelies van  ... \n",
      "\n"
     ]
    },
    {
     "data": {
      "text/markdown": [
       "<span style='font-weight: bold; color:#6b0617; '>Occurrences in Brieven uit Indië 1946-1949 (1990) (03652.txt)</span>"
      ],
      "text/plain": [
       "<IPython.core.display.Markdown object>"
      ]
     },
     "metadata": {},
     "output_type": "display_data"
    },
    {
     "data": {
      "text/markdown": [
       "<span style='font-weight: bold; color:#6b0617; '>Occurrences in Namen noemen : zo maar wat ongewone en openhartige herinneringen aan het leven in het verloren paradijs, dat Nederlands-Indië heette 1939-1947 (1962) (03653.txt)</span>"
      ],
      "text/plain": [
       "<IPython.core.display.Markdown object>"
      ]
     },
     "metadata": {},
     "output_type": "display_data"
    },
    {
     "name": "stdout",
     "output_type": "stream",
     "text": [
      " ... anderen liet zeggen de baboe die de kleren waste  ... \n",
      "\n"
     ]
    },
    {
     "data": {
      "text/markdown": [
       "<span style='font-weight: bold; color:#6b0617; '>Occurrences in Dan liever de lucht in : herinneringen van een marinevlieger (03654.txt)</span>"
      ],
      "text/plain": [
       "<IPython.core.display.Markdown object>"
      ]
     },
     "metadata": {},
     "output_type": "display_data"
    },
    {
     "data": {
      "text/markdown": [
       "<span style='font-weight: bold; color:#6b0617; '>Occurrences in Wah........man : het enige echte tweede legerdarisch kookboek : verhalen en Indonesische (magnetron) recepten (1994) (03657.txt)</span>"
      ],
      "text/plain": [
       "<IPython.core.display.Markdown object>"
      ]
     },
     "metadata": {},
     "output_type": "display_data"
    },
    {
     "name": "stdout",
     "output_type": "stream",
     "text": [
      " ... zoek perempoean eers zij baboe later iboe saja zij  ... \n",
      "\n",
      " ... tiap tiap diem dan baboe kan omong over anak  ... \n",
      "\n",
      " ... takoet bediende djongos bediende(vr baboe begrijpen mengerti bericht kabar  ... \n",
      "\n",
      " ... doeloe over koki over baboe en over boeroeng saja  ... \n",
      "\n"
     ]
    },
    {
     "data": {
      "text/markdown": [
       "<span style='font-weight: bold; color:#6b0617; '>Occurrences in Van huis en van haard naar het land van de Tokke?hs : Indie?-dagboek '46-'49-'92 (1993) (03658.txt)</span>"
      ],
      "text/plain": [
       "<IPython.core.display.Markdown object>"
      ]
     },
     "metadata": {},
     "output_type": "display_data"
    },
    {
     "name": "stdout",
     "output_type": "stream",
     "text": [
      " ... had deze week een baboetjoetji wasverzorgster en deze moest  ... \n",
      "\n",
      " ... streken alleen kokkie de baboe die het eten klaarmaakt  ... \n",
      "\n",
      " ... ze hebben een reuze baboe in de pastorie die  ... \n",
      "\n",
      " ... een eigen kind heeft baboe mina past goed op  ... \n",
      "\n",
      " ... peuters spelen leuk samen baboe mina vertelde dat haar  ... \n",
      "\n",
      " ... heeft kleine dikkie en baboe mina meegenomen hij de  ... \n",
      "\n",
      " ... a gezellig onderonsje v.r.n.l baboe mina henk h ds  ... \n",
      "\n",
      " ... de baboe van ds broer is  ... \n",
      "\n",
      " ... geurende kleren waar de baboe morgen haar krachten op  ... \n",
      "\n"
     ]
    },
    {
     "data": {
      "text/markdown": [
       "<span style='font-weight: bold; color:#6b0617; '>Occurrences in \"De lange weg (03660.txt)</span>"
      ],
      "text/plain": [
       "<IPython.core.display.Markdown object>"
      ]
     },
     "metadata": {},
     "output_type": "display_data"
    },
    {
     "name": "stdout",
     "output_type": "stream",
     "text": [
      " ... korporaals tot sergeant de baboe van lt smallenbroek is  ... \n",
      "\n",
      " ... leerling de meester een baboe die bij 2-10 ri  ... \n",
      "\n"
     ]
    },
    {
     "data": {
      "text/markdown": [
       "<span style='font-weight: bold; color:#6b0617; '>Occurrences in De hinderlaag bij Sindoeradja : militaire acties op Java, 1948-1950 (1987) (03662.txt)</span>"
      ],
      "text/plain": [
       "<IPython.core.display.Markdown object>"
      ]
     },
     "metadata": {},
     "output_type": "display_data"
    },
    {
     "name": "stdout",
     "output_type": "stream",
     "text": [
      " ... dan ook dat de wasbaboes stijfsel in het water  ... \n",
      "\n",
      " ... altijd zo gedaan de wasbaboes gebruikten nog ouderwetse gietijzeren  ... \n",
      "\n",
      " ... voet van de berg merbaboe vlak bij ons bivak  ... \n",
      "\n",
      " ... toezicht op de beide baboes die de was voor  ... \n",
      "\n"
     ]
    },
    {
     "data": {
      "text/markdown": [
       "<span style='font-weight: bold; color:#6b0617; '>Occurrences in Verborgen dageraad : Nederlands-Indie? en Zuidoost-Azie? na de Japanse capitulatie, 1945-1947 (03663.txt)</span>"
      ],
      "text/plain": [
       "<IPython.core.display.Markdown object>"
      ]
     },
     "metadata": {},
     "output_type": "display_data"
    },
    {
     "name": "stdout",
     "output_type": "stream",
     "text": [
      " ... van bamboestammen opgetrokken barakken baboe tjutji met wanden dakbedekking  ... \n",
      "\n"
     ]
    },
    {
     "data": {
      "text/markdown": [
       "<span style='font-weight: bold; color:#6b0617; '>Occurrences in Ned. Indië 1940-1950 in kort bestek : en enkele gevolgen, o.a. de coup-Westerling en het Zuidmolukse verzet (1989) (03664.txt)</span>"
      ],
      "text/plain": [
       "<IPython.core.display.Markdown object>"
      ]
     },
     "metadata": {},
     "output_type": "display_data"
    },
    {
     "data": {
      "text/markdown": [
       "<span style='font-weight: bold; color:#6b0617; '>Occurrences in Onthullingen van achter het bamboegordijn (1958) (03669.txt)</span>"
      ],
      "text/plain": [
       "<IPython.core.display.Markdown object>"
      ]
     },
     "metadata": {},
     "output_type": "display_data"
    },
    {
     "data": {
      "text/markdown": [
       "<span style='font-weight: bold; color:#6b0617; '>Occurrences in Gedenkboek 5-11 R.I. (1950) (03671.txt)</span>"
      ],
      "text/plain": [
       "<IPython.core.display.Markdown object>"
      ]
     },
     "metadata": {},
     "output_type": "display_data"
    },
    {
     "name": "stdout",
     "output_type": "stream",
     "text": [
      " ... slechts nagewuifd door de baboes uit de mess tegenover  ... \n",
      "\n"
     ]
    },
    {
     "data": {
      "text/markdown": [
       "<span style='font-weight: bold; color:#6b0617; '>Occurrences in Front op Java : mijn diensttijd in Indonesie? 1947-1950 (1952) (03672.txt)</span>"
      ],
      "text/plain": [
       "<IPython.core.display.Markdown object>"
      ]
     },
     "metadata": {},
     "output_type": "display_data"
    },
    {
     "name": "stdout",
     "output_type": "stream",
     "text": [
      " ... zuiveringsacties te on en merbaboe het nas de hellingen  ... \n",
      "\n",
      " ... beide vulkanen merapi en merbaboe volgens inlichtingen bevond zich  ... \n",
      "\n"
     ]
    },
    {
     "data": {
      "text/markdown": [
       "<span style='font-weight: bold; color:#6b0617; '>Occurrences in Binnen 20 minuten gereed : het 6e eskadron vechtwagens KL/KNIL, 1947-1950, LTD 716/III (1979) (03673.txt)</span>"
      ],
      "text/plain": [
       "<IPython.core.display.Markdown object>"
      ]
     },
     "metadata": {},
     "output_type": "display_data"
    },
    {
     "name": "stdout",
     "output_type": "stream",
     "text": [
      " ... de tip van de wasbaboe 9-23 weinig cavaleristisch gebruik  ... \n",
      "\n",
      " ... ingedeeld bij het legioen baboes djongossen en katjongs van  ... \n",
      "\n",
      " ... van het huishoudelijk personeel baboes en djongossen emigreren mee  ... \n",
      "\n",
      " ... v mm 0heih^an onze baboe foto uit solo 1949  ... \n",
      "\n"
     ]
    },
    {
     "data": {
      "text/markdown": [
       "<span style='font-weight: bold; color:#6b0617; '>Occurrences in Tjampoer mareche?plisie : het Korps Militaire Politie/Koninklijke Marechaussee in Nederlands-Indië 1945-1951 (1991) (03679.txt)</span>"
      ],
      "text/plain": [
       "<IPython.core.display.Markdown object>"
      ]
     },
     "metadata": {},
     "output_type": "display_data"
    },
    {
     "data": {
      "text/markdown": [
       "<span style='font-weight: bold; color:#6b0617; '>Occurrences in Orde & vrede : tien verhalen van 1.R.S. in Midden-Java (1950) (03681.txt)</span>"
      ],
      "text/plain": [
       "<IPython.core.display.Markdown object>"
      ]
     },
     "metadata": {},
     "output_type": "display_data"
    },
    {
     "name": "stdout",
     "output_type": "stream",
     "text": [
      " ... vuil waar zelfs de merbaboe zich over verbaast   ... \n",
      "\n"
     ]
    },
    {
     "data": {
      "text/markdown": [
       "<span style='font-weight: bold; color:#6b0617; '>Occurrences in Wij trokken naar Solo : een verzameling van schetsen en herinneringen uit de troep tot en met de overdracht van Solo (1949) (03682.txt)</span>"
      ],
      "text/plain": [
       "<IPython.core.display.Markdown object>"
      ]
     },
     "metadata": {},
     "output_type": "display_data"
    },
    {
     "name": "stdout",
     "output_type": "stream",
     "text": [
      " ... aan k l.-troepen pasoendan baboes en koelies toekwam en  ... \n",
      "\n",
      " ... op de merapi en merbaboe en geleidelijk trokken de  ... \n",
      "\n",
      " ... kwijt raakten terwijl alle baboes ook de lélijke onschuldig  ... \n",
      "\n",
      " ... ook in het dichtbevolkte baboeen djongosrijtuig waar door het  ... \n",
      "\n",
      " ... doorgangshuis worden ondergebracht ons baboeen djongosgezelschap arriveert de volgende  ... \n",
      "\n"
     ]
    },
    {
     "data": {
      "text/markdown": [
       "<span style='font-weight: bold; color:#6b0617; '>Occurrences in Toen de tjitjak riep : belevenissen van een bataljon oorlogsvrijwilligers in Nederlands Oost-Indie van 1946 tot 1948 (1983) (03684.txt)</span>"
      ],
      "text/plain": [
       "<IPython.core.display.Markdown object>"
      ]
     },
     "metadata": {},
     "output_type": "display_data"
    },
    {
     "name": "stdout",
     "output_type": "stream",
     "text": [
      " ... die maar aan de baboe kaas dat vreten de  ... \n",
      "\n",
      " ... mijn badkamer met mijn baboe een kunstje te maken  ... \n",
      "\n"
     ]
    },
    {
     "data": {
      "text/markdown": [
       "<span style='font-weight: bold; color:#6b0617; '>Occurrences in Een bataljon trok voorbij : de belevenissen van een O.V.W.-bataljon 1944-1948 : 1-3 R.I., 1e bataljon 3e Regiment Infanterie (1948) (03686.txt)</span>"
      ],
      "text/plain": [
       "<IPython.core.display.Markdown object>"
      ]
     },
     "metadata": {},
     "output_type": "display_data"
    },
    {
     "name": "stdout",
     "output_type": "stream",
     "text": [
      " ... het als er geen baboe was we gingen op  ... \n",
      "\n"
     ]
    },
    {
     "data": {
      "text/markdown": [
       "<span style='font-weight: bold; color:#6b0617; '>Occurrences in Tussen goenoeng en guerilla (tussen berg en vrijheidsstrijd) (1986) (03687.txt)</span>"
      ],
      "text/plain": [
       "<IPython.core.display.Markdown object>"
      ]
     },
     "metadata": {},
     "output_type": "display_data"
    },
    {
     "name": "stdout",
     "output_type": "stream",
     "text": [
      " ... de baboe was bij de nonnen  ... \n",
      "\n",
      " ... een fraaie jonge javaanse baboe ter beschikking   ... \n",
      "\n",
      " ... keurig bediend door aardige baboetjes op de dag vermaakten  ... \n",
      "\n"
     ]
    },
    {
     "data": {
      "text/markdown": [
       "<span style='font-weight: bold; color:#6b0617; '>Occurrences in 5e ESK. VEW. - 1e ESK. PAW. : 1947-1950 (1950) (03689.txt)</span>"
      ],
      "text/plain": [
       "<IPython.core.display.Markdown object>"
      ]
     },
     "metadata": {},
     "output_type": "display_data"
    },
    {
     "name": "stdout",
     "output_type": "stream",
     "text": [
      " ... moeite gespannen en de baboes tjoetji ontfermden zich op  ... \n",
      "\n"
     ]
    },
    {
     "data": {
      "text/markdown": [
       "<span style='font-weight: bold; color:#6b0617; '>Occurrences in Kroniek van het eerste bataljon jagers ovw 1945-1948 : jagers en jagerslatijn (1991) (03690.txt)</span>"
      ],
      "text/plain": [
       "<IPython.core.display.Markdown object>"
      ]
     },
     "metadata": {},
     "output_type": "display_data"
    },
    {
     "name": "stdout",
     "output_type": "stream",
     "text": [
      " ... de pasar naast de baboe in de jeep of  ... \n",
      "\n"
     ]
    },
    {
     "data": {
      "text/markdown": [
       "<span style='font-weight: bold; color:#6b0617; '>Occurrences in Het vreemde leger (1985) (03692.txt)</span>"
      ],
      "text/plain": [
       "<IPython.core.display.Markdown object>"
      ]
     },
     "metadata": {},
     "output_type": "display_data"
    },
    {
     "name": "stdout",
     "output_type": "stream",
     "text": [
      " ... ongeveer alsof hij een baboe een opdracht gaf he  ... \n",
      "\n"
     ]
    },
    {
     "data": {
      "text/markdown": [
       "<span style='font-weight: bold; color:#6b0617; '>Occurrences in Ons eskadron : gedenkboek van het derde Eskadron van de tweede Afdeling Regiment Huzaren van Boreel, maart 1947-april 1950 (1950) (03695.txt)</span>"
      ],
      "text/plain": [
       "<IPython.core.display.Markdown object>"
      ]
     },
     "metadata": {},
     "output_type": "display_data"
    },
    {
     "name": "stdout",
     "output_type": "stream",
     "text": [
      " ... satéboeren en met onze baboes en koelies we leerden  ... \n",
      "\n",
      " ...  page 66 baboe lawang een dagelijks terugkerend  ... \n",
      "\n",
      " ... tussen mooie en lelijke baboes ze waren allemaal bruin  ... \n",
      "\n",
      " ... lied het is de baboe die je nooit vergeet  ... \n",
      "\n",
      " ... het ga je goed baboe soja mintcu ataxjl kalau  ... \n",
      "\n",
      " ... hadden we een verzameling baboes die onovertroffen brutaal waren  ... \n",
      "\n",
      " ... had ook vandaag de baboe de die morgen slordig  ... \n",
      "\n",
      " ... de baboe echter zo deze al  ... \n",
      "\n",
      " ... moet ons leger zonder baboes toch naar toe s  ... \n",
      "\n",
      " ... vroeg dan staan de baboes klaar om aan de  ... \n",
      "\n",
      " ... ja betoel met onze baboes is er in het  ... \n",
      "\n",
      " ... de maaltijd en de baboes binnenkomen met het eten  ... \n",
      "\n",
      " ... wassen en laat de baboe aantreden om je vuile  ... \n",
      "\n"
     ]
    },
    {
     "data": {
      "text/markdown": [
       "<span style='font-weight: bold; color:#6b0617; '>Occurrences in Blubber (1947) (03696.txt)</span>"
      ],
      "text/plain": [
       "<IPython.core.display.Markdown object>"
      ]
     },
     "metadata": {},
     "output_type": "display_data"
    },
    {
     "name": "stdout",
     "output_type": "stream",
     "text": [
      " ... de flanken van de merbaboe te zien schuiven   ... \n",
      "\n",
      " ... zich plotseling dé geweldige merbaboe verheft duifgrijs en later  ... \n",
      "\n",
      " ... doch hinderlijke insecten de baboe wier blanke gelaatskleur   ... \n",
      "\n",
      " ... worden hier ter attentie wasbaboe in hoek gegooid militaire  ... \n",
      "\n"
     ]
    },
    {
     "data": {
      "text/markdown": [
       "<span style='font-weight: bold; color:#6b0617; '>Occurrences in Laatste acte : een cocktail van soldatenleven en politiek in Indonesië (03697.txt)</span>"
      ],
      "text/plain": [
       "<IPython.core.display.Markdown object>"
      ]
     },
     "metadata": {},
     "output_type": "display_data"
    },
    {
     "name": "stdout",
     "output_type": "stream",
     "text": [
      " ... heb ik niet hé baboe doea koppie we vallen  ... \n",
      "\n",
      " ... duidelijk bewijs van de baboe zet twee groen-emaille mokken  ... \n",
      "\n",
      " ... vegen laat hij de baboe doen   ... \n",
      "\n",
      " ... in batavia met de wasbaboes bij de kazerne met  ... \n",
      "\n",
      " ... worden aanmoedigingen geschreeuwd de baboes brengen het wasgoed terug  ... \n",
      "\n",
      " ... haar eén tracht een baboe aan de sarong te  ... \n",
      "\n"
     ]
    },
    {
     "data": {
      "text/markdown": [
       "<span style='font-weight: bold; color:#6b0617; '>Occurrences in Diogenes in de tropen (1940) (03699.txt)</span>"
      ],
      "text/plain": [
       "<IPython.core.display.Markdown object>"
      ]
     },
     "metadata": {},
     "output_type": "display_data"
    },
    {
     "name": "stdout",
     "output_type": "stream",
     "text": [
      " ... onderdak hebben gevonden de baboes staken de labiliteit der  ... \n",
      "\n",
      " ... de baboes zijn verantwoordelijk voor de  ... \n",
      "\n",
      " ... reinigingsbeurt tenslotte vinden de baboes dat deze belediging door  ... \n",
      "\n",
      " ... ruimen maar ook de baboes zijn niet afkerig van  ... \n",
      "\n",
      " ... mogelijk had gehouden de baboes staken ook hier is  ... \n",
      "\n",
      " ... aangemoedigd hebben de gezamenlijke baboes een eis tot betere  ... \n",
      "\n",
      " ... doend afgewezen maar de baboes belust op het sociale  ... \n",
      "\n",
      " ... het volk verwennen onze baboe is nog niet zo  ... \n",
      "\n",
      " ... sigaret te roken de baboe wil juist de mat  ... \n",
      "\n",
      " ... de volgende morgen de baboes weer aan het werk  ... \n",
      "\n"
     ]
    },
    {
     "data": {
      "text/markdown": [
       "<span style='font-weight: bold; color:#6b0617; '>Occurrences in \"Hier is alles nog rustig\"\" /\"\"\" (03702.txt)</span>"
      ],
      "text/plain": [
       "<IPython.core.display.Markdown object>"
      ]
     },
     "metadata": {},
     "output_type": "display_data"
    },
    {
     "name": "stdout",
     "output_type": "stream",
     "text": [
      " ... dezelfde ruimte wasten de baboes de kleren vrouwen tussen  ... \n",
      "\n",
      " ... van de kleding werden baboes wasmeisjes ingehuurd op vijf  ... \n",
      "\n",
      " ... op vijf militairen één baboe betaald door het leger  ... \n",
      "\n",
      " ... de manschappen en de baboes soms intieme relaties ontstonden  ... \n",
      "\n",
      " ... de bergen oengaran en merbaboe   ... \n",
      "\n",
      " ... eerst waren er weer baboes om de kleren te  ... \n",
      "\n",
      " ... de oudste van de baboes een mollige vrouw van  ... \n",
      "\n",
      " ... eén van de twee baboes de vriendin van de  ... \n",
      "\n",
      " ... met hun tweeën een baboe hadden die voor hen  ... \n",
      "\n",
      " ... een voorstel zij wilde baboe bij hun worden dan  ... \n",
      "\n",
      " ... te voornaam was om baboe te zijn dat paste  ... \n",
      "\n",
      " ... page 211 de baboes door de betreffende legerdienst  ... \n",
      "\n",
      " ... in het verbindingsgebouw 5 baboes wasvrouwen toegewezen eén baboe  ... \n",
      "\n",
      " ... baboes wasvrouwen toegewezen eén baboe met de zorg voor  ... \n",
      "\n",
      " ... vorm van werkverschaffing drie baboes rond de achttien jaar  ... \n",
      "\n",
      " ... vrienden kregen soemina als baboe toegewezen de oudste van  ... \n",
      "\n",
      " ... het huisje waar de baboe woonde had dunne rietmatten  ... \n",
      "\n",
      " ... avonds terugkwam van de baboe de te lopen afstand  ... \n",
      "\n",
      " ... geleidelijk maakten de baboes deel uit van de  ... \n",
      "\n",
      " ... respect behandelden als de baboes de mannen van de  ... \n",
      "\n",
      " ... de doorsnee javanen de baboes bijvoorbeeld hadden geen flauw  ... \n",
      "\n",
      " ... dat afscheid verlopen de baboes waren erg bedroefd toewan  ... \n",
      "\n",
      " ... de vijf eenden de baboes boden aan ze te  ... \n",
      "\n"
     ]
    },
    {
     "data": {
      "text/markdown": [
       "<span style='font-weight: bold; color:#6b0617; '>Occurrences in Commando luchtvaarttroepen : Tjililitan, Kali-Djati, Andir, Kali-Banteng, Panasan : 10 september 1947 - 24 maart 1950. (1950) (03703.txt)</span>"
      ],
      "text/plain": [
       "<IPython.core.display.Markdown object>"
      ]
     },
     "metadata": {},
     "output_type": "display_data"
    },
    {
     "name": "stdout",
     "output_type": "stream",
     "text": [
      " ... ruimte over waar de baboes onze was strijken het  ... \n",
      "\n",
      " ... zijn gemetseld waar de baboes de was doen in  ... \n",
      "\n",
      " ... honderd man terwijl de baboes er ook nog van  ... \n",
      "\n",
      " ... de merapi en de merbaboe eindelijk zet de stoet  ... \n",
      "\n",
      " ... bergen de merapi en merbaboe en is vrij goed  ... \n",
      "\n",
      " ... een strop geen persoonlijke baboes maar de wasserij waar  ... \n",
      "\n",
      " ... de mooiste en beste baboes gehad die er te  ... \n",
      "\n",
      " ... aan die en die baboe die zo heel goed  ... \n",
      "\n",
      " ... gedeelte des compies over baboes daar in semarang er  ... \n",
      "\n",
      " ... wat had indië zonder baboes voor ons geweest en  ... \n",
      "\n",
      " ... linnenkast halen aan de baboes die voor ons de  ... \n",
      "\n"
     ]
    },
    {
     "data": {
      "text/markdown": [
       "<span style='font-weight: bold; color:#6b0617; '>Occurrences in Mijn diensttijd bij de 3e compagnie (1953) (03704.txt)</span>"
      ],
      "text/plain": [
       "<IPython.core.display.Markdown object>"
      ]
     },
     "metadata": {},
     "output_type": "display_data"
    },
    {
     "name": "stdout",
     "output_type": "stream",
     "text": [
      " ... we onder vuur een baboe werd gedood door een  ... \n",
      "\n"
     ]
    },
    {
     "data": {
      "text/markdown": [
       "<span style='font-weight: bold; color:#6b0617; '>Occurrences in Herinnerings-album van de Verbindingsafdeling 7 December-Divisie (1949) (03705.txt)</span>"
      ],
      "text/plain": [
       "<IPython.core.display.Markdown object>"
      ]
     },
     "metadata": {},
     "output_type": "display_data"
    },
    {
     "name": "stdout",
     "output_type": "stream",
     "text": [
      " ... wennen ze noemden de baboe geen juffrouw meer en  ... \n",
      "\n"
     ]
    },
    {
     "data": {
      "text/markdown": [
       "<span style='font-weight: bold; color:#6b0617; '>Occurrences in Wij, de jongens overzee (1989) (03706.txt)</span>"
      ],
      "text/plain": [
       "<IPython.core.display.Markdown object>"
      ]
     },
     "metadata": {},
     "output_type": "display_data"
    },
    {
     "name": "stdout",
     "output_type": "stream",
     "text": [
      " ... 8 kwamen de eerste baboes om onze waste doen  ... \n",
      "\n",
      " ... de top van de merbaboe de spleten die je  ... \n",
      "\n",
      " ... een ruzie tussen twee baboes   ... \n",
      "\n",
      " ... ik terugkwam liep de baboe net weg ze zag  ... \n",
      "\n",
      " ... zijn echter ook andere baboes na de tweede politionele  ... \n",
      "\n",
      " ... we hebben een prima baboe getroffen met de was  ... \n",
      "\n",
      " ... zo laten liggen de baboe ruimt alles hartstikke netjes  ... \n",
      "\n",
      " ... p ig die baboe heeft één heel dikke  ... \n",
      "\n",
      " ... eens op het onderwerp baboe terug   ... \n",
      "\n",
      " ... laten maken door onze baboe om vijf uur brood  ... \n",
      "\n",
      " ... koken alles moet de baboe doen tot de gekste  ... \n",
      "\n",
      " ... eens hooglopende ruzie over baboes en privé-vrouwen hier   ... \n",
      "\n",
      " ... vlaggen de djongossen en baboes waren er ook niet  ... \n",
      "\n"
     ]
    },
    {
     "data": {
      "text/markdown": [
       "<span style='font-weight: bold; color:#6b0617; '>Occurrences in Friesland was hier : de lotgevallen van 1-9-R.I. Bataljon Friesland, 1945-1948 (1948) (03708.txt)</span>"
      ],
      "text/plain": [
       "<IPython.core.display.Markdown object>"
      ]
     },
     "metadata": {},
     "output_type": "display_data"
    },
    {
     "name": "stdout",
     "output_type": "stream",
     "text": [
      " ... alle kantonnementen was de baboe en de djongos zo  ... \n",
      "\n"
     ]
    },
    {
     "data": {
      "text/markdown": [
       "<span style='font-weight: bold; color:#6b0617; '>Occurrences in Dagboek van het 3e peloton, II-II regiment Huzaren van Boreel. (1950) (03710.txt)</span>"
      ],
      "text/plain": [
       "<IPython.core.display.Markdown object>"
      ]
     },
     "metadata": {},
     "output_type": "display_data"
    },
    {
     "name": "stdout",
     "output_type": "stream",
     "text": [
      " ... we een stel speciale wasbaboes de zon blijft weg  ... \n",
      "\n",
      " ... en waarderen bawang pardon baboe berangbang oftewel uitjes bij  ... \n",
      "\n",
      " ... altijd naar huis slepende baboes enige jeeps blijven in  ... \n",
      "\n",
      " ... reusachtig heerlijke sajoertje de baboes zijn keurige dienstertjes en  ... \n",
      "\n",
      " ... luit een hereleven1 daar baboes mét.zijspan en een motor  ... \n",
      "\n",
      " ... juli 49 zondagmorgen een baboe komt vrolijk binnen deinen  ... \n",
      "\n",
      " ... baboes houden de 27ste hari  ... \n",
      "\n",
      " ... texieldistributietoko en verleent de baboes voorrang als er maar  ... \n",
      "\n",
      " ... beminden zatte gardisten volgeladen baboewagens wij convooirijders schudden misprijzend  ... \n",
      "\n",
      " ... te volgen gebrek aan baboes noopt ons zelf te  ... \n",
      "\n",
      " ... in het teken van baboetrammelant en albatroswerkzaamheden wapens worden  ... \n",
      "\n"
     ]
    },
    {
     "data": {
      "text/markdown": [
       "<span style='font-weight: bold; color:#6b0617; '>Occurrences in Genist tot in de kist (1925) (03711.txt)</span>"
      ],
      "text/plain": [
       "<IPython.core.display.Markdown object>"
      ]
     },
     "metadata": {},
     "output_type": "display_data"
    },
    {
     "name": "stdout",
     "output_type": "stream",
     "text": [
      " ... voor elke sectie een baboe wasvrouw die overigens allerhande  ... \n",
      "\n",
      " ... wel om gelachen de baboes konden onze kleding weer  ... \n",
      "\n",
      " ... we ons wel de baboe is er ook goed  ... \n",
      "\n",
      " ... omdat ik nu de baboe uit kota pinang mis  ... \n",
      "\n",
      " ... er zijn hier geen baboes de batakse vrouwen mogen  ... \n",
      "\n",
      " ... de arbeiderscompagnie en de baboes naast de keuken hadden  ... \n",
      "\n",
      " ... ging mee de mooie baboes niet deze moesten terug  ... \n",
      "\n",
      " ... we hebben namelijk baboes aangenomen en dat zijn  ... \n",
      "\n"
     ]
    },
    {
     "data": {
      "text/markdown": [
       "<span style='font-weight: bold; color:#6b0617; '>Occurrences in Nacht over de rimboe : verslag uit het dagboek van Toon Nieskens bijgehouden tijdens zijn diensttijd in Indonesie?, vanaf zijn vertrek op 12 november 1947 tot zijn terugkomst op 1 juni 1950. (1993) (03712.txt)</span>"
      ],
      "text/plain": [
       "<IPython.core.display.Markdown object>"
      ]
     },
     "metadata": {},
     "output_type": "display_data"
    },
    {
     "name": "stdout",
     "output_type": "stream",
     "text": [
      " ... waren er ook de baboes die de was voor  ... \n",
      "\n",
      " ... was in voor de baboe en wijzelf doken de  ... \n",
      "\n"
     ]
    },
    {
     "data": {
      "text/markdown": [
       "<span style='font-weight: bold; color:#6b0617; '>Occurrences in Gedenkboek 4-1 RI : mei 1947-feb' 1950 (1950) (03715.txt)</span>"
      ],
      "text/plain": [
       "<IPython.core.display.Markdown object>"
      ]
     },
     "metadata": {},
     "output_type": "display_data"
    },
    {
     "name": "stdout",
     "output_type": "stream",
     "text": [
      " ... binnen en zó n baboe boor de sepatoes staan  ... \n",
      "\n"
     ]
    },
    {
     "data": {
      "text/markdown": [
       "<span style='font-weight: bold; color:#6b0617; '>Occurrences in Losse flodders 2-12 R.V.A. : artillerie herinneringen Midden-Java '47-'50 (1994) (03716.txt)</span>"
      ],
      "text/plain": [
       "<IPython.core.display.Markdown object>"
      ]
     },
     "metadata": {},
     "output_type": "display_data"
    },
    {
     "name": "stdout",
     "output_type": "stream",
     "text": [
      " ... en het gebruik van baboes nee alleen voor het  ... \n",
      "\n",
      " ... dagelijks geros van de wasbaboe op de doorzwete tropenkleding  ... \n",
      "\n",
      " ... 40 opper bakker had baboes voor ons aangenomen die  ... \n",
      "\n",
      " ... van semarang kompleet mèt baboe en pajong over de  ... \n",
      "\n",
      " ... de flanken van de merbaboe na het semarang en  ... \n",
      "\n",
      " ... informatie bij de baboes die onze kleding schoon  ... \n",
      "\n",
      " ... is vaag beweging een baboe die haar houtskoolijzer ijverig  ... \n",
      "\n",
      " ... groene uniformjasje hetzelfde dat baboe kosmiem een paar uur  ... \n",
      "\n",
      " ... temidden van een groep baboes druk zag discussiëren erger  ... \n",
      "\n",
      " ... er evenveel tolken als baboes en zo kwam ik  ... \n",
      "\n"
     ]
    },
    {
     "data": {
      "text/markdown": [
       "<span style='font-weight: bold; color:#6b0617; '>Occurrences in Compiesboek : enkele belevenissen uit de Indie?-periode, opgetekend door de jongens van 2-V-10 R.I., 28 januari 1948-15 mei 1950. (1950) (03717.txt)</span>"
      ],
      "text/plain": [
       "<IPython.core.display.Markdown object>"
      ]
     },
     "metadata": {},
     "output_type": "display_data"
    },
    {
     "name": "stdout",
     "output_type": "stream",
     "text": [
      " ... van een daar wonende baboe.omtoverde in vodden toen echter  ... \n",
      "\n",
      " ... diezelfde morgen kwam de baboe mot de in stukken  ... \n",
      "\n",
      " ... nog vertellen van die baboes en 70 meer daar  ... \n",
      "\n",
      " ... zo romeu lopen onze baboes   ... \n",
      "\n",
      " ... wel zeggen dat de baboes-een sociale taak.gingen vervullen in  ... \n",
      "\n",
      " ... öm malaistegaan leren dez-e baboes immers waren door hunvoortdurendsomgang  ... \n",
      "\n",
      " ... vermistwerd maar metonschuldiggezichts oönc baboe aan ts betogen aat  ... \n",
      "\n",
      " ... voor twee getrouwde baboes wier man als koelie  ... \n",
      "\n",
      " ... dus zouden velen een baboe verkieselijker vinden ook andere  ... \n",
      "\n",
      " ... onder ons blijft echter baboes om dé was te  ... \n",
      "\n",
      " ... een-tikje spijt aan c.e baboes en koelies terug denken  ... \n",
      "\n"
     ]
    },
    {
     "data": {
      "text/markdown": [
       "<span style='font-weight: bold; color:#6b0617; '>Occurrences in 2e Genie Park cie te Bandoeng, Batavia, Semarang, Purwokerto, Tegal, Djockja, Solo en Magelang : 1947-1950 (1950) (03718.txt)</span>"
      ],
      "text/plain": [
       "<IPython.core.display.Markdown object>"
      ]
     },
     "metadata": {},
     "output_type": "display_data"
    },
    {
     "name": "stdout",
     "output_type": "stream",
     "text": [
      " ... de week en tevens baboebaas stond hierdoor voor veel  ... \n",
      "\n",
      " ... goede wasgelegenheid voor de baboes was te vinden werd  ... \n",
      "\n",
      " ... er met veel pijn baboes aangenomen en door deze  ... \n",
      "\n"
     ]
    },
    {
     "data": {
      "text/markdown": [
       "<span style='font-weight: bold; color:#6b0617; '>Occurrences in Het Derde : belevenissen van een infanterie-peloton op Zuid-Sumatra 1947-1950 (1981) (03720.txt)</span>"
      ],
      "text/plain": [
       "<IPython.core.display.Markdown object>"
      ]
     },
     "metadata": {},
     "output_type": "display_data"
    },
    {
     "name": "stdout",
     "output_type": "stream",
     "text": [
      " ... of vijf wanneer de baboe van het aangrenzende huis  ... \n",
      "\n",
      " ... de baboe mina verhuisde mee uit  ... \n",
      "\n"
     ]
    },
    {
     "data": {
      "text/markdown": [
       "<span style='font-weight: bold; color:#6b0617; '>Occurrences in Rapport uit Porrong : met het 8e Eskadron Vechtwagens naar Oost-Java (03723.txt)</span>"
      ],
      "text/plain": [
       "<IPython.core.display.Markdown object>"
      ]
     },
     "metadata": {},
     "output_type": "display_data"
    },
    {
     "name": "stdout",
     "output_type": "stream",
     "text": [
      " ... honolulu wie kent de baboeprocessie niet als de keukenwagen  ... \n",
      "\n",
      " ... een middag moesten alle baboes en djongossen aantreden door  ... \n",
      "\n",
      " ... de ergste bokken bleek baboe annie van de staf  ... \n",
      "\n",
      " ... uit de kluiten gewassen baboe het beste te vergelijken  ... \n",
      "\n",
      " ... ze daar de mandoer baboe en persoonlijke bediende van  ... \n",
      "\n",
      " ... eten of cantinewaar de baboe gaat van honk of  ... \n",
      "\n",
      " ... met wasgoed door de baboe kon achter gehoord worden  ... \n",
      "\n",
      " ... gadjamoengkoer latumalea die de baboes voor vlaggenparade liet aantreden  ... \n",
      "\n",
      " ... nederland v j de wasbaboes in porrong óf de  ... \n",
      "\n",
      " ... trawas hatumesen gesneuveld de baboe annie van de staf  ... \n",
      "\n"
     ]
    },
    {
     "data": {
      "text/markdown": [
       "<span style='font-weight: bold; color:#6b0617; '>Occurrences in 7e Afdeling Veldartillerie 1946 - 1949 (03726.txt)</span>"
      ],
      "text/plain": [
       "<IPython.core.display.Markdown object>"
      ]
     },
     "metadata": {},
     "output_type": "display_data"
    },
    {
     "name": "stdout",
     "output_type": "stream",
     "text": [
      " ... op hun nek en baboes   ... \n",
      "\n"
     ]
    },
    {
     "data": {
      "text/markdown": [
       "<span style='font-weight: bold; color:#6b0617; '>Occurrences in Onze mariniersbrigade (1945-1949) : een veelbewogen episode in de korpsgeschiedenis (1954) (03727.txt)</span>"
      ],
      "text/plain": [
       "<IPython.core.display.Markdown object>"
      ]
     },
     "metadata": {},
     "output_type": "display_data"
    },
    {
     "data": {
      "text/markdown": [
       "<span style='font-weight: bold; color:#6b0617; '>Occurrences in De heren worden bedankt : met het vergeten leger in Indie?, 1949-1950 (1986) (03728.txt)</span>"
      ],
      "text/plain": [
       "<IPython.core.display.Markdown object>"
      ]
     },
     "metadata": {},
     "output_type": "display_data"
    },
    {
     "name": "stdout",
     "output_type": "stream",
     "text": [
      " ... en alle koelies djongossen baboes vrouwen en kinderen gevaccineerd  ... \n",
      "\n",
      " ... de jonge baboes houden meer van ander  ... \n",
      "\n",
      " ... eens om zelfs de baboes begrijpen dat dergelijke orders  ... \n",
      "\n",
      " ... 60 man t.n.i onze baboes die dagelijks uit de  ... \n",
      "\n"
     ]
    },
    {
     "data": {
      "text/markdown": [
       "<span style='font-weight: bold; color:#6b0617; '>Occurrences in Een mijlpaal in ons leven : herinneringen van Nederlandse militairen in de tropen (1980) (03729.txt)</span>"
      ],
      "text/plain": [
       "<IPython.core.display.Markdown object>"
      ]
     },
     "metadata": {},
     "output_type": "display_data"
    },
    {
     "name": "stdout",
     "output_type": "stream",
     "text": [
      " ... veel gescharrel met de baboe nee niet wat jullie  ... \n",
      "\n",
      " ...  page 225 adat baboe babie bagoes banjak bandj  ... \n",
      "\n"
     ]
    },
    {
     "data": {
      "text/markdown": [
       "<span style='font-weight: bold; color:#6b0617; '>Occurrences in Wij waren ingedeeld bij het 4de Bataljon Garde Jagers op Oost-Java en Madoera : onze belevenissen in de jaren 1946-1950 op Madoera en in Oost-Java (1988) (03730.txt)</span>"
      ],
      "text/plain": [
       "<IPython.core.display.Markdown object>"
      ]
     },
     "metadata": {},
     "output_type": "display_data"
    },
    {
     "name": "stdout",
     "output_type": "stream",
     "text": [
      " ... tuinlieden de kokkis de baboes de chauffeurs niet intern  ... \n",
      "\n"
     ]
    },
    {
     "data": {
      "text/markdown": [
       "<span style='font-weight: bold; color:#6b0617; '>Occurrences in Bataljonsgedenkboek : 421e Bataljon Garde Regiment Jagers (1953) (03732.txt)</span>"
      ],
      "text/plain": [
       "<IPython.core.display.Markdown object>"
      ]
     },
     "metadata": {},
     "output_type": "display_data"
    },
    {
     "name": "stdout",
     "output_type": "stream",
     "text": [
      " ... er niet zelfs de baboe s waren s avonds  ... \n",
      "\n",
      " ... hadden we nog geen baboes zoals nu als mijn  ... \n",
      "\n",
      " ... van jewelste pendek kerstboom baboe djongos alles vliegt door  ... \n",
      "\n",
      " ... opzienbarende ontdekking dat een baboe ook kan blozen   ... \n",
      "\n",
      " ... man vergezeld van drie baboes waarvan er één zo  ... \n",
      "\n",
      " ... zodat een tijdlang deze baboes het enige vrouwelijk personeel  ... \n",
      "\n"
     ]
    },
    {
     "data": {
      "text/markdown": [
       "<span style='font-weight: bold; color:#6b0617; '>Occurrences in De Stoot : I Bat. Regt. Stoottroepen, 21-7-1947/15-10-1947 (1947) (03733.txt)</span>"
      ],
      "text/plain": [
       "<IPython.core.display.Markdown object>"
      ]
     },
     "metadata": {},
     "output_type": "display_data"
    },
    {
     "name": "stdout",
     "output_type": "stream",
     "text": [
      " ... het silhouet van de merbaboe opn sergt engelfriet stafcomp  ... \n",
      "\n",
      " ... den voet van de merbaboe   ... \n",
      "\n",
      " ... toppen van telemojo en merbaboe verbond het besluit tot  ... \n",
      "\n",
      " ... naar kopeng en de merbaboe opn it hooyer 3e  ... \n",
      "\n"
     ]
    },
    {
     "data": {
      "text/markdown": [
       "<span style='font-weight: bold; color:#6b0617; '>Occurrences in Da?t was 423 : leven en werken van het 423 Bataljon in Oost-Java (1951) (03735.txt)</span>"
      ],
      "text/plain": [
       "<IPython.core.display.Markdown object>"
      ]
     },
     "metadata": {},
     "output_type": "display_data"
    },
    {
     "name": "stdout",
     "output_type": "stream",
     "text": [
      " ... voer ze voor ons baboe djongos koelie groot en  ... \n",
      "\n",
      " ... aankomst krijgen we de baboes de figuren zonder welke  ... \n",
      "\n",
      " ... dat warme land de baboe toch waste voor ons  ... \n",
      "\n"
     ]
    },
    {
     "data": {
      "text/markdown": [
       "<span style='font-weight: bold; color:#6b0617; '>Occurrences in Vijf-zes : hoe het reilde en zeilde (1950) (03736.txt)</span>"
      ],
      "text/plain": [
       "<IPython.core.display.Markdown object>"
      ]
     },
     "metadata": {},
     "output_type": "display_data"
    },
    {
     "name": "stdout",
     "output_type": "stream",
     "text": [
      " ... jongens  300 41 baboes liefdesbrief 302 perak-katertjes 303  ... \n",
      "\n"
     ]
    },
    {
     "data": {
      "text/markdown": [
       "<span style='font-weight: bold; color:#6b0617; '>Occurrences in Van west naar oost : de rol van de Curac?aose Rode-Kruiscolonne in het voormalig Nederlands Oost-Indie? (1989) (03737.txt)</span>"
      ],
      "text/plain": [
       "<IPython.core.display.Markdown object>"
      ]
     },
     "metadata": {},
     "output_type": "display_data"
    },
    {
     "data": {
      "text/markdown": [
       "<span style='font-weight: bold; color:#6b0617; '>Occurrences in Voor orde en vrede... : de geschiedenis van het 3e Bataljon van het Regiment Stoottroepen der 7 December Divisie. (1986) (03739.txt)</span>"
      ],
      "text/plain": [
       "<IPython.core.display.Markdown object>"
      ]
     },
     "metadata": {},
     "output_type": "display_data"
    },
    {
     "name": "stdout",
     "output_type": "stream",
     "text": [
      " ... een aggregaatje staande naast baboe minah met sjefke in  ... \n",
      "\n",
      " ... ghurkas ook werden vaste baboes voor het werk van  ... \n",
      "\n"
     ]
    },
    {
     "data": {
      "text/markdown": [
       "<span style='font-weight: bold; color:#6b0617; '>Occurrences in Je moet nu gaan (1990) (03741.txt)</span>"
      ],
      "text/plain": [
       "<IPython.core.display.Markdown object>"
      ]
     },
     "metadata": {},
     "output_type": "display_data"
    },
    {
     "name": "stdout",
     "output_type": "stream",
     "text": [
      " ... een biggetje dood een baboe die meereed in de  ... \n",
      "\n",
      " ... douche en mandiekamer de baboes gebruiken deze ruimte eveneens  ... \n",
      "\n",
      " ... afscheid van buitenzorg de baboes zwaaien ons uit zij  ... \n",
      "\n",
      " ... kasihan medicijn obat meid baboe melk soesoe meneer toean  ... \n",
      "\n"
     ]
    },
    {
     "data": {
      "text/markdown": [
       "<span style='font-weight: bold; color:#6b0617; '>Occurrences in Met de T.N.I. op stap : de laatste patrouille van het vergeten leger (1991) (03742.txt)</span>"
      ],
      "text/plain": [
       "<IPython.core.display.Markdown object>"
      ]
     },
     "metadata": {},
     "output_type": "display_data"
    },
    {
     "name": "stdout",
     "output_type": "stream",
     "text": [
      " ... onderbroek na hoe de baboes giechelden hij was toen  ... \n",
      "\n"
     ]
    },
    {
     "data": {
      "text/markdown": [
       "<span style='font-weight: bold; color:#6b0617; '>Occurrences in Awas, pijp-pijp datang : gedenkboek geschreven door en voor de manschappen van 5-5 R.I. (1950) (03743.txt)</span>"
      ],
      "text/plain": [
       "<IPython.core.display.Markdown object>"
      ]
     },
     "metadata": {},
     "output_type": "display_data"
    },
    {
     "name": "stdout",
     "output_type": "stream",
     "text": [
      " ... de westelijk gelegen berqketén merbaboetelemojooengaran het water wordt hier  ... \n",
      "\n",
      " ... op de welbekende berg merbaboe een zorgvuldige afbakening van  ... \n",
      "\n",
      " ... ons zo bekende bergen merbaboe en merapi licht schommelend  ... \n",
      "\n",
      " ... boekje eenvoudig spreekmaleis de baboe brengt de was terug  ... \n",
      "\n"
     ]
    },
    {
     "data": {
      "text/markdown": [
       "<span style='font-weight: bold; color:#6b0617; '>Occurrences in Bren naar voren, partisanen! : het O.V.W.-Bataljon 1-12 R.I. op Java (03744.txt)</span>"
      ],
      "text/plain": [
       "<IPython.core.display.Markdown object>"
      ]
     },
     "metadata": {},
     "output_type": "display_data"
    },
    {
     "name": "stdout",
     "output_type": "stream",
     "text": [
      " ... hebben gisteren heeft de baboe bij het wassen zómaar  ... \n",
      "\n",
      " ... op het gaspedaal een baboe slaakt een luide gil  ... \n",
      "\n",
      " ... waar we gevochten hadden baboes en koelies wuifden naar  ... \n",
      "\n"
     ]
    },
    {
     "data": {
      "text/markdown": [
       "<span style='font-weight: bold; color:#6b0617; '>Occurrences in Met 35 A.A.T. op Noord-Sumatra (1950) (03747.txt)</span>"
      ],
      "text/plain": [
       "<IPython.core.display.Markdown object>"
      ]
     },
     "metadata": {},
     "output_type": "display_data"
    },
    {
     "name": "stdout",
     "output_type": "stream",
     "text": [
      " ... i page 37 de kampbaboes die onze was verzorgden  ... \n",
      "\n",
      " ... bekoorlijk deed gelden de baboes vervoegden ziek bij de  ... \n",
      "\n",
      " ... kisten meubilair wagens met baboe s en dan de  ... \n",
      "\n",
      " ... si api api 3 baboengan 4 balige 235 5  ... \n",
      "\n"
     ]
    },
    {
     "data": {
      "text/markdown": [
       "<span style='font-weight: bold; color:#6b0617; '>Occurrences in Foto-herdenkingsboek van Het 3e Eskadron Pantserwagens regiment Huzaren van Boreel. (1985) (03748.txt)</span>"
      ],
      "text/plain": [
       "<IPython.core.display.Markdown object>"
      ]
     },
     "metadata": {},
     "output_type": "display_data"
    },
    {
     "name": "stdout",
     "output_type": "stream",
     "text": [
      " ... cm het leven gebracht baboes en djongos ia éi  ... \n",
      "\n",
      " ... i hft zon knappe baboe kom je zelden tegen  ... \n",
      "\n",
      " ... versieren samen met de baboes zorgt hij er voor  ... \n",
      "\n",
      " ... wsm y^ihh k am baboe met de was üü  ... \n",
      "\n"
     ]
    },
    {
     "data": {
      "text/markdown": [
       "<span style='font-weight: bold; color:#6b0617; '>Occurrences in Van Preanger naar Bantam : jubileumuitgave van het 3e Bataljon, ter gelegenheid van het 120-jarig bestaan van het Garderegiment Jagers (1949) (03749.txt)</span>"
      ],
      "text/plain": [
       "<IPython.core.display.Markdown object>"
      ]
     },
     "metadata": {},
     "output_type": "display_data"
    },
    {
     "name": "stdout",
     "output_type": "stream",
     "text": [
      " ... het huis van de baboes hangt te bungelen of  ... \n",
      "\n",
      " ... hoorden het van de baboes dat we overgeplaatst zouden  ... \n",
      "\n",
      " ... maar weer bleken de baboes een zeer betrouwbare inlichtingenbron  ... \n",
      "\n"
     ]
    },
    {
     "data": {
      "text/markdown": [
       "<span style='font-weight: bold; color:#6b0617; '>Occurrences in Strijd en opbouw : jubileumuitgave van het 3e Bataljon ter gelegenheid van het 119-jarig bestaan van het Garderegiment Jagers (1948) (03750.txt)</span>"
      ],
      "text/plain": [
       "<IPython.core.display.Markdown object>"
      ]
     },
     "metadata": {},
     "output_type": "display_data"
    },
    {
     "name": "stdout",
     "output_type": "stream",
     "text": [
      " ... een burger op de baboe neemt het gesprek aan  ... \n",
      "\n",
      " ... tida ada vertelt de baboe tida ada herhaalt de  ... \n",
      "\n",
      " ... tida ada beaamt de baboe de kapitein legt de  ... \n",
      "\n"
     ]
    },
    {
     "data": {
      "text/markdown": [
       "<span style='font-weight: bold; color:#6b0617; '>Occurrences in De geschiedenis van de 1e Infanterie Brigade Werkplaats 87 in Engeland, Nederland en Indie, 1945-1949 (1988) (03752.txt)</span>"
      ],
      "text/plain": [
       "<IPython.core.display.Markdown object>"
      ]
     },
     "metadata": {},
     "output_type": "display_data"
    },
    {
     "name": "stdout",
     "output_type": "stream",
     "text": [
      " ... anak baboe baboe tjoetji djongos kammer  ... \n",
      "\n",
      " ... anak baboe baboe tjoetji djongos kammer kammer  ... \n",
      "\n",
      " ... in reparatie 3 de wasbaboes in actie 4 de  ... \n",
      "\n",
      " ... ü1 gpüjfi een new-look baboe ne arang strijkijzer page  ... \n",
      "\n",
      " ... de timmerij en de baboes druk met de was  ... \n",
      "\n",
      " ... het s.o.g legeringsgebouw de baboes zijn druk met de  ... \n",
      "\n",
      " ... d?fl 2a lk toflen baboe ina ze nog samen  ... \n",
      "\n",
      " ... baboe ina die de eerste  ... \n",
      "\n"
     ]
    },
    {
     "data": {
      "text/markdown": [
       "<span style='font-weight: bold; color:#6b0617; '>Occurrences in Ons dagboek 1946-1950 : 2e peloton, 10e genie veldcompagnie (1989) (03753.txt)</span>"
      ],
      "text/plain": [
       "<IPython.core.display.Markdown object>"
      ]
     },
     "metadata": {},
     "output_type": "display_data"
    },
    {
     "name": "stdout",
     "output_type": "stream",
     "text": [
      " ... man kregen we een baboe toegewezen voor de was  ... \n",
      "\n",
      " ... jfr si ifi z?k baboe ï>jok*n<96 r o;-s z  ... \n",
      "\n",
      " ... al vrij spoedig een baboe voor onze groep van  ... \n",
      "\n",
      " ... genie-arbeiders en een paar baboes lieten daarbij het leven  ... \n",
      "\n",
      " ... door de achterblijvers inclusief baboes en beide djongossen effendie  ... \n",
      "\n",
      " ... s maandagsmorgens door de baboe gewekt die tevens een  ... \n",
      "\n",
      " ... natuurlijk enkele bekenden zoals baboes en djongossen even wat  ... \n",
      "\n",
      " ... de djongos en de baboes die bij ons peloton  ... \n",
      "\n",
      " ... mandiën intussen had de baboe of djongos gezorgd dat  ... \n",
      "\n",
      " ... de baboes hadden intussen het vuile  ... \n",
      "\n",
      " ... de baboe of djongos wachtte intussen  ... \n",
      "\n"
     ]
    },
    {
     "data": {
      "text/markdown": [
       "<span style='font-weight: bold; color:#6b0617; '>Occurrences in Een jaar in de tropen, 4 Augustus 1948-1949 : het werk en leven van 6 R.S. in woord en beeld. (1949) (03756.txt)</span>"
      ],
      "text/plain": [
       "<IPython.core.display.Markdown object>"
      ]
     },
     "metadata": {},
     "output_type": "display_data"
    },
    {
     "name": "stdout",
     "output_type": "stream",
     "text": [
      " ... pisangstruik wiegelen zacht de baboes gaan gewoon door met  ... \n",
      "\n",
      " ... sliep ze bij de baboes maar die waren daar  ... \n",
      "\n",
      " ... weer eens bij de baboes in het andere huis  ... \n",
      "\n"
     ]
    },
    {
     "data": {
      "text/markdown": [
       "<span style='font-weight: bold; color:#6b0617; '>Occurrences in Slavenwerk : een openhartig relaas van een Indie?-compagnie, Java 1946-1949 : de kronieken van 'Compie Lima' (1993) (03757.txt)</span>"
      ],
      "text/plain": [
       "<IPython.core.display.Markdown object>"
      ]
     },
     "metadata": {},
     "output_type": "display_data"
    },
    {
     "name": "stdout",
     "output_type": "stream",
     "text": [
      " ... er zijn hier geen baboes om je kleren te  ... \n",
      "\n",
      " ... bovendien worden door de baboes de kleren beter gewassen  ... \n",
      "\n",
      " ... bij een door de baboe aangedragen mok thee met  ... \n",
      "\n",
      " ... bedden worden opgemaakt door baboes we eten aan gedekte  ... \n",
      "\n",
      " ... is van nature deugdzaam wasbaboe satti en négligé in  ... \n",
      "\n",
      " ... maar de djongossen en baboes met hun koffertjes en  ... \n",
      "\n",
      " ... nakie staat zijn de baboes op nog geen meter  ... \n",
      "\n",
      " ... voor compie lima de baboes en de djongossen de  ... \n",
      "\n",
      " ... een sterke binding de baboes die voornamelijk het wassen  ... \n",
      "\n",
      " ... ligt nog bij de baboes   ... \n",
      "\n"
     ]
    },
    {
     "data": {
      "text/markdown": [
       "<span style='font-weight: bold; color:#6b0617; '>Occurrences in 4e afdeling veld artillerie : van Oldebroek tot Oldebroek (1989) (03758.txt)</span>"
      ],
      "text/plain": [
       "<IPython.core.display.Markdown object>"
      ]
     },
     "metadata": {},
     "output_type": "display_data"
    },
    {
     "name": "stdout",
     "output_type": "stream",
     "text": [
      " ... lh dat het verschijnsel baboe nieuw is kunt u  ... \n",
      "\n",
      " ... het dochtertje van de baboe fijn met auto mee  ... \n",
      "\n",
      " ... hard werkte met wat baboes om je heen voelde  ... \n",
      "\n"
     ]
    },
    {
     "data": {
      "text/markdown": [
       "<span style='font-weight: bold; color:#6b0617; '>Occurrences in \"Herinneringsalbum 1e Infanterie brigadegroep C divisie 7 December\"\" /\"\"\" (03760.txt)</span>"
      ],
      "text/plain": [
       "<IPython.core.display.Markdown object>"
      ]
     },
     "metadata": {},
     "output_type": "display_data"
    },
    {
     "name": "stdout",
     "output_type": "stream",
     "text": [
      " ... van wassen door de baboes die met de kledingstukken  ... \n",
      "\n"
     ]
    },
    {
     "data": {
      "text/markdown": [
       "<span style='font-weight: bold; color:#6b0617; '>Occurrences in Zo was het : Gedenkboek 3-5-R.I. 1946-1950 (1950) (03762.txt)</span>"
      ],
      "text/plain": [
       "<IPython.core.display.Markdown object>"
      ]
     },
     "metadata": {},
     "output_type": "display_data"
    },
    {
     "name": "stdout",
     "output_type": "stream",
     "text": [
      " ... en luitenant adjudant die baboe had een sarong aan  ... \n",
      "\n",
      " ... we geen djongos of baboe hadden gehad dan was  ... \n",
      "\n",
      " ... er niet die ene baboe ik weet niet meer  ... \n",
      "\n",
      " ... 1 iéil wmsl charmante baboes op de passar over  ... \n",
      "\n",
      " ... toen een of andere baboe de cantine binnenkwam onder  ... \n",
      "\n"
     ]
    },
    {
     "data": {
      "text/markdown": [
       "<span style='font-weight: bold; color:#6b0617; '>Occurrences in 1e Bataljon, 5e Regiment Infanterie : gedenkboek 1945-1948. (1951) (03763.txt)</span>"
      ],
      "text/plain": [
       "<IPython.core.display.Markdown object>"
      ]
     },
     "metadata": {},
     "output_type": "display_data"
    },
    {
     "data": {
      "text/markdown": [
       "<span style='font-weight: bold; color:#6b0617; '>Occurrences in Het eerste eskadron pantserwagens, Regiment Huzaren van Boreel : 10 Januari 1946 - 22 October 1949. (1949) (03764.txt)</span>"
      ],
      "text/plain": [
       "<IPython.core.display.Markdown object>"
      ]
     },
     "metadata": {},
     "output_type": "display_data"
    },
    {
     "name": "stdout",
     "output_type": "stream",
     "text": [
      " ... vinden behalve met enige baboes waar hij zonder verklaarbare  ... \n",
      "\n",
      " ... medan geen koelies en baboes waren dus namen we  ... \n",
      "\n",
      " ... ze dus op een baboe is aangewezen voor het  ... \n",
      "\n",
      " ... hebben we een aantal baboes en koelies van java  ... \n",
      "\n"
     ]
    },
    {
     "data": {
      "text/markdown": [
       "<span style='font-weight: bold; color:#6b0617; '>Occurrences in Tiga doeabelas : gedenkboek 3-12 r.i. (1951) (03765.txt)</span>"
      ],
      "text/plain": [
       "<IPython.core.display.Markdown object>"
      ]
     },
     "metadata": {},
     "output_type": "display_data"
    },
    {
     "name": "stdout",
     "output_type": "stream",
     "text": [
      " ... verblijf kon binnentreden de baboe wies elke dag getrouw  ... \n",
      "\n",
      " ... dat langzaam aan de baboe er als heer ging  ... \n",
      "\n",
      " ... er vreemde gasten rond baboes beweerden lastig gevallen te  ... \n",
      "\n",
      " ... toen als extra man baboe siti de brenschutter ging  ... \n",
      "\n",
      " ... voor zich ook de baboes djongossen en keukenkoelies kregen  ... \n",
      "\n"
     ]
    },
    {
     "data": {
      "text/markdown": [
       "<span style='font-weight: bold; color:#6b0617; '>Occurrences in 402 Bataljon Infanterie (1951) (03766.txt)</span>"
      ],
      "text/plain": [
       "<IPython.core.display.Markdown object>"
      ]
     },
     "metadata": {},
     "output_type": "display_data"
    },
    {
     "name": "stdout",
     "output_type": "stream",
     "text": [
      " ... aan onze koelies en baboes die dan ook ieder  ... \n",
      "\n"
     ]
    },
    {
     "data": {
      "text/markdown": [
       "<span style='font-weight: bold; color:#6b0617; '>Occurrences in Het Andjing Nica Bataljon (KNIL) in Nederlands-Indie? (1945-1950) (1999) (03767.txt)</span>"
      ],
      "text/plain": [
       "<IPython.core.display.Markdown object>"
      ]
     },
     "metadata": {},
     "output_type": "display_data"
    },
    {
     "name": "stdout",
     "output_type": "stream",
     "text": [
      " ... de vulkanen soembing soendoro merbaboe merapi fase 7 dec  ... \n",
      "\n",
      " ... salatiga g soembing g merbaboe g merapi p lbantoel  ... \n",
      "\n",
      " ... begrensd door de vulkanen merbaboe-merapi-soembing en de soendoro in  ... \n",
      "\n"
     ]
    },
    {
     "data": {
      "text/markdown": [
       "<span style='font-weight: bold; color:#6b0617; '>Occurrences in Ada goela, ada semoet : de 3e Geneeskundige Afdeling in Eibergen en de 6e Hulp Verbandplaats Afdeling op Sumatra (1988) (03768.txt)</span>"
      ],
      "text/plain": [
       "<IPython.core.display.Markdown object>"
      ]
     },
     "metadata": {},
     "output_type": "display_data"
    },
    {
     "name": "stdout",
     "output_type": "stream",
     "text": [
      " ... een kokkie en een wasbaboe   ... \n",
      "\n",
      " ... dat overleg kwam de wasbaboe bij mij en vroeg  ... \n",
      "\n",
      " ... mandoer j f djamboer baboe simlagoendt smbaoia/a 0 djartdji  ... \n",
      "\n"
     ]
    },
    {
     "data": {
      "text/markdown": [
       "<span style='font-weight: bold; color:#6b0617; '>Occurrences in Djokjakarta (1950) (03769.txt)</span>"
      ],
      "text/plain": [
       "<IPython.core.display.Markdown object>"
      ]
     },
     "metadata": {},
     "output_type": "display_data"
    },
    {
     "name": "stdout",
     "output_type": "stream",
     "text": [
      " ... geiten duiven djongossen en baboes uit alle delen van  ... \n",
      "\n"
     ]
    },
    {
     "data": {
      "text/markdown": [
       "<span style='font-weight: bold; color:#6b0617; '>Occurrences in Artillerievuur in de tropen : het boek met zijn herinneringen aan het 8e Regiment Veldartillerie, ingedeeld bij de 3e Inf. Brig. Gr.-C Divisie '7 december' (1950) (03770.txt)</span>"
      ],
      "text/plain": [
       "<IPython.core.display.Markdown object>"
      ]
     },
     "metadata": {},
     "output_type": "display_data"
    },
    {
     "name": "stdout",
     "output_type": "stream",
     "text": [
      " ... 1 i am is omerbaboe v r tjitai poerwokerti  ... \n",
      "\n",
      " ... mijn vrouw zal roepen baboe bawa kopi dat ik  ... \n",
      "\n",
      " ... in indië heten allemaal baboe zij wassen voor je  ... \n",
      "\n",
      " ... er zijn trouwens ook baboes die christelijk zijn die  ... \n",
      "\n",
      " ... dat kwam altijd de baboes ter ore vervolgens de  ... \n",
      "\n"
     ]
    },
    {
     "data": {
      "text/markdown": [
       "<span style='font-weight: bold; color:#6b0617; '>Occurrences in Dorp en dessa : verhaal van een dorp in Brabant en zijn jongens-soldaten in de vrijheidsstrijd van Indonesie? 1945-1951 (1989) (03772.txt)</span>"
      ],
      "text/plain": [
       "<IPython.core.display.Markdown object>"
      ]
     },
     "metadata": {},
     "output_type": "display_data"
    },
    {
     "name": "stdout",
     "output_type": "stream",
     "text": [
      " ... worden gewassen door de baboe maar zn lichaam dat  ... \n",
      "\n",
      " ... over kalis met wassende baboes en spelende kinderen langs  ... \n",
      "\n",
      " ... de kleren van de baboes aangetrokken daarom staan de  ... \n",
      "\n",
      " ... aangetrokken daarom staan de baboes niet op de foto  ... \n",
      "\n",
      " ... moet je eerst de baboe een pot stijfsel laten  ... \n",
      "\n",
      " ... dan vieze smerige kampongvrouwen baboes chinese vrouwen het doet  ... \n",
      "\n",
      " ... alle rassen lopen kassian baboes zie je d r  ... \n",
      "\n",
      " ... en we bedoelen de baboes de vrouwen die de  ... \n",
      "\n",
      " ... in het soldatenhuishouden de baboes krijgen nederlandse voornamen als  ... \n",
      "\n",
      " ... wordt gaan dikwijls de baboes en het personeel gewoon  ... \n",
      "\n",
      " ... er valt over de baboes in het algemeen geen  ... \n",
      "\n",
      " ... de soldaat met een baboe of andere vrouwen maar  ... \n",
      "\n",
      " ... elke morgen komen de baboes om de was op  ... \n",
      "\n",
      " ... mwêomkees ducheine r met baboes in djongol java rm  ... \n",
      "\n",
      " ... page 179 koelies en baboes zijn er altijd genoeg  ... \n",
      "\n",
      " ... t ogenblik uit 6 baboes die al vanaf batavia  ... \n",
      "\n",
      " ... heel begrijpelijk dat de baboe ook wel eens onderwerp  ... \n",
      "\n",
      " ... kon beheersen tegenover de baboe maar dat was geen  ... \n",
      "\n",
      " ... wel eens naar de baboe gegraaid als ze de  ... \n",
      "\n",
      " ... was ze 22 de baboe kan dan ook in  ... \n",
      "\n",
      " ... krijgen dus ook de baboe dat is prettiger voor  ... \n",
      "\n",
      " ... we hadden een nieuwe baboe gekregen maar ze bleek  ... \n",
      "\n",
      " ... goede diensten door de baboes bewezen plaatsen wij hier  ... \n",
      "\n",
      " ... wordt omarmd door zijn baboe zij is een doofstomme  ... \n",
      "\n",
      " ... genoeglijk uitrustend met zijn baboes foto w jansen üsi  ... \n",
      "\n",
      " ... op de wagens de baboes en de djongos lagen  ... \n",
      "\n"
     ]
    },
    {
     "data": {
      "text/markdown": [
       "<span style='font-weight: bold; color:#6b0617; '>Occurrences in Interessante reis met 1800 militairen naar Indie : bezoeken aan onze Groningse oorlogsvrijwilligers in de rimboe van Oost-Java (1981) (03776.txt)</span>"
      ],
      "text/plain": [
       "<IPython.core.display.Markdown object>"
      ]
     },
     "metadata": {},
     "output_type": "display_data"
    },
    {
     "name": "stdout",
     "output_type": "stream",
     "text": [
      " ... huis heeft men een baboe die tegelijk de dagelijkse  ... \n",
      "\n"
     ]
    },
    {
     "data": {
      "text/markdown": [
       "<span style='font-weight: bold; color:#6b0617; '>Occurrences in De geschiedenis van het 425e Bataljon Infanterie, de trekvogels : Indonesie? 1949-1950 (1983) (03777.txt)</span>"
      ],
      "text/plain": [
       "<IPython.core.display.Markdown object>"
      ]
     },
     "metadata": {},
     "output_type": "display_data"
    },
    {
     "name": "stdout",
     "output_type": "stream",
     "text": [
      " ... stee blijven achter was baboes eh djongossen komen nd  ... \n",
      "\n",
      " ... augustus werd de kleine baboe van de waronghouder sastro  ... \n",
      "\n",
      " ... en de klamboe gespannen baboes komen zich melden en  ... \n",
      "\n",
      " ... beter één oude bezadigde baboe kunt hebben dan drie  ... \n",
      "\n",
      " ... eens om zelfs de baboes begrijpen dat dergelijke orders  ... \n",
      "\n",
      " ... ik moet de militairen baboes djongossen en koelies inenten  ... \n",
      "\n",
      " ... blijkt êên van onze baboes te zijn ze heeft  ... \n",
      "\n",
      " ... van één van onze baboes da s-morgens had ze  ... \n",
      "\n"
     ]
    },
    {
     "data": {
      "text/markdown": [
       "<span style='font-weight: bold; color:#6b0617; '>Occurrences in De hitte van de dag : onze soldaten in Indonesie? (03779.txt)</span>"
      ],
      "text/plain": [
       "<IPython.core.display.Markdown object>"
      ]
     },
     "metadata": {},
     "output_type": "display_data"
    },
    {
     "name": "stdout",
     "output_type": "stream",
     "text": [
      " ... moment klommen er drie baboes aan boord met wasgoed  ... \n",
      "\n",
      " ... zien en terwijl de baboes tawarden over de prijs  ... \n",
      "\n"
     ]
    },
    {
     "data": {
      "text/markdown": [
       "<span style='font-weight: bold; color:#6b0617; '>Occurrences in Met vlaggen van top : verrichtingen der Koninklijke marine in de Nederlandsch-Indische wateren voor herstel van orde en vrede van 1945 tot 1948 (03780.txt)</span>"
      ],
      "text/plain": [
       "<IPython.core.display.Markdown object>"
      ]
     },
     "metadata": {},
     "output_type": "display_data"
    },
    {
     "name": "stdout",
     "output_type": "stream",
     "text": [
      " ... s de kokkis en baboes de trouwhartigen en eenvoudigen  ... \n",
      "\n"
     ]
    },
    {
     "data": {
      "text/markdown": [
       "<span style='font-weight: bold; color:#6b0617; '>Occurrences in Memoires van C.E.L. Helfrich, luitenant-admiraal b.d (03781.txt)</span>"
      ],
      "text/plain": [
       "<IPython.core.display.Markdown object>"
      ]
     },
     "metadata": {},
     "output_type": "display_data"
    },
    {
     "name": "stdout",
     "output_type": "stream",
     "text": [
      " ... gouvernementsmarine abraham crijnssen rindjani merbaboe en smeroe-k-11 pikt geallieerde  ... \n",
      "\n",
      " ... gouvernementsmarine abraham crijnssen rindjani merbaboe en smeroe k-ll pikt  ... \n",
      "\n",
      " ... miert en hulpmijnenvegers rindjani merbaboe en smeroe luit t  ... \n",
      "\n",
      " ... hulpmijnenvegertjes hr ms rindjani merbaboe en smeroe zij liepen  ... \n",
      "\n",
      " ... hulpmijnenvegers uit australië rindjani merbaboe en smeroe die ook  ... \n",
      "\n"
     ]
    },
    {
     "data": {
      "text/markdown": [
       "<span style='font-weight: bold; color:#6b0617; '>Occurrences in Met onze mariniers naar Indië (1945) (03782.txt)</span>"
      ],
      "text/plain": [
       "<IPython.core.display.Markdown object>"
      ]
     },
     "metadata": {},
     "output_type": "display_data"
    },
    {
     "data": {
      "text/markdown": [
       "<span style='font-weight: bold; color:#6b0617; '>Occurrences in Op inspectie (03785.txt)</span>"
      ],
      "text/plain": [
       "<IPython.core.display.Markdown object>"
      ]
     },
     "metadata": {},
     "output_type": "display_data"
    },
    {
     "data": {
      "text/markdown": [
       "<span style='font-weight: bold; color:#6b0617; '>Occurrences in Tussen sawahs en bergen : het leven van de soldaat in de Tijger-brigade (03791.txt)</span>"
      ],
      "text/plain": [
       "<IPython.core.display.Markdown object>"
      ]
     },
     "metadata": {},
     "output_type": "display_data"
    },
    {
     "name": "stdout",
     "output_type": "stream",
     "text": [
      " ... de telomojo en de merbaboe daarachter de natuur geeft  ... \n",
      "\n",
      " ... de wanden van de merbaboe over elkaar en bonken  ... \n",
      "\n",
      " ... zal de soldaat tegenover baboes tégenover landbouwers tegenover de  ... \n",
      "\n",
      " ... jij hebt vroeger als baboe bij hen gewerkt kun  ... \n",
      "\n",
      " ... s de vries 109a merbaboe tekening van sgt maj  ... \n",
      "\n"
     ]
    },
    {
     "data": {
      "text/markdown": [
       "<span style='font-weight: bold; color:#6b0617; '>Occurrences in Van Arnhem tot de Poentjak : herinneringen aan het 412e bataljon garde-regiment Prinses Irene : Nederland-Indonesie?, maart 1948-augustus 1950 (03792.txt)</span>"
      ],
      "text/plain": [
       "<IPython.core.display.Markdown object>"
      ]
     },
     "metadata": {},
     "output_type": "display_data"
    },
    {
     "name": "stdout",
     "output_type": "stream",
     "text": [
      " ... overschreeuwen en de arme baboetjes al de stuipen op  ... \n",
      "\n",
      " ... het netelige karweitje van baboe-opzichter opperbest   ... \n",
      "\n",
      " ... te dromen alleen de baboes vinden het mooi de  ... \n",
      "\n",
      " ... geen werkje voor de baboe richting batavia komt brengt  ... \n",
      "\n",
      " ... brengen zelfs voor de baboes valt het afscheid nemen  ... \n",
      "\n",
      " ... op java aangebroken de baboe heeft voor de laatste  ... \n",
      "\n"
     ]
    },
    {
     "data": {
      "text/markdown": [
       "<span style='font-weight: bold; color:#6b0617; '>Occurrences in Rond Smeroe en Kawi : gedenkboek van het vierde bataljon vijfde regiment infanterie (03793.txt)</span>"
      ],
      "text/plain": [
       "<IPython.core.display.Markdown object>"
      ]
     },
     "metadata": {},
     "output_type": "display_data"
    },
    {
     "name": "stdout",
     "output_type": "stream",
     "text": [
      " ... stad tjermee waar wufte baboes overdadig veel bruin lichaamsbloot  ... \n",
      "\n",
      " ... scepter zwaaide koelies en baboes werden aangenomen tempatjes neergezet  ... \n",
      "\n"
     ]
    },
    {
     "data": {
      "text/markdown": [
       "<span style='font-weight: bold; color:#6b0617; '>Occurrences in Wij werden geroepen : de geschiedenis van de 7 December Divisie, met zweten en zwoegen geschreven door twintigduizend Nederlandse mannen (03794.txt)</span>"
      ],
      "text/plain": [
       "<IPython.core.display.Markdown object>"
      ]
     },
     "metadata": {},
     "output_type": "display_data"
    },
    {
     "name": "stdout",
     "output_type": "stream",
     "text": [
      " ... een zelfde eenvoudig kamponghuis baboes en djongossen komen in  ... \n",
      "\n",
      " ... het halve werk de baboe van 6 rva fluistert  ... \n",
      "\n",
      " ... worden spionnen dringen als baboe of koopman vermomd het  ... \n",
      "\n",
      " ... de uitoefening als de baboe er niet is moet  ... \n",
      "\n",
      " ... vrouwen die een soort front-baboe zijn vervuiling schurft en  ... \n",
      "\n",
      " ... omdat de peloppers de wasbaboes overvielen en er met  ... \n",
      "\n"
     ]
    },
    {
     "data": {
      "text/markdown": [
       "<span style='font-weight: bold; color:#6b0617; '>Occurrences in De herinneringen blijven : Indonesie? 1945-1950 (03795.txt)</span>"
      ],
      "text/plain": [
       "<IPython.core.display.Markdown object>"
      ]
     },
     "metadata": {},
     "output_type": "display_data"
    },
    {
     "name": "stdout",
     "output_type": "stream",
     "text": [
      " ... herinneringen 105 kerstmis in baboeton page 8 108 van  ... \n",
      "\n",
      " ... gewoond we hadden een baboe een kokkie en een  ... \n",
      "\n",
      " ... page 107 kerstmis in baboeton tegen de avond zag  ... \n",
      "\n",
      " ... de nachtmis gaan in baboeton n theeplantage op ongeveer  ... \n",
      "\n",
      " ... ruimte een huishoudster twee baboes twee wasbaboes en een  ... \n",
      "\n",
      " ... huishoudster twee baboes twee wasbaboes en een djongos zorgden  ... \n",
      "\n",
      " ... de kampongs die als wasbaboes en djongossen werk moesten  ... \n",
      "\n",
      " ... waren er nog enkele wasbaboes en djongossea zo voelde  ... \n",
      "\n"
     ]
    },
    {
     "data": {
      "text/markdown": [
       "<span style='font-weight: bold; color:#6b0617; '>Occurrences in Giovanni Hakkenberg : mens en marinier (03796.txt)</span>"
      ],
      "text/plain": [
       "<IPython.core.display.Markdown object>"
      ]
     },
     "metadata": {},
     "output_type": "display_data"
    },
    {
     "name": "stdout",
     "output_type": "stream",
     "text": [
      " ... dames kinderen en trouwe baboes een aantal meer of  ... \n",
      "\n"
     ]
    },
    {
     "data": {
      "text/markdown": [
       "<span style='font-weight: bold; color:#6b0617; '>Occurrences in Mijn Indische mariniers jaren : naar herinneringen van B.J. van Gils (03797.txt)</span>"
      ],
      "text/plain": [
       "<IPython.core.display.Markdown object>"
      ]
     },
     "metadata": {},
     "output_type": "display_data"
    },
    {
     "name": "stdout",
     "output_type": "stream",
     "text": [
      " ... er nooit meer een baboe op zou trekken   ... \n",
      "\n",
      " ... page 107 onze baboes hadden het van dat  ... \n",
      "\n",
      " ... botte vijandigheid de andere baboes hadden het toen al  ... \n",
      "\n",
      " ... pasar vonden wij ons baboetje terug liggend in een  ... \n",
      "\n",
      " ... onschuldigen wat had zon baboetje nu met de oorlogsvoering  ... \n",
      "\n",
      " ... hielden allemaal van onze baboetjes en we waren er  ... \n",
      "\n",
      " ... de verdiensten van onze baboetjes kwamen klagen en het  ... \n",
      "\n",
      " ... bescheiden salaris dat de baboetjes bij ons mariniers verdienden  ... \n",
      "\n",
      " ... het dochtertje van een baboe   ... \n",
      "\n",
      " ... het dochtertje van een baboe in het mandiehok hè  ... \n",
      "\n",
      " ... uiteindelijk was het de baboe zelf die hem alsnog  ... \n",
      "\n",
      " ... nog druk over de baboe en moeder van het  ... \n",
      "\n",
      " ... de armen van zon baboetje gaven je het gevoel  ... \n",
      "\n",
      " ... om de gunst der baboetjes aan de gang en  ... \n",
      "\n",
      " ... je plaats bij hét baboetje in zou proberen te  ... \n",
      "\n",
      " ... probeerden wij ook zijn baboetje te versieren en versierden  ... \n",
      "\n",
      " ... zwaarder dan dat zon baboetje voor je mannelijkheid viel  ... \n",
      "\n",
      " ... en had hij het baboetje zo in haar singletje  ... \n",
      "\n",
      " ... gespoten waarop c het baboetje adoe zei adoe alles  ... \n",
      "\n",
      " ... de armen van zon baboetje gaven je het gevoel  ... \n",
      "\n",
      " ... om de gunst der baboetjes aan de gang en  ... \n",
      "\n",
      " ... je plaats bij het baboetje in zou proberen te  ... \n",
      "\n",
      " ... probeerden wij ook zijn baboelje te versieren en versierden  ... \n",
      "\n",
      " ... zwaarder dan dat zon baboetje voor je mannelijkheid viel  ... \n",
      "\n",
      " ... en had hij het baboetje zo in haar singletje  ... \n",
      "\n",
      " ... singletje gespoten waarop het baboetje adoe zei adoe alles  ... \n",
      "\n"
     ]
    },
    {
     "data": {
      "text/markdown": [
       "<span style='font-weight: bold; color:#6b0617; '>Occurrences in Mariniers in aktie op Oost-Java : met zware marsbepakking (03798.txt)</span>"
      ],
      "text/plain": [
       "<IPython.core.display.Markdown object>"
      ]
     },
     "metadata": {},
     "output_type": "display_data"
    },
    {
     "name": "stdout",
     "output_type": "stream",
     "text": [
      " ... beetje water dat de baboes om beurten trachtten te  ... \n",
      "\n",
      " ... wat eitjes kopen de baboetjes kookten ze voor ons  ... \n",
      "\n",
      " ... in de tent de baboe was bezig met pindabrokken  ... \n",
      "\n",
      " ... daar werd een baboetje een beetje verliefd op  ... \n",
      "\n",
      " ... de post zat de baboes hadden we   ... \n",
      "\n",
      " ... hij zag helemaal geen baboes meer en dat deed  ... \n",
      "\n",
      " ... 193 boe tjoetji cde baboe doet de was i  ... \n",
      "\n"
     ]
    },
    {
     "data": {
      "text/markdown": [
       "<span style='font-weight: bold; color:#6b0617; '>Occurrences in Pioniers overzee : de geschiedenis van het Bataljon Genietroepen van de Eerste Divisie '7 December' ('C' divisie), 1945-1950. (1950) (03799.txt)</span>"
      ],
      "text/plain": [
       "<IPython.core.display.Markdown object>"
      ]
     },
     "metadata": {},
     "output_type": "display_data"
    },
    {
     "name": "stdout",
     "output_type": "stream",
     "text": [
      " ... we hurkten naast kakelende baboes die er onze was  ... \n",
      "\n",
      " ... keurig net door de baboe gestreken pakean aan te  ... \n",
      "\n",
      " ... lagere personeel met de baboe en djongos als laatsten  ... \n",
      "\n",
      " ... zulke dingen meer de baboes deden dienst als sleur-aan-juffrouwen  ... \n",
      "\n",
      " ... alsmede de mess-mea-west patima baboe en kokkie zouden van  ... \n",
      "\n",
      " ... maken tussen de ene baboe en de andere en  ... \n",
      "\n",
      " ... het vertrek stonden onze baboes schuchter bij haar schamele  ... \n",
      "\n",
      " ... complexen in geprojecteerd de baboewasbarak is op een uitspringend  ... \n",
      "\n",
      " ... 5x15 5x9 120 m2 baboewasplaats gezien de wenselijkheid de  ... \n",
      "\n",
      " ... gezien de wenselijkheid de baboes zo ver mogelijk uit  ... \n",
      "\n",
      " ... houden is een aparte baboewasbarak ontworpen gerekend is op  ... \n",
      "\n",
      " ... gerekend is op 1 wasbaboe per bamboekamp-soebangdoorsnede mandibarak 7  ... \n",
      "\n",
      " ... f ffel salatiga-w vertr4u g-merbaboe^fe 3142 mé vc-1948 c*5*ék  ... \n",
      "\n"
     ]
    },
    {
     "data": {
      "text/markdown": [
       "<span style='font-weight: bold; color:#6b0617; '>Occurrences in Tienduizend vrije vogels : oorlogsvrijwilligers bij de Koninklijke Marine 1944-1950 (1993) (03800.txt)</span>"
      ],
      "text/plain": [
       "<IPython.core.display.Markdown object>"
      ]
     },
     "metadata": {},
     "output_type": "display_data"
    },
    {
     "data": {
      "text/markdown": [
       "<span style='font-weight: bold; color:#6b0617; '>Occurrences in Westerling, 'de eenling' (1982) (03801.txt)</span>"
      ],
      "text/plain": [
       "<IPython.core.display.Markdown object>"
      ]
     },
     "metadata": {},
     "output_type": "display_data"
    },
    {
     "name": "stdout",
     "output_type": "stream",
     "text": [
      " ... njonjaa en him gewezen baboes elkaar zien omhelzen en  ... \n",
      "\n",
      " ... verdomden ze njonja mevrouw baboe meid zie foto op  ... \n",
      "\n"
     ]
    },
    {
     "data": {
      "text/markdown": [
       "<span style='font-weight: bold; color:#6b0617; '>Occurrences in Over een oorlog die niet nodig was : Indie?veteranen vertellen : dienstplichtige militairen uit Hem en Venhuizen in Nederlands-Indie? van 1945 tot 1950 (03802.txt)</span>"
      ],
      "text/plain": [
       "<IPython.core.display.Markdown object>"
      ]
     },
     "metadata": {},
     "output_type": "display_data"
    },
    {
     "name": "stdout",
     "output_type": "stream",
     "text": [
      " ... de indië helpsters de baboes er werd soms wat  ... \n",
      "\n",
      " ... soms was er een baboe of een djongos die  ... \n",
      "\n"
     ]
    },
    {
     "data": {
      "text/markdown": [
       "<span style='font-weight: bold; color:#6b0617; '>Occurrences in Ik zou nog eens willen weten... : verhalenbundel voor onze (klein)kinderen over onze jaren in de tropen, 1947-1965 (03804.txt)</span>"
      ],
      "text/plain": [
       "<IPython.core.display.Markdown object>"
      ]
     },
     "metadata": {},
     "output_type": "display_data"
    },
    {
     "name": "stdout",
     "output_type": "stream",
     "text": [
      " ... haar hielp minah de wasbaboe waarvan te laat bleek  ... \n",
      "\n"
     ]
    },
    {
     "data": {
      "text/markdown": [
       "<span style='font-weight: bold; color:#6b0617; '>Occurrences in Hospik op patrouille : mijn diensttijd van 1 juli 1947 - 1 juli 1950 (03807.txt)</span>"
      ],
      "text/plain": [
       "<IPython.core.display.Markdown object>"
      ]
     },
     "metadata": {},
     "output_type": "display_data"
    },
    {
     "name": "stdout",
     "output_type": "stream",
     "text": [
      " ... de helling van de merbaboe op een hoogte van  ... \n",
      "\n",
      " ... keer gaan tegen de baboes want hij kon aan  ... \n",
      "\n"
     ]
    },
    {
     "data": {
      "text/markdown": [
       "<span style='font-weight: bold; color:#6b0617; '>Occurrences in Brieven van mijn vader Antonie van der Stelt (03810.txt)</span>"
      ],
      "text/plain": [
       "<IPython.core.display.Markdown object>"
      ]
     },
     "metadata": {},
     "output_type": "display_data"
    },
    {
     "name": "stdout",
     "output_type": "stream",
     "text": [
      " ... de merapi en de merbaboe twee groote vuurspuwende bergen  ... \n",
      "\n",
      " ... met zijn rookpluim de merbaboe met we waren daar  ... \n",
      "\n"
     ]
    },
    {
     "data": {
      "text/markdown": [
       "<span style='font-weight: bold; color:#6b0617; '>Occurrences in Succes in een verloren oorlog : het 6e Regiment Veldartillerie en zijn Speciale Troepen in de onafhankelijkheidsstrijd van de Republiek Indonesië, 1946-1949 (03811.txt)</span>"
      ],
      "text/plain": [
       "<IPython.core.display.Markdown object>"
      ]
     },
     "metadata": {},
     "output_type": "display_data"
    },
    {
     "name": "stdout",
     "output_type": "stream",
     "text": [
      " ... soeta jan eckhardt een baboe en c.b de leeuw  ... \n",
      "\n"
     ]
    },
    {
     "data": {
      "text/markdown": [
       "<span style='font-weight: bold; color:#6b0617; '>Occurrences in Dagboek van een dienstplichtig sergeant-majoor-administrateur : Mijn tropenjaren in dienst van de Majesteit 5 februari 1947 t/m 18 februari 1950 (03812.txt)</span>"
      ],
      "text/plain": [
       "<IPython.core.display.Markdown object>"
      ]
     },
     "metadata": {},
     "output_type": "display_data"
    },
    {
     "name": "stdout",
     "output_type": "stream",
     "text": [
      " ... is verduveld gemakkelijk deze baboe moeten we nu zelf  ... \n",
      "\n",
      " ... verrekt duur is de baboe heet mimi en is  ... \n",
      "\n",
      " ... aan de onderofficieren toegewezen baboe erbij tussen twigt en  ... \n",
      "\n",
      " ... omgeving van de tangsi baboes aan de was in  ... \n",
      "\n",
      " ... direct uit te gaan baboe wilde me er wel  ... \n",
      "\n",
      " ... met medewerking van de baboe schoongemaakt en opnieuw met  ... \n",
      "\n",
      " ... vandaag heb ik de baboes en koelies een voorschot  ... \n",
      "\n",
      " ... klaarstond en de 3 baboes die zijn meegegaan uitbetaald  ... \n",
      "\n",
      " ... verder heb ik 5 baboes overgenomen van de 1  ... \n",
      "\n",
      " ... en eten aan de baboes en koelies uitgereikt naar  ... \n",
      "\n",
      " ... bekleding een gladde ring baboe een tandenpoetsende djongos en  ... \n",
      "\n",
      " ... geweest om daar de baboes en koelies uit te  ... \n",
      "\n",
      " ... wat gewerkt en de baboes en koelies hun voeding  ... \n",
      "\n",
      " ... het grasveldje achter de baboeen koeliewoningen gegaan want daar  ... \n",
      "\n",
      " ... vandaag getrouwd met vijf baboes tot een uur of  ... \n",
      "\n",
      " ... schrok ik geweldig de baboes en de koelies begonnen  ... \n",
      "\n",
      " ... en uitbetaald en de baboes en koelies en hen  ... \n",
      "\n",
      " ... ik heb vanmiddag de baboes en koelies uitbetaald om  ... \n",
      "\n",
      " ... een administrateur en een baboe de administratie van de  ... \n",
      "\n",
      " ... dat ik met een baboe op een foto sta  ... \n",
      "\n"
     ]
    },
    {
     "data": {
      "text/markdown": [
       "<span style='font-weight: bold; color:#6b0617; '>Occurrences in De oorlag ver weg 1949-1962 (03813.txt)</span>"
      ],
      "text/plain": [
       "<IPython.core.display.Markdown object>"
      ]
     },
     "metadata": {},
     "output_type": "display_data"
    },
    {
     "name": "stdout",
     "output_type": "stream",
     "text": [
      " ... die nog kokkies en baboes voor de was kan  ... \n",
      "\n"
     ]
    },
    {
     "data": {
      "text/markdown": [
       "<span style='font-weight: bold; color:#6b0617; '>Occurrences in Het dagboek van een huzaar 1947-1950 (03814.txt)</span>"
      ],
      "text/plain": [
       "<IPython.core.display.Markdown object>"
      ]
     },
     "metadata": {},
     "output_type": "display_data"
    },
    {
     "name": "stdout",
     "output_type": "stream",
     "text": [
      " ... vertrok nagewuifd door onze baboes en de plaatselijke bevolking  ... \n",
      "\n",
      " ... tropen maken met onze baboes in th tan wel  ... \n",
      "\n",
      " ... terug we lieten huilende baboes achter ze wilden graag  ... \n",
      "\n",
      " ... vaak voor dat de baboes elke keer opnieuw als  ... \n",
      "\n",
      " ... persoonlijke band ontstaan tussen baboe en een bepaald persoon  ... \n",
      "\n",
      " ... hij zich financieel geen privébaboe kan veroorloven en ook  ... \n",
      "\n",
      " ... de jongossen en de baboes die de vloeren tafels  ... \n",
      "\n",
      " ... en vooral door onze baboes die het huilen nader  ... \n",
      "\n",
      " ... wij met onze 2 baboes om pp i lil  ... \n",
      "\n",
      " ... op de pasar de baboe heeft daarvan da nu  ... \n",
      "\n",
      " ... vorige week heeft een baboe in poerwosari een kind  ... \n",
      "\n",
      " ... op konden stappen de baboes zullen hun wel missen  ... \n",
      "\n",
      " ... uitzien dan gewoonlijk onze baboes en de djongos dani  ... \n",
      "\n",
      " ... gedroogd blad of gras baboe vrouwelijke hulp ba roe  ... \n",
      "\n"
     ]
    },
    {
     "data": {
      "text/markdown": [
       "<span style='font-weight: bold; color:#6b0617; '>Occurrences in Thuis gelooft niemand mij : Zuid-Celebes 1946-1947 (03815.txt)</span>"
      ],
      "text/plain": [
       "<IPython.core.display.Markdown object>"
      ]
     },
     "metadata": {},
     "output_type": "display_data"
    },
    {
     "name": "stdout",
     "output_type": "stream",
     "text": [
      " ... hij aanpapt met de baboe van de kapitein maar  ... \n",
      "\n"
     ]
    },
    {
     "data": {
      "text/markdown": [
       "<span style='font-weight: bold; color:#6b0617; '>Occurrences in Jongvolwassenen in de knel: dienstplicht in Indië 1946-1950: dagboekuittreksels (1992) (03819.txt)</span>"
      ],
      "text/plain": [
       "<IPython.core.display.Markdown object>"
      ]
     },
     "metadata": {},
     "output_type": "display_data"
    },
    {
     "name": "stdout",
     "output_type": "stream",
     "text": [
      " ... als chauffeur en de baboes   ... \n",
      "\n",
      " ... worden we door de baboes begroet met slamat tahoen  ... \n",
      "\n",
      " ... veel herrie bij de baboes vooral jot en amman  ... \n",
      "\n",
      " ... 10 uur met de baboes roem racnrnê en de  ... \n",
      "\n",
      " ... daar naar toe geweest baboes mee er was wajang  ... \n",
      "\n",
      " ... ziekenrapport er komt een baboe binnen met pneumo page  ... \n",
      "\n",
      " ... paah de baboe met pneumonie was pas  ... \n",
      "\n",
      " ... s avonds geenautos de baboes zijn van streek omdat  ... \n",
      "\n",
      " ... en dan 40monjet ïwonze baboe s met kuiper onze  ... \n",
      "\n",
      " ... is brand geweest een baboe mimi heeft 2e graads  ... \n",
      "\n",
      " ... door zijn arm zaterdag baboe mimi weer opnieuw verbonden  ... \n",
      "\n",
      " ... met dr hermanides over baboe jot gesproken morgen gaat  ... \n",
      "\n",
      " ... geweest nu met de baboes   ... \n",
      "\n",
      " ... een verhouding heeft met baboe rachmé hij heeft ook  ... \n",
      "\n",
      " ... opzoeken zich door een baboe laten manicuren of doelgericht  ... \n",
      "\n",
      " ... begrijpelijk dat wij de baboe s wel eens opzochten  ... \n",
      "\n",
      " ... dat niet weggelegd de baboes verzorgden onze was enz  ... \n",
      "\n",
      " ... beter kennen een goede baboe probeer je zo lang  ... \n",
      "\n",
      " ... zijn het indië meisje baboe of anderzins te trouwen  ... \n",
      "\n",
      " ... de baboes zullen met de lebaran  ... \n",
      "\n",
      " ... vervoer enz dinsdag de baboes zijn vertrokken ajoe brengt  ... \n",
      "\n",
      " ... ajoe brengt een andere baboe s avonds eten we  ... \n",
      "\n",
      " ... zeker vervelende dingen met baboes.t werkt erg op mijn  ... \n",
      "\n",
      " ... wat gezien hebben en baboes hebben horen schreeuwen dat  ... \n",
      "\n",
      " ... hij bv met een baboe naar bed zou zijn  ... \n",
      "\n"
     ]
    },
    {
     "data": {
      "text/markdown": [
       "<span style='font-weight: bold; color:#6b0617; '>Occurrences in \"\"\"Zelfportret\"\" van de 31e Hp.V.A.: 17 september 1946 tot 20 februari 1950. Uitgegeven ter gelegenheid van de vierde reünie van het onderdeel in Alphen aan de Rijn op 8 september 1984\" (1984) (03820.txt)</span>"
      ],
      "text/plain": [
       "<IPython.core.display.Markdown object>"
      ]
     },
     "metadata": {},
     "output_type": "display_data"
    },
    {
     "name": "stdout",
     "output_type": "stream",
     "text": [
      " ... uitzicht op de berg merbaboe er werden regelmatig militairen  ... \n",
      "\n",
      " ... was wij sloegen onze baboes zachtjes tegen het achterwerk  ... \n",
      "\n",
      " ... vandaan kwamen van de baboe want voor één blikje  ... \n",
      "\n",
      " ... was zij stuurden de baboe naar de pasar om  ... \n",
      "\n"
     ]
    },
    {
     "data": {
      "text/markdown": [
       "<span style='font-weight: bold; color:#6b0617; '>Occurrences in Djokja achter de horizon (1949) (03823.txt)</span>"
      ],
      "text/plain": [
       "<IPython.core.display.Markdown object>"
      ]
     },
     "metadata": {},
     "output_type": "display_data"
    },
    {
     "name": "stdout",
     "output_type": "stream",
     "text": [
      " ... de kust ver benoorden merbaboe en merapi verdwenen nu  ... \n",
      "\n"
     ]
    },
    {
     "data": {
      "text/markdown": [
       "<span style='font-weight: bold; color:#6b0617; '>Occurrences in Herinneringen van Co Broerse uit de jaren 1939-1950. Grotendeels geput uit de vele brieven aan zijn moeder in de periode 1945-1950. (1939) (03824.txt)</span>"
      ],
      "text/plain": [
       "<IPython.core.display.Markdown object>"
      ]
     },
     "metadata": {},
     "output_type": "display_data"
    },
    {
     "name": "stdout",
     "output_type": "stream",
     "text": [
      " ... en vuil werk 20 baboes in dienst om voor  ... \n",
      "\n",
      " ... apart huis voor de baboes en bedienden liggen 1  ... \n",
      "\n",
      " ... zouden er eigenlijk geen baboes in het kamp mogen  ... \n",
      "\n",
      " ... drukken ik heb de baboes een behoorlijke uitsch gegeven  ... \n",
      "\n",
      " ... overal vindt je baboes die voor je willen  ... \n",
      "\n",
      " ... onze wachtposten vooral de baboes zijn zo aan ons  ... \n",
      "\n",
      " ... altijd huishoudzeep die de baboes bij stukjes en beetjes  ... \n",
      "\n",
      " ... met mohammedaans nieuwjaar brachten baboes koelies en laskars 2  ... \n",
      "\n",
      " ... naar later bleek de wasbaboes die wij in serang  ... \n",
      "\n"
     ]
    },
    {
     "data": {
      "text/markdown": [
       "<span style='font-weight: bold; color:#6b0617; '>Occurrences in Tussen kolonie en merdeka. (2001) (03826.txt)</span>"
      ],
      "text/plain": [
       "<IPython.core.display.Markdown object>"
      ]
     },
     "metadata": {},
     "output_type": "display_data"
    },
    {
     "name": "stdout",
     "output_type": "stream",
     "text": [
      " ... het jeukt ontzettend de baboe is net op bezoek  ... \n",
      "\n",
      " ... katoen aan de honderdvijftig baboes en koelies van ons  ... \n",
      "\n",
      " ... 77 talen aan de baboes en koelies druk dus  ... \n",
      "\n",
      " ... hebben recht op een baboe voor de was en  ... \n",
      "\n",
      " ... die van de betrokken baboe ze worden door het  ... \n",
      "\n",
      " ... wordt er toch een baboe toegewezen zodat in elk  ... \n",
      "\n",
      " ... ik hoor buiten de baboe schuifelen over de pendopo  ... \n",
      "\n",
      " ... te delen aan de baboes stukje voor de gong  ... \n",
      "\n",
      " ... opgediend door onze onvolprezen baboe marianne omdat de schaal  ... \n",
      "\n",
      " ... de baboe en de djongos waren  ... \n",
      "\n"
     ]
    },
    {
     "data": {
      "text/markdown": [
       "<span style='font-weight: bold; color:#6b0617; '>Occurrences in Dienstplichtig tussen macht en onmacht. Ofwel, notities omtrent eigen- en andermans belevenissen in de jaren 1945-1950 (2007) (03827.txt)</span>"
      ],
      "text/plain": [
       "<IPython.core.display.Markdown object>"
      ]
     },
     "metadata": {},
     "output_type": "display_data"
    },
    {
     "data": {
      "text/markdown": [
       "<span style='font-weight: bold; color:#6b0617; '>Occurrences in Herinneringen van toen… Enkele fragmenten uit het leven van Jacob Moen (1992) (03829.txt)</span>"
      ],
      "text/plain": [
       "<IPython.core.display.Markdown object>"
      ]
     },
     "metadata": {},
     "output_type": "display_data"
    },
    {
     "name": "stdout",
     "output_type": "stream",
     "text": [
      " ... huis te huren voor baboes te zorgen en een  ... \n",
      "\n",
      " ... naar wendid is ook baboe minna meegeweest we zijn  ... \n",
      "\n",
      " ... 7 afscheid genomen van baboe mina die mocht niet  ... \n",
      "\n",
      " ... nemen van een huilende baboe mina de blanda-vrouwen mochten  ... \n",
      "\n",
      " ... meling 19 onze kokkie baboe mina ging ook mee  ... \n",
      "\n",
      " ... 7 afscheid genomen van baboe mina die mocht niet  ... \n",
      "\n"
     ]
    },
    {
     "data": {
      "text/markdown": [
       "<span style='font-weight: bold; color:#6b0617; '>Occurrences in Indisch avontuur van een dienstplichtig soldaat (2011) (03830.txt)</span>"
      ],
      "text/plain": [
       "<IPython.core.display.Markdown object>"
      ]
     },
     "metadata": {},
     "output_type": "display_data"
    },
    {
     "name": "stdout",
     "output_type": "stream",
     "text": [
      " ... de beschikking over twee baboes hulp in de huishouding  ... \n",
      "\n",
      " ... beschikking hadden over twee baboes vatten sommige van de  ... \n",
      "\n",
      " ... gedeelte door de twee baboes en de djongos uitgevoerd  ... \n",
      "\n"
     ]
    },
    {
     "data": {
      "text/markdown": [
       "<span style='font-weight: bold; color:#6b0617; '>Occurrences in Mijn levensloop, 1920-1950 (2005) (03831.txt)</span>"
      ],
      "text/plain": [
       "<IPython.core.display.Markdown object>"
      ]
     },
     "metadata": {},
     "output_type": "display_data"
    },
    {
     "name": "stdout",
     "output_type": "stream",
     "text": [
      " ... vaak getrouwd met de baboe deze deed de was  ... \n",
      "\n",
      " ... het kind en de baboe gedienstige voor de was  ... \n",
      "\n"
     ]
    },
    {
     "data": {
      "text/markdown": [
       "<span style='font-weight: bold; color:#6b0617; '>Occurrences in \"De verhalen van de sobats van het 3e Bataljon Garderegiment \"\"Prinses Irene\"\"\" (2012) (03832.txt)</span>"
      ],
      "text/plain": [
       "<IPython.core.display.Markdown object>"
      ]
     },
     "metadata": {},
     "output_type": "display_data"
    },
    {
     "name": "stdout",
     "output_type": "stream",
     "text": [
      " ... gouden tip van mijn baboe was het met de  ... \n",
      "\n",
      " ... billik wand van gevlochten baboe-bast red plopper toegewezen die  ... \n",
      "\n",
      " ... enfin baboe af natuurlijk en ik  ... \n",
      "\n",
      " ... groot vermaak van de baboe maar ik was geholpen  ... \n",
      "\n",
      " ... oh zo noemen de baboe en de andere bedienden  ... \n",
      "\n",
      " ... het varken onbekende auteur baboe minah mag naar de  ... \n",
      "\n",
      " ... er allerlei djongos en baboes om de jeep die  ... \n",
      "\n",
      " ... direct omringd door de baboes en djongos en inmiddels  ... \n",
      "\n",
      " ... is gunstig er worden baboes en djongos in dienst  ... \n",
      "\n",
      " ... op schoot en die baboes ons maar opjutten in  ... \n",
      "\n",
      " ... de mooie baboe is vertrokken ik heb  ... \n",
      "\n",
      " ... is nog jong de baboe van de beheerder noemt  ... \n",
      "\n",
      " ... compie in dienst gekomen baboe inah klein en al  ... \n",
      "\n",
      " ... te horen als de baboes samen aan het wassen  ... \n",
      "\n",
      " ... wel inah was de baboe van de majoor en  ... \n",
      "\n",
      " ... door haar positie van baboe van de commandant een  ... \n",
      "\n",
      " ... op ik ben je baboe niet werden we dan  ... \n",
      "\n",
      " ... je lendenen was de baboe al met de vuile  ... \n",
      "\n",
      " ... indië waren bleven vele baboes en djongos bij de  ... \n",
      "\n",
      " ... de werving van één baboe zal ik nooit vergeten  ... \n",
      "\n",
      " ... jappentijd was ze als baboe werkzaam geweest bij hollandse  ... \n",
      "\n",
      " ... staande voet aangenomen als baboe en ze was de  ... \n",
      "\n",
      " ... time had zij als hoofd-baboe alle giechelende kirrende kwetterende  ... \n",
      "\n",
      " ... luie zowel als brutale baboes flink onder de duim  ... \n",
      "\n",
      " ... s morgens kwamen de baboes niet vuile kleren verzamelen  ... \n",
      "\n",
      " ... vol en voor een baboe die met vereende krachten  ... \n",
      "\n",
      " ... onder de wratten een baboe die al gauw nieuwsgierig  ... \n",
      "\n",
      " ... stroom meegevoerd langs de baboes die een eindje verderop  ... \n",
      "\n",
      " ... 4 man had een baboe voor de was iedere  ... \n",
      "\n",
      " ... werden keurig schoongemaakt onze baboe heette toetie en ik  ... \n",
      "\n",
      " ... nasi ikan of die baboe die huilde toen we  ... \n",
      "\n",
      " ... hoe het met de baboes zit dat komt ook  ... \n",
      "\n",
      " ... palmbladeren awas opgelet voorzichtig baboe dienstbode bagiean zaak probleem  ... \n",
      "\n"
     ]
    },
    {
     "data": {
      "text/markdown": [
       "<span style='font-weight: bold; color:#6b0617; '>Occurrences in \"Repliek. Nederlands-Oost-Indië (03833.txt)</span>"
      ],
      "text/plain": [
       "<IPython.core.display.Markdown object>"
      ]
     },
     "metadata": {},
     "output_type": "display_data"
    },
    {
     "data": {
      "text/markdown": [
       "<span style='font-weight: bold; color:#6b0617; '>Occurrences in Een verleden herleefd: Indië 1948-1950 (2006) (03834.txt)</span>"
      ],
      "text/plain": [
       "<IPython.core.display.Markdown object>"
      ]
     },
     "metadata": {},
     "output_type": "display_data"
    },
    {
     "name": "stdout",
     "output_type": "stream",
     "text": [
      " ... per acht man een baboe meer precies een baboe  ... \n",
      "\n",
      " ... baboe meer precies een baboe tjoetji een wasvrouw s  ... \n",
      "\n",
      " ... reuzen nog zuidelijker de merbaboe en de merapi overal  ... \n",
      "\n",
      " ... 81 page 82 woordenlijst baboe tjoetji baroe belanda dessa  ... \n",
      "\n"
     ]
    },
    {
     "data": {
      "text/markdown": [
       "<span style='font-weight: bold; color:#6b0617; '>Occurrences in Brief aan een psycholoog: oorlogservaringen (2000) (03838.txt)</span>"
      ],
      "text/plain": [
       "<IPython.core.display.Markdown object>"
      ]
     },
     "metadata": {},
     "output_type": "display_data"
    },
    {
     "data": {
      "text/markdown": [
       "<span style='font-weight: bold; color:#6b0617; '>Occurrences in \"Een Gronings hotel in de oorlog (03840.txt)</span>"
      ],
      "text/plain": [
       "<IPython.core.display.Markdown object>"
      ]
     },
     "metadata": {},
     "output_type": "display_data"
    },
    {
     "name": "stdout",
     "output_type": "stream",
     "text": [
      " ... en tevens een eigen baboe voor dag en nacht  ... \n",
      "\n",
      " ... normaal een van de baboes had er plezier in  ... \n",
      "\n",
      " ... ging direct naar de wasbaboe en verder nog 3  ... \n",
      "\n"
     ]
    },
    {
     "data": {
      "text/markdown": [
       "<span style='font-weight: bold; color:#6b0617; '>Occurrences in Verbindingsmannen Onder De Palmen (1994) (03842.txt)</span>"
      ],
      "text/plain": [
       "<IPython.core.display.Markdown object>"
      ]
     },
     "metadata": {},
     "output_type": "display_data"
    },
    {
     "name": "stdout",
     "output_type": "stream",
     "text": [
      " ... het verhaal van het baboetje dat blikjes vis uit  ... \n",
      "\n",
      " ... een p van deze baboe zegt tegen die jongen  ... \n",
      "\n"
     ]
    },
    {
     "data": {
      "text/markdown": [
       "<span style='font-weight: bold; color:#6b0617; '>Occurrences in 5-1 R.I. in de tropen (1950) (03843.txt)</span>"
      ],
      "text/plain": [
       "<IPython.core.display.Markdown object>"
      ]
     },
     "metadata": {},
     "output_type": "display_data"
    },
    {
     "name": "stdout",
     "output_type": "stream",
     "text": [
      " ... eerst een poosje voor baboe spelen en vervolgens poetsen  ... \n",
      "\n"
     ]
    },
    {
     "data": {
      "text/markdown": [
       "<span style='font-weight: bold; color:#6b0617; '>Occurrences in Diensplichtigen in Indie 1957/1949 (2014) (03844.txt)</span>"
      ],
      "text/plain": [
       "<IPython.core.display.Markdown object>"
      ]
     },
     "metadata": {},
     "output_type": "display_data"
    },
    {
     "name": "stdout",
     "output_type": "stream",
     "text": [
      " ... jan huibregtsen uit westkapelle baboe naast de barbiershop page  ... \n",
      "\n",
      " ... we als hulpen de baboes krijgen drie vrouwen in  ... \n",
      "\n",
      " ... van die drie eerste baboes die wij kregen waren  ... \n",
      "\n",
      " ... hebben dan worden die baboes bedankt en worden het  ... \n",
      "\n",
      " ... in plaats van de baboes 2 brenschutters w mosterd  ... \n",
      "\n",
      " ... de vrouwen betreft de baboes dus las ik ergens  ... \n",
      "\n",
      " ... iedere soldaat zijn eigen baboe had die zullen er  ... \n",
      "\n"
     ]
    },
    {
     "data": {
      "text/markdown": [
       "<span style='font-weight: bold; color:#6b0617; '>Occurrences in Het vergeten leger : het 425e bataljon infanterie (1984) (03845.txt)</span>"
      ],
      "text/plain": [
       "<IPython.core.display.Markdown object>"
      ]
     },
     "metadata": {},
     "output_type": "display_data"
    },
    {
     "name": "stdout",
     "output_type": "stream",
     "text": [
      " ... en de klamboe gespannen baboes komen zich melden en  ... \n",
      "\n",
      " ... beter één oude bezadigde baboe kunt hebben dan drie  ... \n",
      "\n",
      " ... ik moet de militairen baboes djongossen en koelies inenten  ... \n",
      "\n",
      " ... blijkt één van onze baboes te zijn ze heeft  ... \n",
      "\n"
     ]
    },
    {
     "data": {
      "text/markdown": [
       "<span style='font-weight: bold; color:#6b0617; '>Occurrences in 5-11 RI 1947-1950 (1975) (03847.txt)</span>"
      ],
      "text/plain": [
       "<IPython.core.display.Markdown object>"
      ]
     },
     "metadata": {},
     "output_type": "display_data"
    },
    {
     "data": {
      "text/markdown": [
       "<span style='font-weight: bold; color:#6b0617; '>Occurrences in Het trommeltje. Herinneringen 1944-1949. Deel II (2001) (03850.txt)</span>"
      ],
      "text/plain": [
       "<IPython.core.display.Markdown object>"
      ]
     },
     "metadata": {},
     "output_type": "display_data"
    },
    {
     "name": "stdout",
     "output_type": "stream",
     "text": [
      " ... waren door een medelijdende baboe ze kregen dan goed  ... \n",
      "\n",
      " ... de kok of de baboes en djongossen met eten  ... \n",
      "\n",
      " ... in de eerste plaats baboes wasvrouwen je kleren werden  ... \n",
      "\n",
      " ... per acht man een baboe kon worden aangesteld voor  ... \n",
      "\n",
      " ... zon en stonden de baboes te strijken met hoge  ... \n",
      "\n",
      " ... foto 5 toont baboe hanimah met haar dochtertje  ... \n",
      "\n",
      " ... de infanteriecompagnie naast de baboes was er ook mannelijk  ... \n",
      "\n",
      " ... en de boel afwasten baboes en djongossen waren min  ... \n",
      "\n",
      " ... 36 foto 6 toont baboes aan de was maar  ... \n",
      "\n",
      " ... in teloekpoetjong waren de baboes ondergebracht in 34 page  ... \n",
      "\n",
      " ... niet of het de baboes en djongossen waren die  ... \n",
      "\n",
      " ... soemira een mooie jonge baboe de sarong om haar  ... \n",
      "\n",
      " ... tegen de wand sloeg baboe minah werd erbij geroepen  ... \n",
      "\n",
      " ... ontwikkeld dan de andere baboes kon lezen en schrijven  ... \n",
      "\n"
     ]
    },
    {
     "data": {
      "text/markdown": [
       "<span style='font-weight: bold; color:#6b0617; '>Occurrences in Wij werden geroepen… Te dienen ons land en ons volk (2000) (03851.txt)</span>"
      ],
      "text/plain": [
       "<IPython.core.display.Markdown object>"
      ]
     },
     "metadata": {},
     "output_type": "display_data"
    },
    {
     "name": "stdout",
     "output_type": "stream",
     "text": [
      " ... km page 103 de baboe fluistert dat er n  ... \n",
      "\n",
      " ... de telefoon is dat baboe het daarover niet eens  ... \n",
      "\n",
      " ... zondags een auto met baboes te laten aanrukken dat  ... \n",
      "\n",
      " ... thuis en volgens de baboe waren ze nog in  ... \n",
      "\n",
      " ... na de inlandse vrouwen baboes worden aantrekkelijker   ... \n",
      "\n",
      " ... aanvaardbaar maar met een baboe niet goed ook gezien  ... \n",
      "\n",
      " ... in holland een blanke baboe je weet maar nooit  ... \n",
      "\n",
      " ... page 111 de baboes zijn hier zo goed  ... \n",
      "\n",
      " ... hun heil bij de baboe of in de kampong  ... \n",
      "\n",
      " ... thuis kom een blanke baboe die mij van alles  ... \n",
      "\n",
      " ... over het algemeen javaanse baboes die de was deden  ... \n",
      "\n",
      " ... djagak zijn het soendanese baboes en een meerderheid van  ... \n",
      "\n",
      " ... de koelies en de baboes uit te betalen nu  ... \n",
      "\n",
      " ... de djongossen en de baboes nog meer dan wij  ... \n",
      "\n",
      " ... emotioneel afscheid van alle baboes en djongossen sommigen gaan  ... \n",
      "\n"
     ]
    },
    {
     "data": {
      "text/markdown": [
       "<span style='font-weight: bold; color:#6b0617; '>Occurrences in Echte LuA-verhalen. Simon Stevin - Indrapoera - Kramatjati - Kalidjati - Medan - Semarang - Prapat - Padang - Maospati - Mardinding - Pinang-Sore - Sibajak. (1947) (03854.txt)</span>"
      ],
      "text/plain": [
       "<IPython.core.display.Markdown object>"
      ]
     },
     "metadata": {},
     "output_type": "display_data"
    },
    {
     "name": "stdout",
     "output_type": "stream",
     "text": [
      " ... wat nodig hadden zoals baboes katjongs en divers hulppersoneel  ... \n",
      "\n",
      " ... andre huisden een baboe op tafel werd uitgespreid  ... \n",
      "\n",
      " ... bevolking en vrijwel onmisbare baboes meldden zich gretig aan  ... \n",
      "\n"
     ]
    },
    {
     "data": {
      "text/markdown": [
       "<span style='font-weight: bold; color:#6b0617; '>Occurrences in 50 jaar 4-10 ri: 7 november 1946-1996 (1996) (03856.txt)</span>"
      ],
      "text/plain": [
       "<IPython.core.display.Markdown object>"
      ]
     },
     "metadata": {},
     "output_type": "display_data"
    },
    {
     "name": "stdout",
     "output_type": "stream",
     "text": [
      " ... galesloot niet dat de baboes die voor ons de  ... \n",
      "\n",
      " ... de volgende woorden alle baboes disini tidak ada er  ... \n",
      "\n",
      " ... gekomen en dat de baboes op een andere plaats  ... \n",
      "\n",
      " ... halfbloedjes lopen en sóhattige baboes programmas verkopen voorts staat  ... \n",
      "\n",
      " ... eten verzorgd werd ons baboetje onderhield onze kamer en  ... \n",
      "\n",
      " ... door één van de baboes die ze daar even  ... \n",
      "\n",
      " ... piet machielsen 31 alle baboes weg jan visser 33  ... \n",
      "\n"
     ]
    },
    {
     "data": {
      "text/markdown": [
       "<span style='font-weight: bold; color:#6b0617; '>Occurrences in Dagboek van het 3e bataljon 2e regiment infanterie der 3e infanterie brigade groep 7 december divisie van 1 september 1946 tot en met 31 december 1949 (1949) (03857.txt)</span>"
      ],
      "text/plain": [
       "<IPython.core.display.Markdown object>"
      ]
     },
     "metadata": {},
     "output_type": "display_data"
    },
    {
     "name": "stdout",
     "output_type": "stream",
     "text": [
      " ... licht gewonden alsmede 1 baboe en djongqo licnt a-e^ond  ... \n",
      "\n"
     ]
    },
    {
     "data": {
      "text/markdown": [
       "<span style='font-weight: bold; color:#6b0617; '>Occurrences in Promotie '42 (1992) (03860.txt)</span>"
      ],
      "text/plain": [
       "<IPython.core.display.Markdown object>"
      ]
     },
     "metadata": {},
     "output_type": "display_data"
    },
    {
     "name": "stdout",
     "output_type": "stream",
     "text": [
      " ... deels in indië waar baboe siti mij en mijn  ... \n",
      "\n"
     ]
    },
    {
     "data": {
      "text/markdown": [
       "<span style='font-weight: bold; color:#6b0617; '>Occurrences in 1946-1949 Herinneringen. 7 December Divisie - 2e Geneeskundige afdeling - 2e Hulp Verbandplaats Afdeling (1996) (03861.txt)</span>"
      ],
      "text/plain": [
       "<IPython.core.display.Markdown object>"
      ]
     },
     "metadata": {},
     "output_type": "display_data"
    },
    {
     "name": "stdout",
     "output_type": "stream",
     "text": [
      " ... vogels het inlandse personeel baboes en djongos het vroege  ... \n",
      "\n",
      " ... dag gewassen door de baboes en door het mandien  ... \n",
      "\n",
      " ... dat ging leefbaar gemaakt baboes en djongos voor een  ... \n",
      "\n",
      " ... was in depok o.a baboe siti tijdens de politionele  ... \n",
      "\n",
      " ... werd bevriend met deze baboe en aangenomen werd dat  ... \n",
      "\n",
      " ... en wasgelegenheid wêêrn onze baboes aan de was wmppmi  ... \n",
      "\n"
     ]
    },
    {
     "data": {
      "text/markdown": [
       "<span style='font-weight: bold; color:#6b0617; '>Occurrences in Dagboek uit Indie: belevenissen uit mijn diensttijd als oorlogsvrijwilliger. (2013) (03863.txt)</span>"
      ],
      "text/plain": [
       "<IPython.core.display.Markdown object>"
      ]
     },
     "metadata": {},
     "output_type": "display_data"
    },
    {
     "data": {
      "text/markdown": [
       "<span style='font-weight: bold; color:#6b0617; '>Occurrences in 41 Hpva 1948-1950 Het boek (1993) (03864.txt)</span>"
      ],
      "text/plain": [
       "<IPython.core.display.Markdown object>"
      ]
     },
     "metadata": {},
     "output_type": "display_data"
    },
    {
     "name": "stdout",
     "output_type": "stream",
     "text": [
      " ... hoofdzakelijk met djongossen en baboes   ... \n",
      "\n",
      " ... behoorlijk uit werk van baboes en djongossen wie is  ... \n",
      "\n",
      " ... i c page 73 baboe en ditongos het instituut  ... \n",
      "\n",
      " ... het instituut van de baboe en de djongos was  ... \n",
      "\n",
      " ... de steden voor de baboe was er dan het  ... \n",
      "\n",
      " ... mannelijke evenknie van de baboe een soort huisknecht hij  ... \n",
      "\n",
      " ... de baas meestal een baboe met kooktalent die met  ... \n",
      "\n",
      " ... desgevraagd vertelde de baboe dat zich daar slangen  ... \n",
      "\n",
      " ... die niet altijd aan baboe of djongos toevertrouwd kon  ... \n",
      "\n",
      " ... een briefje voor de baboe met een mededeling deed  ... \n",
      "\n",
      " ... ook erg gemakkelijk de baboe zorgde dat je elke  ... \n",
      "\n",
      " ... even te kwaad de baboes die ook al op  ... \n",
      "\n",
      " ... ontbreken van djongossen en baboes daaraan was iedereen inmiddels  ... \n",
      "\n",
      " ... 91 91 92 94 baboe en djongos flora en  ... \n",
      "\n"
     ]
    },
    {
     "data": {
      "text/markdown": [
       "<span style='font-weight: bold; color:#6b0617; '>Occurrences in Voor orde en vrede. Herinnering en herdenking (1945) (03865.txt)</span>"
      ],
      "text/plain": [
       "<IPython.core.display.Markdown object>"
      ]
     },
     "metadata": {},
     "output_type": "display_data"
    },
    {
     "name": "stdout",
     "output_type": "stream",
     "text": [
      " ... bordje boeboer rijstepap de baboe en de djongos keken  ... \n",
      "\n"
     ]
    },
    {
     "data": {
      "text/markdown": [
       "<span style='font-weight: bold; color:#6b0617; '>Occurrences in Ik wilde soldaat worden: herinneringen aan Indië en Korea (2004) (03868.txt)</span>"
      ],
      "text/plain": [
       "<IPython.core.display.Markdown object>"
      ]
     },
     "metadata": {},
     "output_type": "display_data"
    },
    {
     "name": "stdout",
     "output_type": "stream",
     "text": [
      " ... waar wij allemaal een baboe hadden zon baboe een  ... \n",
      "\n",
      " ... een baboe hadden zon baboe een vrouwelijke hulp deed  ... \n",
      "\n",
      " ... mee naar bed mijn baboe heette soesiati die mij  ... \n",
      "\n"
     ]
    },
    {
     "data": {
      "text/markdown": [
       "<span style='font-weight: bold; color:#6b0617; '>Occurrences in Met opgeheven hoofd: herinneringen van LuA-mannen aan hun diensttijd in Nederlands-Indië 1946-1949 (1987) (03869.txt)</span>"
      ],
      "text/plain": [
       "<IPython.core.display.Markdown object>"
      ]
     },
     "metadata": {},
     "output_type": "display_data"
    },
    {
     "name": "stdout",
     "output_type": "stream",
     "text": [
      " ... een zekere baboe oena wordt onvergetelijk onder  ... \n",
      "\n",
      " ... wordt onvergetelijk onder de baboes heerst armoede dat is  ... \n",
      "\n",
      " ... uiteraard irritatie daardoor schurkt baboe oena zich geregeld   ... \n",
      "\n",
      " ... het een appèl bij baboe oena naar de broek  ... \n",
      "\n",
      " ... wordt geïnformeerd de vraag baboe ada broek krijgt als  ... \n",
      "\n",
      " ... antwoord ada toean en baboe oena slaat de jute  ... \n",
      "\n",
      " ... die mortierspugende heuvel geen baboe mag zich in die  ... \n",
      "\n",
      " ... wij elke week onze baboe een rijksdaalder extra zouden  ... \n",
      "\n",
      " ... haar wel eens vloeken baboe ripas ilaha ilalo werd  ... \n",
      "\n",
      " ... ook als zou zon baboe ooit voor een kom  ... \n",
      "\n"
     ]
    },
    {
     "data": {
      "text/markdown": [
       "<span style='font-weight: bold; color:#6b0617; '>Occurrences in 43e Hulpverbandplaatsafdeling 1949-1951 (1999) (03870.txt)</span>"
      ],
      "text/plain": [
       "<IPython.core.display.Markdown object>"
      ]
     },
     "metadata": {},
     "output_type": "display_data"
    },
    {
     "name": "stdout",
     "output_type": "stream",
     "text": [
      " ... bevolking te weten de baboes en djongossen want die  ... \n",
      "\n",
      " ... was voor hen de baboes en djongossen zeer verdrietig  ... \n",
      "\n",
      " ... voeding niet alleen de baboe had een taak ten  ... \n",
      "\n",
      " ... werk een beloning de baboe ontving f 1 00  ... \n",
      "\n",
      " ... je had onder de baboes en djongossen ook hele  ... \n",
      "\n",
      " ... g.h de baboe zon zelfstandige infanteriebrigade zoals  ... \n",
      "\n",
      " ... 7 boemelen in boemi baboes wmm mi v^ssêêê wam  ... \n",
      "\n",
      " ... u begrijpt het de baboe persoonlijk heb ik goede  ... \n",
      "\n",
      " ... herinneringen aan onze eerste baboe in soekaboemi die altijd  ... \n",
      "\n",
      " ... ik las dat een baboe de genoemde werkzaamheden voor  ... \n",
      "\n",
      " ... ongeveer twee bataljons aan baboes mee marcheerden destijds nooit  ... \n",
      "\n",
      " ... met behulp van de baboes lukte dat heel aardig  ... \n",
      "\n",
      " ... knalfuif hadden georganiseerd de baboes hadden voor een zeer  ... \n",
      "\n",
      " ... wij er zaten de baboes en de djongossen die  ... \n",
      "\n",
      " ... woning inclusief een eigen baboe het militaire leven begon  ... \n",
      "\n"
     ]
    },
    {
     "data": {
      "text/markdown": [
       "<span style='font-weight: bold; color:#6b0617; '>Occurrences in Ik was korporaal in Nederlands-Indië (2014) (03872.txt)</span>"
      ],
      "text/plain": [
       "<IPython.core.display.Markdown object>"
      ]
     },
     "metadata": {},
     "output_type": "display_data"
    },
    {
     "name": "stdout",
     "output_type": "stream",
     "text": [
      " ... we hadden hier twee baboes in dienst die mogelijk  ... \n",
      "\n",
      " ... r.l alri ap apri baboe bagoes batavia battledress bersiap  ... \n",
      "\n"
     ]
    },
    {
     "data": {
      "text/markdown": [
       "<span style='font-weight: bold; color:#6b0617; '>Occurrences in De Luchtdoelartilleriegroep Militaire Luchtvaart  1947-1949, voortgekomen uit het Eerste Regiment Lichte Luchtdoelartillerie (03876.txt)</span>"
      ],
      "text/plain": [
       "<IPython.core.display.Markdown object>"
      ]
     },
     "metadata": {},
     "output_type": "display_data"
    },
    {
     "name": "stdout",
     "output_type": "stream",
     "text": [
      " ... maken dat doen de baboes voor je dus dat  ... \n",
      "\n",
      " ... voor de troep uit baboes en koelies werkzaam bij  ... \n",
      "\n",
      " ... opslag door middel van baboes en koelies werkzaam bij  ... \n",
      "\n",
      " ... geen baboe meer die de was  ... \n",
      "\n"
     ]
    },
    {
     "data": {
      "text/markdown": [
       "<span style='font-weight: bold; color:#6b0617; '>Occurrences in Spiegel Historiael: 5e Bataljon Garde-Jagers (1997) (03877.txt)</span>"
      ],
      "text/plain": [
       "<IPython.core.display.Markdown object>"
      ]
     },
     "metadata": {},
     "output_type": "display_data"
    },
    {
     "name": "stdout",
     "output_type": "stream",
     "text": [
      " ... ook kregen we een baboe toegewezen die de was  ... \n",
      "\n",
      " ... het kampement djongos of baboes hadden we niet er  ... \n",
      "\n",
      " ... over een djongos een baboe en een javaanse kokki  ... \n",
      "\n",
      " ... hebben toen als bataljonsmandoer baboes ingehuurd om de was  ... \n",
      "\n"
     ]
    },
    {
     "data": {
      "text/markdown": [
       "<span style='font-weight: bold; color:#6b0617; '>Occurrences in 3e bataljon Garderegiment Jagers : oorlogsdagboek, Indonesië '46-'49 (1989) (03879.txt)</span>"
      ],
      "text/plain": [
       "<IPython.core.display.Markdown object>"
      ]
     },
     "metadata": {},
     "output_type": "display_data"
    },
    {
     "name": "stdout",
     "output_type": "stream",
     "text": [
      " ... inlandse vrouw die als baboe bij de le cie  ... \n",
      "\n"
     ]
    },
    {
     "data": {
      "text/markdown": [
       "<span style='font-weight: bold; color:#6b0617; '>Occurrences in Solo in Batavia (bestaat uit 4 delen) (1990) (03880.txt)</span>"
      ],
      "text/plain": [
       "<IPython.core.display.Markdown object>"
      ]
     },
     "metadata": {},
     "output_type": "display_data"
    },
    {
     "name": "stdout",
     "output_type": "stream",
     "text": [
      " ... er een hele reeks baboes.de onze heet rrfcflen of  ... \n",
      "\n",
      " ... i.v.m.het gegichpl van de baboes het geschreeuw van dt  ... \n",
      "\n"
     ]
    },
    {
     "data": {
      "text/markdown": [
       "<span style='font-weight: bold; color:#6b0617; '>Occurrences in Mijn tijd in Indie (1947) (03881.txt)</span>"
      ],
      "text/plain": [
       "<IPython.core.display.Markdown object>"
      ]
     },
     "metadata": {},
     "output_type": "display_data"
    },
    {
     "name": "stdout",
     "output_type": "stream",
     "text": [
      " ... onze washulp was een baboe dienstmeisje of djongos huisknecht  ... \n",
      "\n",
      " ... een baboe was net bezig met  ... \n",
      "\n",
      " ... waren er bij ons baboes en djongossen die vlakbij  ... \n",
      "\n",
      " ... s avonds naar dat baboehuis te gaan omdat onze  ... \n",
      "\n",
      " ... meest misten wij onze baboe want wassen was toch  ... \n",
      "\n",
      " ... ons kamermeisje of baboetje had een javaans vriendinnetje  ... \n",
      "\n"
     ]
    },
    {
     "data": {
      "text/markdown": [
       "<span style='font-weight: bold; color:#6b0617; '>Occurrences in Zinvol geweld? 17 november 1947-4 november 1950 (2012) (03882.txt)</span>"
      ],
      "text/plain": [
       "<IPython.core.display.Markdown object>"
      ]
     },
     "metadata": {},
     "output_type": "display_data"
    },
    {
     "name": "stdout",
     "output_type": "stream",
     "text": [
      " ... de vrouwen en de baboes eten kopen en een  ... \n",
      "\n",
      " ... tien gewonden veroorzaakte onze baboes werden uit een bedjak  ... \n",
      "\n",
      " ... schoonmaken de jongens en baboes aan het werk toen  ... \n",
      "\n",
      " ... officieren konden worden gehuisvest baboe en nieuwe luxe de  ... \n",
      "\n",
      " ... kanonnen b babi varken baboe vrouwelijke huisbediende bajonet mesvormig  ... \n",
      "\n"
     ]
    },
    {
     "data": {
      "text/markdown": [
       "<span style='font-weight: bold; color:#6b0617; '>Occurrences in De bij voorbaat verloren strijd (1994) (03892.txt)</span>"
      ],
      "text/plain": [
       "<IPython.core.display.Markdown object>"
      ]
     },
     "metadata": {},
     "output_type": "display_data"
    },
    {
     "name": "stdout",
     "output_type": "stream",
     "text": [
      " ... was gesuggereerd dat de baboe en djongos met een  ... \n",
      "\n"
     ]
    },
    {
     "data": {
      "text/markdown": [
       "<span style='font-weight: bold; color:#6b0617; '>Occurrences in Nacht over de rimboe. Hospik in de Oost - Belevenissen van verpleger Klaas Jan Hager (1990) (03893.txt)</span>"
      ],
      "text/plain": [
       "<IPython.core.display.Markdown object>"
      ]
     },
     "metadata": {},
     "output_type": "display_data"
    },
    {
     "name": "stdout",
     "output_type": "stream",
     "text": [
      " ... zelf het toba-meer onze baboes page 45 isai-ik ih  ... \n",
      "\n"
     ]
    },
    {
     "data": {
      "text/markdown": [
       "<span style='font-weight: bold; color:#6b0617; '>Occurrences in De 42e Cie Aan- en Afvoertroepen Overzee. (1952) (03894.txt)</span>"
      ],
      "text/plain": [
       "<IPython.core.display.Markdown object>"
      ]
     },
     "metadata": {},
     "output_type": "display_data"
    },
    {
     "name": "stdout",
     "output_type": "stream",
     "text": [
      " ... page 58 nur für baboes m êè 4zi f  ... \n",
      "\n"
     ]
    },
    {
     "data": {
      "text/markdown": [
       "<span style='font-weight: bold; color:#6b0617; '>Occurrences in Sterren die blijven: ervaringen als Nederlands soldaat - met de worsteling om betrokkenheid bij de wording en ontwikkeling van Indonesië (1989) (03896.txt)</span>"
      ],
      "text/plain": [
       "<IPython.core.display.Markdown object>"
      ]
     },
     "metadata": {},
     "output_type": "display_data"
    },
    {
     "name": "stdout",
     "output_type": "stream",
     "text": [
      " ... toen we de twee baboes uit het water zagen  ... \n",
      "\n",
      " ... zijn rechter zijde staande baboe siti en links staande  ... \n",
      "\n"
     ]
    },
    {
     "data": {
      "text/markdown": [
       "<span style='font-weight: bold; color:#6b0617; '>Occurrences in Ach, wat is belangrijk (03897.txt)</span>"
      ],
      "text/plain": [
       "<IPython.core.display.Markdown object>"
      ]
     },
     "metadata": {},
     "output_type": "display_data"
    },
    {
     "name": "stdout",
     "output_type": "stream",
     "text": [
      " ... medebewoners en een goede baboe en djongos en geen  ... \n",
      "\n"
     ]
    },
    {
     "data": {
      "text/markdown": [
       "<span style='font-weight: bold; color:#6b0617; '>Occurrences in \"Waarom wij… (Het verhaal van Tonny Doensen, diensplichtig militair in Nederlands-Indië 1948-1950\") (03919.txt)</span>"
      ],
      "text/plain": [
       "<IPython.core.display.Markdown object>"
      ]
     },
     "metadata": {},
     "output_type": "display_data"
    },
    {
     "name": "stdout",
     "output_type": "stream",
     "text": [
      " ... er wel zestig vrouwen baboes genaamd wij hebben met  ... \n",
      "\n",
      " ... acht man één ir baboe je levert s morgens  ... \n",
      "\n",
      " ... lijn hangen be de baboe heeft morgen weer plenty  ... \n",
      "\n",
      " ... door een paar mooie baboes ik gun ze het  ... \n",
      "\n"
     ]
    },
    {
     "data": {
      "text/markdown": [
       "<span style='font-weight: bold; color:#6b0617; '>Occurrences in Worsteling met het verleden. Levensverhaal van een Venlonaar. (2013) (03920.txt)</span>"
      ],
      "text/plain": [
       "<IPython.core.display.Markdown object>"
      ]
     },
     "metadata": {},
     "output_type": "display_data"
    },
    {
     "name": "stdout",
     "output_type": "stream",
     "text": [
      " ... zitten we hier zonder baboes en nog erger geen  ... \n",
      "\n",
      " ... gaat weer open vier baboes sloffen naar binnen en  ... \n",
      "\n",
      " ... ik dat die malle baboe beide handen voor haar  ... \n",
      "\n",
      " ... een geluk dat de baboes ons daar snel van  ... \n",
      "\n"
     ]
    },
    {
     "data": {
      "text/markdown": [
       "<span style='font-weight: bold; color:#6b0617; '>Occurrences in #### (03923.txt)</span>"
      ],
      "text/plain": [
       "<IPython.core.display.Markdown object>"
      ]
     },
     "metadata": {},
     "output_type": "display_data"
    },
    {
     "name": "stdout",
     "output_type": "stream",
     "text": [
      " ... van de oengaran en merbaboe in het bergstadje ambarawa  ... \n",
      "\n",
      " ... kijken zien we de baboes die ons zo trouw  ... \n",
      "\n"
     ]
    },
    {
     "data": {
      "text/markdown": [
       "<span style='font-weight: bold; color:#6b0617; '>Occurrences in #### (03924.txt)</span>"
      ],
      "text/plain": [
       "<IPython.core.display.Markdown object>"
      ]
     },
     "metadata": {},
     "output_type": "display_data"
    },
    {
     "name": "stdout",
     "output_type": "stream",
     "text": [
      " ... t.w de djongossen en baboes gingen wel elke dag  ... \n",
      "\n"
     ]
    },
    {
     "data": {
      "text/markdown": [
       "<span style='font-weight: bold; color:#6b0617; '>Occurrences in #### (03925.txt)</span>"
      ],
      "text/plain": [
       "<IPython.core.display.Markdown object>"
      ]
     },
     "metadata": {},
     "output_type": "display_data"
    },
    {
     "name": "stdout",
     "output_type": "stream",
     "text": [
      " ... r selfsupporting kleding wassen baboe afwezig page 102 page  ... \n",
      "\n"
     ]
    },
    {
     "data": {
      "text/markdown": [
       "<span style='font-weight: bold; color:#6b0617; '>Occurrences in #### (03926.txt)</span>"
      ],
      "text/plain": [
       "<IPython.core.display.Markdown object>"
      ]
     },
     "metadata": {},
     "output_type": "display_data"
    },
    {
     "name": "stdout",
     "output_type": "stream",
     "text": [
      " ... man kregen we een baboe die betaald werd door  ... \n",
      "\n",
      " ... leger wilde je meer baboes dan was i.h.a geen  ... \n",
      "\n",
      " ... alle moeite niet aan baboes te komen korp vermeent  ... \n",
      "\n",
      " ... te zorgen dat er baboes kwamen desnoods uit soerabaja  ... \n",
      "\n",
      " ... grote ergenis van de baboes want wij hadden er  ... \n",
      "\n",
      " ... met roetvlekken kwam de baboes moesten alles weer wassen  ... \n",
      "\n"
     ]
    },
    {
     "data": {
      "text/markdown": [
       "<span style='font-weight: bold; color:#6b0617; '>Occurrences in Rijssenaren in Indie? (03932.txt)</span>"
      ],
      "text/plain": [
       "<IPython.core.display.Markdown object>"
      ]
     },
     "metadata": {},
     "output_type": "display_data"
    },
    {
     "name": "stdout",
     "output_type": "stream",
     "text": [
      " ... situatie betekenis maleise woorden baboe baboe-tjoetji baroe bersiap bilik  ... \n",
      "\n",
      " ... betekenis maleise woorden baboe baboe-tjoetji baroe bersiap bilik dessa  ... \n",
      "\n",
      " ... pisang sawah vrouwelijke huisbediende wasbaboe nieuw paraatheid gevlochten gespleten  ... \n",
      "\n"
     ]
    },
    {
     "data": {
      "text/markdown": [
       "<span style='font-weight: bold; color:#6b0617; '>Occurrences in Soldaat in Nederlands Indie? : dienstplichtige jongens en OVW'ers uit Achterveld, Stoutenburg en directe omgeving in Nederlands Oost Indie? (03934.txt)</span>"
      ],
      "text/plain": [
       "<IPython.core.display.Markdown object>"
      ]
     },
     "metadata": {},
     "output_type": "display_data"
    },
    {
     "name": "stdout",
     "output_type": "stream",
     "text": [
      " ... 4 a-v-i n de baboes irgfsssraïnil wim had zijn  ... \n",
      "\n"
     ]
    },
    {
     "data": {
      "text/markdown": [
       "<span style='font-weight: bold; color:#6b0617; '>Occurrences in Kennemers, watermannen en rijstvogels (03935.txt)</span>"
      ],
      "text/plain": [
       "<IPython.core.display.Markdown object>"
      ]
     },
     "metadata": {},
     "output_type": "display_data"
    },
    {
     "name": "stdout",
     "output_type": "stream",
     "text": [
      " ... nu de generaal een baboe of een bedelaar was  ... \n",
      "\n",
      " ... nederlandse leger ingehuurd als baboe wasvrouw djongos hulp in  ... \n",
      "\n",
      " ... heel stel koelies en baboes ingehuurd zo ook in  ... \n",
      "\n",
      " ... ook in tjiwalen 15 baboes en 20 koelies in  ... \n",
      "\n",
      " ... secties hebben hele mooie baboes mooie inlandse meisjes zijn  ... \n",
      "\n",
      " ... voor ons zijn de baboes geen gevaar die van  ... \n",
      "\n",
      " ... verleden week zijn 3 baboes die bij ons op  ... \n",
      "\n",
      " ... steeds een van de baboes aan en waarom steeds  ... \n",
      "\n",
      " ... en waarom steeds diezelfde baboe dat begreep niemand maar  ... \n",
      "\n",
      " ... planter vermoord morgen een baboe dan een loerah en  ... \n",
      "\n",
      " ... daarna gedag tegen de baboes de kokkies en de  ... \n",
      "\n"
     ]
    },
    {
     "data": {
      "text/markdown": [
       "<span style='font-weight: bold; color:#6b0617; '>Occurrences in Gods trouw in de tropen : belevenissen van een aantal oudgedienden in het voormalig Nederlands Oost-Indie? gedurende de jaren 1946-1950 (1993) (03937.txt)</span>"
      ],
      "text/plain": [
       "<IPython.core.display.Markdown object>"
      ]
     },
     "metadata": {},
     "output_type": "display_data"
    },
    {
     "name": "stdout",
     "output_type": "stream",
     "text": [
      " ... de eerste djongossen en baboestoetji jongens voor allerlei kleine  ... \n",
      "\n",
      " ... terughoudender ook aan de baboes en page 126 djongossen  ... \n",
      "\n",
      " ... man was er een baboe een inlandse vrouw deze  ... \n",
      "\n",
      " ... een inlandse vrouw deze baboes deden iedere dag de  ... \n",
      "\n"
     ]
    },
    {
     "data": {
      "text/markdown": [
       "<span style='font-weight: bold; color:#6b0617; '>Occurrences in Wel en wee der A.A.T. (1980) (03939.txt)</span>"
      ],
      "text/plain": [
       "<IPython.core.display.Markdown object>"
      ]
     },
     "metadata": {},
     "output_type": "display_data"
    },
    {
     "name": "stdout",
     "output_type": "stream",
     "text": [
      " ... je afspoelde terima kassih baboe die altijd weer je  ... \n",
      "\n"
     ]
    },
    {
     "data": {
      "text/markdown": [
       "<span style='font-weight: bold; color:#6b0617; '>Occurrences in Wel en wee der A.A.T. (1980) (03940.txt)</span>"
      ],
      "text/plain": [
       "<IPython.core.display.Markdown object>"
      ]
     },
     "metadata": {},
     "output_type": "display_data"
    },
    {
     "name": "stdout",
     "output_type": "stream",
     "text": [
      " ... stenen huiz 4 1 baboes wassen en strijken en  ... \n",
      "\n",
      " ... èsséèmm gezicht op de merbaboe vanuit sai.atiga page 69  ... \n",
      "\n"
     ]
    },
    {
     "data": {
      "text/markdown": [
       "<span style='font-weight: bold; color:#6b0617; '>Occurrences in Het vergeten leger (1986) (03941.txt)</span>"
      ],
      "text/plain": [
       "<IPython.core.display.Markdown object>"
      ]
     },
     "metadata": {},
     "output_type": "display_data"
    },
    {
     "name": "stdout",
     "output_type": "stream",
     "text": [
      " ... door de djongos of baboe in het hier aanwezige  ... \n",
      "\n",
      " ... schuld ligt bij de baboes gewoonlijk doen de baboes  ... \n",
      "\n",
      " ... baboes gewoonlijk doen de baboes de was voor ons  ... \n",
      "\n",
      " ... erg ongelukkig met zijn baboe getroffen het lieve bruine  ... \n",
      "\n",
      " ... kenne we foor elleke baboe op de kniee gaan  ... \n",
      "\n"
     ]
    },
    {
     "data": {
      "text/markdown": [
       "<span style='font-weight: bold; color:#6b0617; '>Occurrences in Het vergeten leger (1986) (03942.txt)</span>"
      ],
      "text/plain": [
       "<IPython.core.display.Markdown object>"
      ]
     },
     "metadata": {},
     "output_type": "display_data"
    },
    {
     "data": {
      "text/markdown": [
       "<span style='font-weight: bold; color:#6b0617; '>Occurrences in Bandjir over Noord-Sumatra (03943.txt)</span>"
      ],
      "text/plain": [
       "<IPython.core.display.Markdown object>"
      ]
     },
     "metadata": {},
     "output_type": "display_data"
    },
    {
     "name": "stdout",
     "output_type": "stream",
     "text": [
      " ... bereikt als ik de wasbaboe opdracht geef al mijn  ... \n",
      "\n"
     ]
    },
    {
     "data": {
      "text/markdown": [
       "<span style='font-weight: bold; color:#6b0617; '>Occurrences in Van 'deserteur' tot gelauwerde telegrafist. Indiëveteraan Aad Poortvliet hield vitale radioverbinding Timor in stand. (2010) (03961.txt)</span>"
      ],
      "text/plain": [
       "<IPython.core.display.Markdown object>"
      ]
     },
     "metadata": {},
     "output_type": "display_data"
    },
    {
     "data": {
      "text/markdown": [
       "<span style='font-weight: bold; color:#6b0617; '>Occurrences in Een houten kistje met veertien schroefjes. Verders geen nieuws meer vandaag. (1999) (03974.txt)</span>"
      ],
      "text/plain": [
       "<IPython.core.display.Markdown object>"
      ]
     },
     "metadata": {},
     "output_type": "display_data"
    },
    {
     "name": "stdout",
     "output_type": "stream",
     "text": [
      " ... voor 8 kwamen de baboes maleis voor huishoudster de  ... \n",
      "\n"
     ]
    },
    {
     "data": {
      "text/markdown": [
       "<span style='font-weight: bold; color:#6b0617; '>Occurrences in Vergeefse reis : herinneringen van een Koninklijke Landmacht-soldaat in Indië/Indonesië, augustus 1949 - maart 1951 (03980.txt)</span>"
      ],
      "text/plain": [
       "<IPython.core.display.Markdown object>"
      ]
     },
     "metadata": {},
     "output_type": "display_data"
    },
    {
     "name": "stdout",
     "output_type": "stream",
     "text": [
      " ... per adit man een baboe voor het schoonmaken van  ... \n",
      "\n",
      " ... we we missen onze baboe die s morgens de  ... \n",
      "\n",
      " ... atap dak van palmblad baboe dienstmeisje barang bagage bedjak  ... \n",
      "\n"
     ]
    },
    {
     "data": {
      "text/markdown": [
       "<span style='font-weight: bold; color:#6b0617; '>Occurrences in Soldaat overzee : Indonesie? zoals wij dat zagen! : een fotoboek (03982.txt)</span>"
      ],
      "text/plain": [
       "<IPython.core.display.Markdown object>"
      ]
     },
     "metadata": {},
     "output_type": "display_data"
    },
    {
     "name": "stdout",
     "output_type": "stream",
     "text": [
      " ... javas meest bekende vulkanen merbaboe en merapi beide meer  ... \n",
      "\n"
     ]
    },
    {
     "data": {
      "text/markdown": [
       "<span style='font-weight: bold; color:#6b0617; '>Occurrences in De laatste man : een herinnering (03983.txt)</span>"
      ],
      "text/plain": [
       "<IPython.core.display.Markdown object>"
      ]
     },
     "metadata": {},
     "output_type": "display_data"
    },
    {
     "data": {
      "text/markdown": [
       "<span style='font-weight: bold; color:#6b0617; '>Occurrences in De medische geschiedenis van een infanterie-bataljon der Koninklijke Landmacht gedurende drie jaar actieve dienst op Java, 1946-1950 (03984.txt)</span>"
      ],
      "text/plain": [
       "<IPython.core.display.Markdown object>"
      ]
     },
     "metadata": {},
     "output_type": "display_data"
    },
    {
     "name": "stdout",
     "output_type": "stream",
     "text": [
      " ... gekend waarschijnlijk vaak met wasbaboes van het onderdeel   ... \n",
      "\n"
     ]
    },
    {
     "data": {
      "text/markdown": [
       "<span style='font-weight: bold; color:#6b0617; '>Occurrences in Op klompen door de dessa : Indie?gangers vertellen (03985.txt)</span>"
      ],
      "text/plain": [
       "<IPython.core.display.Markdown object>"
      ]
     },
     "metadata": {},
     "output_type": "display_data"
    },
    {
     "name": "stdout",
     "output_type": "stream",
     "text": [
      " ... baboe napsie werkt niet meer  ... \n",
      "\n",
      " ... wat al te hitsige baboe de hele dag heeft  ... \n",
      "\n",
      " ... natuurlijk dat hebben onze baboes en koelies vanmorgen vast  ... \n",
      "\n",
      " ... 1954 visser dirk de baboe el de blanda een  ... \n",
      "\n",
      " ... 319 verklarende woordenlijst adjunct)-wedana baboe bamboe doeri banjak sakit  ... \n",
      "\n"
     ]
    },
    {
     "data": {
      "text/markdown": [
       "<span style='font-weight: bold; color:#6b0617; '>Occurrences in Wel en wee der A.A.T. (1980) (03986.txt)</span>"
      ],
      "text/plain": [
       "<IPython.core.display.Markdown object>"
      ]
     },
     "metadata": {},
     "output_type": "display_data"
    },
    {
     "name": "stdout",
     "output_type": "stream",
     "text": [
      " ... ons toebedeelde koelies en baboes te zijn op het  ... \n",
      "\n",
      " ... konden mandien en de baboes nu in staat waren  ... \n",
      "\n",
      " ... dier plagen kwam de baboe n.m pas   ... \n",
      "\n"
     ]
    },
    {
     "data": {
      "text/markdown": [
       "<span style='font-weight: bold; color:#6b0617; '>Occurrences in Tabé Java Tabé Indië (03991.txt)</span>"
      ],
      "text/plain": [
       "<IPython.core.display.Markdown object>"
      ]
     },
     "metadata": {},
     "output_type": "display_data"
    },
    {
     "name": "stdout",
     "output_type": "stream",
     "text": [
      " ... uitdroging te behoeden de baboe had een dagtaak aan  ... \n",
      "\n",
      " ... zei als je een baboe neemt neem dan niet  ... \n",
      "\n",
      " ... niet zon mooie jonge baboe maar een oude dat  ... \n",
      "\n",
      " ... hier heb ik geen baboe kebon tuinjongen of djongosü  ... \n",
      "\n"
     ]
    },
    {
     "data": {
      "text/markdown": [
       "<span style='font-weight: bold; color:#6b0617; '>Occurrences in \"\"\"Loslaten, dat gaat niet meer\"\".\" (2017) (03992.txt)</span>"
      ],
      "text/plain": [
       "<IPython.core.display.Markdown object>"
      ]
     },
     "metadata": {},
     "output_type": "display_data"
    },
    {
     "name": "stdout",
     "output_type": "stream",
     "text": [
      " ... baboes zorgen voor het wassen  ... \n",
      "\n",
      " ... eén keer wordt een baboe ontvoerd de zoektocht heeft  ... \n",
      "\n",
      " ... een huis met een baboe teun vindt het een  ... \n",
      "\n",
      " ... de spiegelruit en de baboes treffen de andere ochtend  ... \n",
      "\n",
      " ... op patrouille en de baboes de taken binnen een  ... \n",
      "\n",
      " ... gewaardeerd worden tussen de baboes en soldaten speelt zich  ... \n",
      "\n",
      " ... ze op de plantage baboes met een kind dat  ... \n",
      "\n",
      " ... radja tentenkamp waar de baboes de was strijken jeep  ... \n",
      "\n"
     ]
    },
    {
     "data": {
      "text/markdown": [
       "<span style='font-weight: bold; color:#6b0617; '>Occurrences in De witte karbouw : herinneringen aan een oorlog in de tropen (1992) (03994.txt)</span>"
      ],
      "text/plain": [
       "<IPython.core.display.Markdown object>"
      ]
     },
     "metadata": {},
     "output_type": "display_data"
    },
    {
     "name": "stdout",
     "output_type": "stream",
     "text": [
      " ... zijn vrouw was geen baboe enz ik liet hem  ... \n",
      "\n"
     ]
    },
    {
     "data": {
      "text/markdown": [
       "<span style='font-weight: bold; color:#6b0617; '>Occurrences in Bericht van je jongen (1947) (03995.txt)</span>"
      ],
      "text/plain": [
       "<IPython.core.display.Markdown object>"
      ]
     },
     "metadata": {},
     "output_type": "display_data"
    },
    {
     "name": "stdout",
     "output_type": "stream",
     "text": [
      " ... en eindelijk veegt de baboe het in de vuilnisbak  ... \n",
      "\n",
      " ... geraakt heb want de baboe ruimde alleen glasscherven op  ... \n",
      "\n",
      " ... hij heeft nu een baboe voor zich alleen en  ... \n",
      "\n",
      " ... water aan als de baboe onze pakeans wast en  ... \n",
      "\n",
      " ... soms laat hij zijn baboe bij ons in de  ... \n",
      "\n",
      " ... tien hij heeft zijn baboe heel hard de deur  ... \n",
      "\n",
      " ... geluk met de vorige baboe heeft hij geprobeerd om  ... \n",
      "\n"
     ]
    },
    {
     "data": {
      "text/markdown": [
       "<span style='font-weight: bold; color:#6b0617; '>Occurrences in De verliezers : Indonesië op het tweede gezicht (1993) (03998.txt)</span>"
      ],
      "text/plain": [
       "<IPython.core.display.Markdown object>"
      ]
     },
     "metadata": {},
     "output_type": "display_data"
    },
    {
     "name": "stdout",
     "output_type": "stream",
     "text": [
      " ... maar links waar de baboes de was deden en  ... \n",
      "\n"
     ]
    },
    {
     "data": {
      "text/markdown": [
       "<span style='font-weight: bold; color:#6b0617; '>Occurrences in De brutale reis : de eerste tocht naar een nieuwe wereld (03999.txt)</span>"
      ],
      "text/plain": [
       "<IPython.core.display.Markdown object>"
      ]
     },
     "metadata": {},
     "output_type": "display_data"
    },
    {
     "name": "stdout",
     "output_type": "stream",
     "text": [
      " ... onze bekende ochtendkrontjongzangeres de baboe loopt met de sapoe  ... \n",
      "\n",
      " ... voor de djongossen en baboes op het gazon voor  ... \n",
      "\n",
      " ... niet als soldaat tegenover baboe of koelie en soldaat  ... \n",
      "\n"
     ]
    },
    {
     "data": {
      "text/markdown": [
       "<span style='font-weight: bold; color:#6b0617; '>Occurrences in Een kwestie van kiezen (1995) (04000.txt)</span>"
      ],
      "text/plain": [
       "<IPython.core.display.Markdown object>"
      ]
     },
     "metadata": {},
     "output_type": "display_data"
    },
    {
     "name": "stdout",
     "output_type": "stream",
     "text": [
      " ... de verre toppen van merbaboe en merapi je zou  ... \n",
      "\n"
     ]
    },
    {
     "data": {
      "text/markdown": [
       "<span style='font-weight: bold; color:#6b0617; '>Occurrences in Een ander pakje aan. De idee‘n van dienstplichtige militairen over het conflict tussen Nederland en de Republiek Indonesi‘ 1945-1949 (06001.txt)</span>"
      ],
      "text/plain": [
       "<IPython.core.display.Markdown object>"
      ]
     },
     "metadata": {},
     "output_type": "display_data"
    },
    {
     "name": "stdout",
     "output_type": "stream",
     "text": [
      " ... de koelie en de baboe kwaad en als die  ... \n",
      "\n",
      " ... elke dag krijgt de baboe van me een handdoek  ... \n",
      "\n",
      " ... we hebben zelf een baboe opgesnord een weduwe van  ... \n",
      "\n",
      " ... niet heel gauw een baboe komt dan zijn we  ... \n",
      "\n",
      " ... f 8 voor de baboe page 108 f 1  ... \n",
      "\n",
      " ... ik per maand voor koelie/baboe f 7 00 hier  ... \n",
      "\n",
      " ... hier is het vraagstuk baboe vanaf de dag dat  ... \n",
      "\n",
      " ... taroetoeng zijn bijna geen baboes te krijgen de bevolking  ... \n",
      "\n",
      " ... maar hebben wilt de baboe vertrekt alweer ik ben  ... \n",
      "\n",
      " ... januari 1949 met de baboe heel wat te stellen  ... \n",
      "\n",
      " ... de wachtlijst eten-en-drinken sterkteopgaves baboes en koelies hij gaat  ... \n",
      "\n",
      " ... ik ben voor de baboes en boys naar de  ... \n",
      "\n",
      " ... met bloemen waarvoor de baboe gezorgd had bovendien de  ... \n",
      "\n",
      " ... page 230 rond de baboe het zou absurd zijn  ... \n",
      "\n",
      " ... de boys en de baboes voor zondag aardappelen schillen  ... \n",
      "\n",
      " ... moeilijkheden met de baboe alweer het is nu  ... \n",
      "\n",
      " ... het niet daar de baboes dan alleen maar het  ... \n",
      "\n",
      " ... ander gezorgd maar de baboes van de andere jongens  ... \n",
      "\n",
      " ... mocht niet gebeuren alle baboes die bij ons werken  ... \n",
      "\n",
      " ... balige geweest en alle baboes gingen mee voor een  ... \n",
      "\n",
      " ... ons dwingen de oude baboe erna weer terug te  ... \n",
      "\n",
      " ... messtin gebakken aardappelen de baboes hadden vanmorgen aardappelen geschild  ... \n",
      "\n",
      " ... merdeka wanneer er een baboe bij ons in   ... \n",
      "\n",
      " ... moeihjkheid was hoe alle baboes mee te nemen we  ... \n",
      "\n",
      " ... dadelijk de intocht der baboes en boys onder prachtige  ... \n",
      "\n",
      " ... eetgerei gezamenlijk gebruikten de baboe waste en verborgde dat  ... \n",
      "\n"
     ]
    },
    {
     "data": {
      "text/markdown": [
       "<span style='font-weight: bold; color:#6b0617; '>Occurrences in \"Ze spraken er niet over (06003.txt)</span>"
      ],
      "text/plain": [
       "<IPython.core.display.Markdown object>"
      ]
     },
     "metadata": {},
     "output_type": "display_data"
    },
    {
     "name": "stdout",
     "output_type": "stream",
     "text": [
      " ... inlandse vrouwen werkten als baboe voor de nederlandse troepen  ... \n",
      "\n"
     ]
    },
    {
     "data": {
      "text/markdown": [
       "<span style='font-weight: bold; color:#6b0617; '>Occurrences in Van moederland naar vaderland (06004.txt)</span>"
      ],
      "text/plain": [
       "<IPython.core.display.Markdown object>"
      ]
     },
     "metadata": {},
     "output_type": "display_data"
    },
    {
     "name": "stdout",
     "output_type": "stream",
     "text": [
      " ... was ik door de baboe op het grasveld neergezet  ... \n",
      "\n",
      " ... veroorloven is er een baboe die het huishouden verzorgt  ... \n",
      "\n",
      " ... het huishouden verzorgt een baboe voor de kinderen en  ... \n",
      "\n"
     ]
    },
    {
     "data": {
      "text/markdown": [
       "<span style='font-weight: bold; color:#6b0617; '>Occurrences in Dat was jij, marinier! : de geschiedenis van de mariniersbrigade 1945-1949 (06006.txt)</span>"
      ],
      "text/plain": [
       "<IPython.core.display.Markdown object>"
      ]
     },
     "metadata": {},
     "output_type": "display_data"
    },
    {
     "name": "stdout",
     "output_type": "stream",
     "text": [
      " ... huisje er kwam een baboe voor de was en  ... \n",
      "\n",
      " ... een koffertje gestopt de baboe en de djongos hadden  ... \n",
      "\n"
     ]
    },
    {
     "data": {
      "text/markdown": [
       "<span style='font-weight: bold; color:#6b0617; '>Occurrences in Gedenkboek 4-11-R.I. (1947) (06007.txt)</span>"
      ],
      "text/plain": [
       "<IPython.core.display.Markdown object>"
      ]
     },
     "metadata": {},
     "output_type": "display_data"
    },
    {
     "name": "stdout",
     "output_type": "stream",
     "text": [
      " ... in de gang bepaalde baboe delen betastte er plannen  ... \n",
      "\n",
      " ... 10 man een verrimpelde baboe toegewezen gekregen die voor  ... \n",
      "\n",
      " ... de kruisen verft n baboe die de graven derft  ... \n",
      "\n",
      " ... fan de kepieën en baboesen en grote en kleine  ... \n",
      "\n",
      " ... het vervoer van 72 baboes brj een snelheid van  ... \n",
      "\n",
      " ... de fanfare de gillende baboe\".de spelers kregen allen een  ... \n",
      "\n",
      " ... seg je tege een baboe as je een erndje  ... \n",
      "\n",
      " ... voor iedere man een baboe page 212 de vuilniston  ... \n",
      "\n",
      " ... met 8 man een baboe toegewezen die voor ons  ... \n",
      "\n",
      " ... we dan aan de baboe die daar reuze blij  ... \n",
      "\n",
      " ... we hebben hier vaste baboes die wonen en slapen  ... \n",
      "\n",
      " ... door ons en de baboes verzorgd worden het zijn  ... \n",
      "\n",
      " ... doen deze in het baboe huis   ... \n",
      "\n",
      " ... de ziekenzaal moeten de baboes meteen aan het werk  ... \n",
      "\n",
      " ... kapotte hei naar dê baboe en vroeg haar boe  ... \n",
      "\n",
      " ... flair^mdt011 h1 lht1ee beeldschone baboe komen aanzetten lair meldde  ... \n",
      "\n",
      " ... nieuwe werkgever voor mijn baboe wast strijkt eet drinkt  ... \n",
      "\n"
     ]
    }
   ],
   "source": [
    "dir = 'corpus'\n",
    "searchTerm = 'baboe'\n",
    "window = 4\n",
    "\n",
    "for file in os.listdir( dir ):\n",
    "    if re.search( '[.]txt$' , file ):\n",
    "        \n",
    "        book = open( join( dir , file ) )\n",
    "        if re.search( searchTerm , book.read() , re.IGNORECASE ):\n",
    "            title = showTitle(file)\n",
    "            printmd(\"<span style='font-weight: bold; color:#6b0617; '>Occurrences in {} ({})</span>\".format( title , file ))\n",
    "\n",
    "            matches = concordance( join( dir , file ) , searchTerm , window )\n",
    "            for match in matches:\n",
    "                print(' ... {} ... \\n'.format( match ) )\n",
    "\n"
   ]
  },
  {
   "cell_type": "markdown",
   "metadata": {},
   "source": [
    "# *Oefening 1*\n",
    "\n",
    "Dubbelklik in de bovenstaade cel. Vervang de waarde van de variabele 'searchTerm' met een zoekterm die mogelijk van belang is voor je eigen onderzoek. Probeer ook de waarde van de variabele 'window' te variëren.  Klik vervolgens op [Shift] + [Enter]"
   ]
  },
  {
   "cell_type": "markdown",
   "metadata": {},
   "source": [
    "## Collocatie\n",
    "\n",
    "Net als bij een concordantie (zie hierboven) richt een collocatie-analyse zich op de context van specifieke zoektermen. Bij een collocatie-analyse worden alle woorden in de context geteld. Op deze manier kan er een beeld ontstaan van de woorden die veel in de omgeving van een specifieke zoekterm worden gebruikt. \n",
    "\n",
    "Variabele '*egodocument*' verwijst naar de tekst die moet worden doorzocht, '*searchTerm*' is de term waarnaar wordt gezicht, en '*window*' bepaalt het aantal woorden voor en na de opgegeven zoekterm. \n",
    "\n",
    "In de onderstaande code wordt ook de functie '_removeStopwords()_' gebruikt. Deze functie heeft als effect dat veelvoorkomende woorden zonder veel betekenis (lidwoorden, voornaamwoorden, voorzetstel) buiten beschouwing worden gelaten.\n",
    "\n",
    "Let er hierbij op dat de analyse zich zich op een specifiek egodocument. In de onderstaande code bepaalt de variabele 'egodocument' in welk bestand wordt gezorgd. In deze context moet er een bestandsnaam worden opgegeven. De code die hierboven wordt gegeven (onder 'zoeken naar een specifieke term') kan helpen bij het vinden van de bestandsnaam. "
   ]
  },
  {
   "cell_type": "code",
   "execution_count": null,
   "metadata": {},
   "outputs": [],
   "source": [
    "egodocument = '03390.txt'\n",
    "dir = 'corpus'\n",
    "searchTerm = 'java'\n",
    "window = 30\n",
    "\n",
    "freq = collocation( join( dir , egodocument ) , searchTerm , window )\n",
    "freq = removeStopwords( freq )\n",
    "\n",
    "sorted_f = sorted( freq , key=lambda x: freq[x])\n",
    "max = 30\n",
    "i = 0\n",
    "\n",
    "\n",
    "print( f'The following words are used most frequently in the vicinity of \"{ searchTerm }\": \\n' )\n",
    "\n",
    "for f in reversed( sorted_f ):\n",
    "    i += 1\n",
    "    print( '{} =>  {}'.format( f , freq[f] ) )\n",
    "    if i == max:\n",
    "        break"
   ]
  },
  {
   "cell_type": "markdown",
   "metadata": {},
   "source": [
    "## *Oefening 2*\n",
    "\n",
    "Voer een collocatie-analyse uit, aan de hand van een zoekterm die van belang kan zijn voor jouw onderzoek. Experimenteer met verschilende waarden voor de variabelen '*searchTerm*', '*egodocument*' en '*window*'"
   ]
  },
  {
   "cell_type": "markdown",
   "metadata": {},
   "source": [
    "## Woordfrequenties\n",
    "\n",
    "\n",
    "Welke woorden komen het meeste voor in een bepaald egodocument? De onderstaande code berekent de frequenties van alle woorden in de tekst die wordt genoemd in de variabele 'egodocument'. Deze code maakt net als bovenstaande code gebruik van de functie '_removeStopWords()_'.\n",
    "\n",
    "Deze frequentie-analyse richt zich, evenals de collocatie-analyse die hierboven is besproken, op één speciefiek egodocument.  \n",
    "\n",
    "De code toont bovendien uitsluitend de 30 meest frequente termen. Het aantal termen dat wordt geprint wordt bepaald door de variabele '*max*'"
   ]
  },
  {
   "cell_type": "code",
   "execution_count": null,
   "metadata": {
    "scrolled": true
   },
   "outputs": [],
   "source": [
    "egodocument = '03391.txt'\n",
    "\n",
    "freq = calculateWordFrequencies( join( dir , egodocument ) )\n",
    "freq = removeStopwords( freq )\n",
    "\n",
    "sorted_f = sorted( freq , key=lambda x: freq[x])\n",
    "max = 30\n",
    "i = 0\n",
    "\n",
    "print( f'The following words occur most frequently in the text { egodocument } ({ showTitle( egodocument )}).\\n' )\n",
    "\n",
    "\n",
    "for f in reversed( sorted_f ):\n",
    "    i += 1\n",
    "    print( '{} =>  {}'.format( f , freq[f] ) )\n",
    "    if i == max:\n",
    "        break"
   ]
  },
  {
   "cell_type": "markdown",
   "metadata": {},
   "source": [
    "## *Oefening 3*\n",
    "\n",
    "Bepaal de meet frequente woorden in een van de egodocumenten in het corpus van \"Soldaat in Indonesie\". Experimenteer met verschilende waarden voor de variabelen '*egodocument*' en '*max*'."
   ]
  },
  {
   "cell_type": "markdown",
   "metadata": {},
   "source": [
    "## Het maken van een export\n",
    "\n",
    "In de code die tot nu toe is besproken worden de resultaten van de code simpelweg getoond in dit notebook. Het kan uiteraard ook nuttig zijn om de resutaten te exporteren naar een tekstbestand, zodat deze resultaten dan ook weer in andere programma's kunnen worden bekeken of worden geanayseerd. \n",
    "\n",
    "In de onderstaande code worden de resultaten van de concordantie-analyse en van de frequentie-analyse weggeschreven als tekstbestanden. De bestanden worden aangemaakt op dezelfde plaats als waar dit notebook is opgeslagen. De bestandsnamen worden bepaald door de variabelen 'out1' en out2."
   ]
  },
  {
   "cell_type": "code",
   "execution_count": null,
   "metadata": {},
   "outputs": [],
   "source": [
    "out1 = 'concordantie.txt'\n",
    "\n",
    "\n",
    "### Bestand 1\n",
    "\n",
    "outFile = open( out1 , 'w')\n",
    "\n",
    "dir = 'corpus'\n",
    "searchTerm = 'baboe'\n",
    "window = 4\n",
    "\n",
    "for file in os.listdir( dir ):\n",
    "    if re.search( '[.]txt$' , file ):\n",
    "        \n",
    "        book = open( join( dir , file ) )\n",
    "        if re.search( searchTerm , book.read() , re.IGNORECASE ):\n",
    "            title = showTitle(file)\n",
    "            \n",
    "            outFile.write( '\\n\\nOccurrences in {} ({}):\\n\\n'.format( title , file ) )\n",
    "\n",
    "            matches = concordance( join( dir , file ) , searchTerm , window )\n",
    "            for match in matches:\n",
    "                outFile.write(match)\n",
    "\n",
    "outFile.close()\n"
   ]
  },
  {
   "cell_type": "code",
   "execution_count": null,
   "metadata": {},
   "outputs": [],
   "source": [
    "out2 = 'frequentie.csv'\n",
    "outFile = open( out2 , 'w')\n",
    "\n",
    "egodocument = '03391.txt'\n",
    "\n",
    "freq = calculateWordFrequencies( join( dir , egodocument ) )\n",
    "freq = removeStopwords( freq )\n",
    "\n",
    "sorted_f = sorted( freq , key=lambda x: freq[x])\n",
    "max = 30\n",
    "i = 0\n",
    "\n",
    "outFile.write( 'term,frequency\\n' )\n",
    "\n",
    "\n",
    "for f in reversed( sorted_f ):\n",
    "    i += 1\n",
    "    outFile.write( '{},{}\\n'.format( f , freq[f] ) )\n",
    "    if i == max:\n",
    "        break\n",
    "        \n",
    "outFile.close()"
   ]
  },
  {
   "cell_type": "markdown",
   "metadata": {},
   "source": [
    "## *Oefening 4*\n",
    "\n",
    "Probeer twee exports te maken van onderzoeksdata die relevant lijken voor jouw onderzoek."
   ]
  },
  {
   "cell_type": "code",
   "execution_count": null,
   "metadata": {},
   "outputs": [],
   "source": []
  }
 ],
 "metadata": {
  "kernelspec": {
   "display_name": "Python 3",
   "language": "python",
   "name": "python3"
  },
  "language_info": {
   "codemirror_mode": {
    "name": "ipython",
    "version": 3
   },
   "file_extension": ".py",
   "mimetype": "text/x-python",
   "name": "python",
   "nbconvert_exporter": "python",
   "pygments_lexer": "ipython3",
   "version": "3.7.2"
  }
 },
 "nbformat": 4,
 "nbformat_minor": 1
}
