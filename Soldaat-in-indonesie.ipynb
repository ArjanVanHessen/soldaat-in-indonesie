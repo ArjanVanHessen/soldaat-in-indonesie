{
 "cells": [
  {
   "cell_type": "markdown",
   "metadata": {},
   "source": [
    "# Zoeken op basis van Text & Data Mining\n",
    "\n",
    "\n",
    "## installeren en importeren van modules\n",
    "\n",
    "In dit tutorial vind je uitleg over hoe je het corpus van \"Soldaat in Indonesie\" kunt doorzoeken op basis van Text & Data Mining. Er wordt hierbij gebruik gemaakt van de programmeertaal Python. Dit tutorial is echter geen basisintroductie tot programmeren in Python. De voorbeelden hieronder laten alleen zien hoe je het corpus kunt doorzoeken met behulp van bestaande modules en bibliotheken. Modules zijn kant en klare en herbruikbare ‘pakketjes’ code waarin specifieke functionaliteiten worden aangeboden. De meeste modules zijn generiek, en kunnen dus op verschillende datasets worden toegepast.\n",
    "\n",
    "Voordat je van deze modules gebruik kunt maken moet je ze eerst installeren. Modules en bibliotheken kunnen via de onderstaande commando's worden geinstalleerd. Plaats de cursor in de onderstaande cel staan, en klik daarna op [shift] + [Enter]. Hierna verschijnen er, als het goed is, een aantal meldingen over het installatieproces.\n"
   ]
  },
  {
   "cell_type": "code",
   "execution_count": null,
   "metadata": {},
   "outputs": [],
   "source": [
    "import sys\n",
    "!conda install --yes --prefix {sys.prefix} os\n",
    "!conda install --yes --prefix {sys.prefix} nltk\n",
    "!conda install --yes --prefix {sys.prefix} wordcloud\n",
    "!conda install --yes --prefix {sys.prefix} matplotlib"
   ]
  },
  {
   "cell_type": "markdown",
   "metadata": {},
   "source": [
    "In dit tutorial wordt onder meer gebruik gemaakt van de module ‘os’. Deze module biedt een aantal functies waarmee je contact kunt maken met het besturingssysteem van je computer (de letters in 'os' staan voor 'operating system'). Met de functies in deze module kun je onder meer de inhoud van een map op je computer lezen. \n",
    "\n",
    "'nltk' is een verzameling modules die je kunt gebruiken bij analyses op het gebied van Natural Language Processing. Zo kun je paragrafen op laten splitsen in afzonderlijke zinnen, je kunt de stam van een woord of een werkwoord vinden, en je kunt de computer vragen om grammaticale categorieën toe te voegen aan woorden.\n",
    "\n",
    "Als alle modules correct zijn geinstelleerd kunnen deze worden geimporteerd. Zo'n import zorgt er vervolgens voor dat alle code ook in het huidige programma gebruikt kunnen worden. \n",
    "\n",
    "Plaats de cursor in de onderstaande cel staan, en klik daarna op [shift] + [Enter]. Als alle modules goed zijn geinstalleerd verschijnen er hierna geen meldingen. "
   ]
  },
  {
   "cell_type": "code",
   "execution_count": null,
   "metadata": {},
   "outputs": [],
   "source": [
    "import os\n",
    "from os.path import isfile, join , isdir\n",
    "import string\n",
    "import nltk\n",
    "from nltk.tokenize import sent_tokenize, word_tokenize\n",
    "import xml.etree.ElementTree as ET\n",
    "import matplotlib.pyplot as plt\n",
    "from kitlvTdm import *"
   ]
  },
  {
   "cell_type": "markdown",
   "metadata": {},
   "source": [
    "De module ‘kitlvTdm’ is specifiek ontwikkeld voor dit KITLV corpus van memoires en bevat een aantal basisoperaties op het gebied van Text & Data Mining.\n"
   ]
  },
  {
   "cell_type": "markdown",
   "metadata": {},
   "source": [
    "## Zoeken naar een specifieke term\n",
    "\n",
    "De onderstaande code laat zien hoe je op zoek kunt gaan naar egodocumenten die een bepaald trefwoord bevatten. Het woord dat gezocht moet worden moet worden opgegeven als waarde van de variable '*searchTerm*'. De waarde van de variabele '*searchTerm*', tussen de twee aanhalingstekens, kan worden aangepast. \n",
    "\n",
    "Er wordt in de onderstaande code gebruik gemaakt van de module 're', waarmee je kunt zoeken naar zogenaamde reguliere expressies of woordpatronen. Wanneer de code wordt uitgevoerd toont het programma een lijst van alle documenten waar de term die is opgegeven in voorkomt. \n",
    "\n",
    "Tijdens het digitaliseren van de egocumenten in het corpus van 'Soldaat in Indonesië' hebben alle documenten een eigen numerieke code gekregen. Deze codes zijn ook gebruikt in de bestandsnamen. De functie '*showTitle()*', in de module kitlvTdm, zoekt de volledige titles bij deze documentcodes. Er wordt hierbij gebruik gemaakt van een bestand met de naam '*metadata.csv*'."
   ]
  },
  {
   "cell_type": "code",
   "execution_count": null,
   "metadata": {},
   "outputs": [],
   "source": [
    "searchTerm = 'molukker'\n",
    "\n",
    "dir = 'corpus'\n",
    "\n",
    "print( 'The term \\'{}\\' occurs in the following titles:\\n'.format( searchTerm ) )\n",
    "\n",
    "for file in os.listdir( dir ):\n",
    "    if re.search( '[.]txt$' , file ):\n",
    "        egodocument = open( join( dir , file ) )\n",
    "        if re.search( searchTerm , egodocument.read() ):\n",
    "            print(  file + ': ' + showTitle( file )  )\n"
   ]
  },
  {
   "cell_type": "markdown",
   "metadata": {},
   "source": [
    "## *Oefening 1*\n",
    "\n",
    "Dubbelklik in de bovenstaade cel. Vervang de waarde van de variabele 'searchTerm' met een zoekterm die mogelijk van belang is voor je eigen onderzoek. Klik vervolgens op [Shift] + [Enter]"
   ]
  },
  {
   "cell_type": "markdown",
   "metadata": {},
   "source": [
    "Met de onderstaande code kunnen alle paragrafen waar de opgegeven zoekterm in voorkomt worden gevonden. De variabele \"searchTerm\" bepaalt de zoekterm, en de variable \"file\" geeft de bestandsnaam aan. "
   ]
  },
  {
   "cell_type": "code",
   "execution_count": null,
   "metadata": {},
   "outputs": [],
   "source": [
    "searchTerm = 'molukker'\n",
    "\n",
    "dir = 'corpus'\n",
    "file = '03391.txt'\n",
    "\n",
    "print(  'All occurrences of \"{}\" in \"{}\":\\n\\n'.format( searchTerm , showTitle( file ) ) )\n",
    "\n",
    "\n",
    "egodocument = open( join( dir , file ) )\n",
    "for par in egodocument:\n",
    "    if re.search( searchTerm , par ):\n",
    "            print(  par  )"
   ]
  },
  {
   "cell_type": "markdown",
   "metadata": {},
   "source": [
    "## *Oefening 2*\n",
    "\n",
    "Vervang de waarde van de variabelen \"searchTerm\" en \"file\", op basis van de resultaten van oefening 1. "
   ]
  },
  {
   "cell_type": "markdown",
   "metadata": {},
   "source": [
    "## Concordantie\n",
    "\n",
    "Om de relevante passages te bekijken kan eveneens gebruik worden gemaakt van een een concordantie (of een keyword-in-context-list). Dit is een lijst van alle fragmenten waar het genoemde trefwoord in voorkomt, met een vast aantal wooren voor en een vast aantal woorden na het trefwoord.\n",
    "\n",
    "In de onderstaande code moet er op de eerste plaats een zoekterm worden opgegeven, als waarde van de variabele *searchTerm*. De omvang van de context (het aantal woorden voor en na het trefwoord) moet worden vastgelegd via de variabele 'window'. "
   ]
  },
  {
   "cell_type": "code",
   "execution_count": null,
   "metadata": {},
   "outputs": [],
   "source": [
    "dir = 'corpus'\n",
    "\n",
    "searchTerm = 'baboe'\n",
    "window = 2\n",
    "\n",
    "for file in os.listdir( dir ):\n",
    "    if re.search( '[.]txt$' , file ):\n",
    "        book = open( join( dir , file ) )\n",
    "        if re.search( searchTerm , book.read() , re.IGNORECASE ):\n",
    "            \n",
    "            print( '\\n\\nOccurrences in: ' + showTitle( file ) + '\\n\\n' )\n",
    "\n",
    "            matches = concordance( join( dir , file ) , searchTerm , window )\n",
    "            for match in matches:\n",
    "                print(match)\n",
    "\n"
   ]
  },
  {
   "cell_type": "markdown",
   "metadata": {},
   "source": [
    "## *Oefening 3*\n",
    "\n",
    "Maak een concordantielijst voor een zoekterm die van belang kan zijn voor jouw onderzoek. Experimenteer met verschilende waarden voor de variabelen '*searchTerm*' en '*window*'"
   ]
  },
  {
   "cell_type": "markdown",
   "metadata": {},
   "source": [
    "## Collocatie\n",
    "\n",
    "Net als bij een concordantie (zie hierboven) richt een collocatie-analyse zich op de context van specifieke zoektermen. Bij een collocatie-analyse worden alle woorden in de context geteld. Op deze manier kan er een beeld ontstaan van de woorden die veel in de omgeving van een specifieke zoekterm worden gebruikt. \n",
    "\n",
    "Variabele '*egodocument*' verwijst naar de tekst die moet worden doorzocht, '*searchTerm*' is de term waarnaar wordt gezicht, en '*window*' bepaalt het aantal woorden voor en na de opgegeven zoekterm. \n",
    "\n",
    "In de onderstaande code wordt ook de functie '_removeStopwords()_' gebruikt. Deze functie heeft als effect dat veelvoorkomende woorden zonder veel betekenis (lidwoorden, voornaamwoorden, voorzetstel) buiten beschouwing worden gelaten."
   ]
  },
  {
   "cell_type": "code",
   "execution_count": null,
   "metadata": {},
   "outputs": [],
   "source": [
    "egodocument = '03390.txt'\n",
    "dir = 'corpus'\n",
    "searchTerm = 'java'\n",
    "window = 30\n",
    "\n",
    "freq = collocation( join( dir , egodocument ) , searchTerm , window )\n",
    "freq = removeStopwords( freq )\n",
    "\n",
    "sorted_f = sorted( freq , key=lambda x: freq[x])\n",
    "max = 30\n",
    "i = 0\n",
    "\n",
    "\n",
    "print( f'The following words are used most frequently in the vicinity of \"{ searchTerm }\": \\n' )\n",
    "\n",
    "for f in reversed( sorted_f ):\n",
    "    i += 1\n",
    "    print( '{} =>  {}'.format( f , freq[f] ) )\n",
    "    if i == max:\n",
    "        break"
   ]
  },
  {
   "cell_type": "markdown",
   "metadata": {},
   "source": [
    "## *Oefening 4*\n",
    "\n",
    "Voer een collocatie-analyse uit, aan de hand van een zoekterm die van belang kan zijn voor jouw onderzoek. Experimenteer met verschilende waarden voor de variabelen '*searchTerm*', '*egodocument*' en '*window*'"
   ]
  },
  {
   "cell_type": "markdown",
   "metadata": {},
   "source": [
    "## Woordfrequenties\n",
    "\n",
    "\n",
    "Welke woorden komen het meeste voor in een bepaald egodocument? De onderstaande code berekent de woorden die het meeste voorkomen in de tekst die wordt genoemd in de variabele 'egodocument'. Deze code maakt net als bovenstaande code gebruik van de functie '_removeStopWords()_'."
   ]
  },
  {
   "cell_type": "code",
   "execution_count": null,
   "metadata": {
    "scrolled": true
   },
   "outputs": [],
   "source": [
    "egodocument = '03391.txt'\n",
    "\n",
    "freq = calculateWordFrequencies( join( dir , egodocument ) )\n",
    "freq = removeStopwords( freq )\n",
    "\n",
    "sorted_f = sorted( freq , key=lambda x: freq[x])\n",
    "max = 30\n",
    "i = 0\n",
    "\n",
    "print( f'The following words occur most frequently in the text { egodocument } ({ showTitle( egodocument )}).\\n' )\n",
    "\n",
    "\n",
    "for f in reversed( sorted_f ):\n",
    "    i += 1\n",
    "    print( '{} =>  {}'.format( f , freq[f] ) )\n",
    "    if i == max:\n",
    "        break"
   ]
  },
  {
   "cell_type": "markdown",
   "metadata": {},
   "source": [
    "## *Oefening 5*\n",
    "\n",
    "Bepaal de meet frequente woorden in een van de egodocumenten in het corpus van \"Soldaat in Indonesie\". Experimenteer met verschilende waarden voor de variabelen '*egodocument*'."
   ]
  }
 ],
 "metadata": {
  "kernelspec": {
   "display_name": "Python 3",
   "language": "python",
   "name": "python3"
  },
  "language_info": {
   "codemirror_mode": {
    "name": "ipython",
    "version": 3
   },
   "file_extension": ".py",
   "mimetype": "text/x-python",
   "name": "python",
   "nbconvert_exporter": "python",
   "pygments_lexer": "ipython3",
   "version": "3.7.2"
  }
 },
 "nbformat": 4,
 "nbformat_minor": 1
}
